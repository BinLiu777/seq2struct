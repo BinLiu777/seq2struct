{
 "cells": [
  {
   "cell_type": "code",
   "execution_count": 2,
   "metadata": {},
   "outputs": [],
   "source": [
    "import json\n",
    "import os\n",
    "import re\n",
    "import glob\n",
    "\n",
    "import pandas as pd"
   ]
  },
  {
   "cell_type": "code",
   "execution_count": 4,
   "metadata": {
    "scrolled": true
   },
   "outputs": [
    {
     "name": "stdout",
     "output_type": "stream",
     "text": [
      "../logdirs/20190315-sketch/upd_steps=0,max_steps=40000,batch_size=10\n",
      "../logdirs/20190315-sketch/upd_steps=0,max_steps=40000,batch_size=20\n",
      "../logdirs/20190315-sketch/upd_steps=0,max_steps=80000,batch_size=10\n",
      "../logdirs/20190315-sketch/upd_steps=0,max_steps=80000,batch_size=20\n",
      "../logdirs/20190315-sketch/upd_steps=4,max_steps=40000,batch_size=10\n",
      "../logdirs/20190315-sketch/upd_steps=4,max_steps=40000,batch_size=20\n",
      "../logdirs/20190315-sketch/upd_steps=4,max_steps=80000,batch_size=10\n",
      "../logdirs/20190315-sketch/upd_steps=4,max_steps=80000,batch_size=20\n"
     ]
    }
   ],
   "source": [
    "rows = []\n",
    "for d in sorted(glob.glob('../logdirs/20190315-sketch/*')):\n",
    "    exp_name = os.path.basename(d)\n",
    "    upd_steps, max_steps, batch_size = re.match(\n",
    "        'upd_steps=(\\d+),max_steps=(\\d+),batch_size=(\\d+)', exp_name).groups()\n",
    "\n",
    "    eval_paths = glob.glob(os.path.join(d, 'eval-val-step*-bs1.jsonl'))\n",
    "    all_scores = []\n",
    "    best = (0, 0)\n",
    "    for eval_path in eval_paths:\n",
    "        step = int(re.search('step(\\d+)', eval_path).group(1))\n",
    "        scores = json.load(open(eval_path))\n",
    "        #best = max(best, (scores['total_scores']['all']['exact'], step))\n",
    "        all_scores.append((scores['total_scores']['all']['exact'], step))\n",
    "    all_scores.sort(reverse=True)\n",
    "    if len(all_scores) == 0:\n",
    "        all_scores = [(0, 0)]\n",
    "    if len(all_scores) < 2:\n",
    "        all_scores += all_scores\n",
    "    rows.append((upd_steps, max_steps, batch_size, len(eval_paths),\n",
    "                 all_scores[0][1], all_scores[0][0], all_scores[1][1], all_scores[1][0]))\n",
    "    print(d)\n",
    "df = pd.DataFrame(rows, columns=('upd_steps', 'max_steps', 'batch_size', 'num steps eval', 'step', 'acc', 'step', 'acc'))"
   ]
  },
  {
   "cell_type": "code",
   "execution_count": 6,
   "metadata": {},
   "outputs": [
    {
     "data": {
      "text/html": [
       "<div>\n",
       "<style scoped>\n",
       "    .dataframe tbody tr th:only-of-type {\n",
       "        vertical-align: middle;\n",
       "    }\n",
       "\n",
       "    .dataframe tbody tr th {\n",
       "        vertical-align: top;\n",
       "    }\n",
       "\n",
       "    .dataframe thead th {\n",
       "        text-align: right;\n",
       "    }\n",
       "</style>\n",
       "<table border=\"1\" class=\"dataframe\">\n",
       "  <thead>\n",
       "    <tr style=\"text-align: right;\">\n",
       "      <th></th>\n",
       "      <th>upd_steps</th>\n",
       "      <th>max_steps</th>\n",
       "      <th>batch_size</th>\n",
       "      <th>num steps eval</th>\n",
       "      <th>step</th>\n",
       "      <th>acc</th>\n",
       "      <th>step</th>\n",
       "      <th>acc</th>\n",
       "    </tr>\n",
       "  </thead>\n",
       "  <tbody>\n",
       "    <tr>\n",
       "      <th>0</th>\n",
       "      <td>0</td>\n",
       "      <td>40000</td>\n",
       "      <td>10</td>\n",
       "      <td>20</td>\n",
       "      <td>38100</td>\n",
       "      <td>0.624758</td>\n",
       "      <td>32100</td>\n",
       "      <td>0.621857</td>\n",
       "    </tr>\n",
       "    <tr>\n",
       "      <th>1</th>\n",
       "      <td>0</td>\n",
       "      <td>40000</td>\n",
       "      <td>20</td>\n",
       "      <td>20</td>\n",
       "      <td>10100</td>\n",
       "      <td>0.642166</td>\n",
       "      <td>38100</td>\n",
       "      <td>0.636364</td>\n",
       "    </tr>\n",
       "    <tr>\n",
       "      <th>2</th>\n",
       "      <td>0</td>\n",
       "      <td>80000</td>\n",
       "      <td>10</td>\n",
       "      <td>38</td>\n",
       "      <td>8100</td>\n",
       "      <td>0.627660</td>\n",
       "      <td>10100</td>\n",
       "      <td>0.618956</td>\n",
       "    </tr>\n",
       "    <tr>\n",
       "      <th>3</th>\n",
       "      <td>0</td>\n",
       "      <td>80000</td>\n",
       "      <td>20</td>\n",
       "      <td>21</td>\n",
       "      <td>10100</td>\n",
       "      <td>0.641199</td>\n",
       "      <td>12100</td>\n",
       "      <td>0.628627</td>\n",
       "    </tr>\n",
       "    <tr>\n",
       "      <th>4</th>\n",
       "      <td>4</td>\n",
       "      <td>40000</td>\n",
       "      <td>10</td>\n",
       "      <td>20</td>\n",
       "      <td>40000</td>\n",
       "      <td>0.630561</td>\n",
       "      <td>34100</td>\n",
       "      <td>0.630561</td>\n",
       "    </tr>\n",
       "    <tr>\n",
       "      <th>5</th>\n",
       "      <td>4</td>\n",
       "      <td>40000</td>\n",
       "      <td>20</td>\n",
       "      <td>2</td>\n",
       "      <td>4100</td>\n",
       "      <td>0.542553</td>\n",
       "      <td>2100</td>\n",
       "      <td>0.488395</td>\n",
       "    </tr>\n",
       "    <tr>\n",
       "      <th>6</th>\n",
       "      <td>4</td>\n",
       "      <td>80000</td>\n",
       "      <td>10</td>\n",
       "      <td>36</td>\n",
       "      <td>70100</td>\n",
       "      <td>0.648936</td>\n",
       "      <td>68100</td>\n",
       "      <td>0.647969</td>\n",
       "    </tr>\n",
       "    <tr>\n",
       "      <th>7</th>\n",
       "      <td>4</td>\n",
       "      <td>80000</td>\n",
       "      <td>20</td>\n",
       "      <td>24</td>\n",
       "      <td>32100</td>\n",
       "      <td>0.624758</td>\n",
       "      <td>28100</td>\n",
       "      <td>0.623791</td>\n",
       "    </tr>\n",
       "  </tbody>\n",
       "</table>\n",
       "</div>"
      ],
      "text/plain": [
       "  upd_steps max_steps batch_size  num steps eval   step       acc   step  \\\n",
       "0         0     40000         10              20  38100  0.624758  32100   \n",
       "1         0     40000         20              20  10100  0.642166  38100   \n",
       "2         0     80000         10              38   8100  0.627660  10100   \n",
       "3         0     80000         20              21  10100  0.641199  12100   \n",
       "4         4     40000         10              20  40000  0.630561  34100   \n",
       "5         4     40000         20               2   4100  0.542553   2100   \n",
       "6         4     80000         10              36  70100  0.648936  68100   \n",
       "7         4     80000         20              24  32100  0.624758  28100   \n",
       "\n",
       "        acc  \n",
       "0  0.621857  \n",
       "1  0.636364  \n",
       "2  0.618956  \n",
       "3  0.628627  \n",
       "4  0.630561  \n",
       "5  0.488395  \n",
       "6  0.647969  \n",
       "7  0.623791  "
      ]
     },
     "execution_count": 6,
     "metadata": {},
     "output_type": "execute_result"
    }
   ],
   "source": [
    "df"
   ]
  },
  {
   "cell_type": "code",
   "execution_count": 7,
   "metadata": {},
   "outputs": [],
   "source": [
    "best_stats = json.load(\n",
    "    open('../logdirs/20190315-sketch/upd_steps=4,max_steps=80000,batch_size=10/eval-val-step68100-bs1.jsonl'))"
   ]
  },
  {
   "cell_type": "code",
   "execution_count": 8,
   "metadata": {},
   "outputs": [
    {
     "data": {
      "text/plain": [
       "{'count': 1034,\n",
       " 'exact': 0.6479690522243714,\n",
       " 'exec': 0,\n",
       " 'partial': {'IUEN': {'acc': 0.4875,\n",
       "   'acc_count': 80,\n",
       "   'f1': 0.49367088607594933,\n",
       "   'rec': 0.5,\n",
       "   'rec_count': 78},\n",
       "  'and/or': {'acc': 0.9605662285136501,\n",
       "   'acc_count': 989,\n",
       "   'f1': 0.9557344064386318,\n",
       "   'rec': 0.950950950950951,\n",
       "   'rec_count': 999},\n",
       "  'group': {'acc': 0.8423076923076923,\n",
       "   'acc_count': 260,\n",
       "   'f1': 0.8279773156899811,\n",
       "   'rec': 0.8141263940520446,\n",
       "   'rec_count': 269},\n",
       "  'group(no Having)': {'acc': 0.8730769230769231,\n",
       "   'acc_count': 260,\n",
       "   'f1': 0.8582230623818524,\n",
       "   'rec': 0.8438661710037175,\n",
       "   'rec_count': 269},\n",
       "  'keywords': {'acc': 0.7377232142857143,\n",
       "   'acc_count': 896,\n",
       "   'f1': 0.7502837684449489,\n",
       "   'rec': 0.7632794457274826,\n",
       "   'rec_count': 866},\n",
       "  'order': {'acc': 0.7533632286995515,\n",
       "   'acc_count': 223,\n",
       "   'f1': 0.7304347826086957,\n",
       "   'rec': 0.7088607594936709,\n",
       "   'rec_count': 237},\n",
       "  'select': {'acc': 0.9148936170212766,\n",
       "   'acc_count': 1034,\n",
       "   'f1': 0.9148936170212766,\n",
       "   'rec': 0.9148936170212766,\n",
       "   'rec_count': 1034},\n",
       "  'select(no AGG)': {'acc': 0.9487427466150871,\n",
       "   'acc_count': 1034,\n",
       "   'f1': 0.9487427466150871,\n",
       "   'rec': 0.9487427466150871,\n",
       "   'rec_count': 1034},\n",
       "  'where': {'acc': 0.599250936329588,\n",
       "   'acc_count': 534,\n",
       "   'f1': 0.6336633663366338,\n",
       "   'rec': 0.6722689075630253,\n",
       "   'rec_count': 476},\n",
       "  'where(no OP)': {'acc': 0.6779026217228464,\n",
       "   'acc_count': 534,\n",
       "   'f1': 0.7168316831683167,\n",
       "   'rec': 0.7605042016806722,\n",
       "   'rec_count': 476}}}"
      ]
     },
     "execution_count": 8,
     "metadata": {},
     "output_type": "execute_result"
    }
   ],
   "source": [
    "best_stats['total_scores']['all']"
   ]
  },
  {
   "cell_type": "code",
   "execution_count": 11,
   "metadata": {},
   "outputs": [],
   "source": [
    "infer_stats = [json.loads(\n",
    "    l) for l in open('../logdirs/20190315-sketch/upd_steps=4,max_steps=80000,batch_size=10/infer-val-step68100-bs1.jsonl')]"
   ]
  },
  {
   "cell_type": "code",
   "execution_count": 13,
   "metadata": {},
   "outputs": [
    {
     "data": {
      "text/plain": [
       "'SELECT Count(some_col) FROM stadium'"
      ]
     },
     "execution_count": 13,
     "metadata": {},
     "output_type": "execute_result"
    }
   ],
   "source": [
    "infer_stats[1]['beams'][0]['inferred_code']"
   ]
  },
  {
   "cell_type": "code",
   "execution_count": 29,
   "metadata": {},
   "outputs": [
    {
     "name": "stdout",
     "output_type": "stream",
     "text": [
      "6\n",
      "18\n",
      "19\n",
      "24\n",
      "25\n",
      "29\n",
      "30\n",
      "45\n",
      "48\n",
      "51\n",
      "52\n",
      "55\n",
      "61\n",
      "62\n",
      "63\n",
      "64\n",
      "65\n",
      "66\n",
      "68\n",
      "69\n",
      "75\n",
      "76\n",
      "79\n",
      "80\n",
      "83\n",
      "84\n",
      "86\n",
      "88\n",
      "96\n",
      "101\n",
      "102\n",
      "104\n",
      "115\n",
      "117\n",
      "118\n",
      "119\n",
      "124\n",
      "129\n",
      "130\n",
      "131\n",
      "132\n",
      "135\n",
      "147\n",
      "148\n",
      "151\n",
      "152\n",
      "153\n",
      "154\n",
      "157\n",
      "158\n",
      "159\n",
      "160\n",
      "161\n",
      "166\n",
      "167\n",
      "168\n",
      "170\n",
      "171\n",
      "172\n",
      "174\n",
      "177\n",
      "178\n",
      "179\n",
      "180\n",
      "182\n",
      "189\n",
      "197\n",
      "215\n",
      "217\n",
      "243\n",
      "244\n",
      "257\n",
      "258\n",
      "265\n",
      "266\n",
      "269\n",
      "280\n",
      "289\n",
      "290\n",
      "293\n",
      "294\n",
      "327\n",
      "346\n",
      "363\n",
      "377\n",
      "378\n",
      "380\n",
      "391\n",
      "392\n",
      "410\n",
      "413\n",
      "417\n",
      "418\n",
      "420\n",
      "422\n",
      "423\n",
      "424\n",
      "427\n",
      "435\n",
      "436\n",
      "440\n",
      "457\n",
      "458\n",
      "465\n",
      "467\n",
      "485\n",
      "501\n",
      "504\n",
      "507\n",
      "512\n",
      "521\n",
      "533\n",
      "534\n",
      "535\n",
      "536\n",
      "544\n",
      "554\n",
      "559\n",
      "560\n",
      "563\n",
      "567\n",
      "568\n",
      "569\n",
      "584\n",
      "592\n",
      "595\n",
      "598\n",
      "601\n",
      "602\n",
      "609\n",
      "611\n",
      "613\n",
      "615\n",
      "616\n",
      "617\n",
      "618\n",
      "619\n",
      "621\n",
      "623\n",
      "625\n",
      "626\n",
      "629\n",
      "630\n",
      "633\n",
      "634\n",
      "635\n",
      "636\n",
      "637\n",
      "638\n",
      "641\n",
      "642\n",
      "643\n",
      "644\n",
      "645\n",
      "651\n",
      "652\n",
      "662\n",
      "684\n",
      "695\n",
      "697\n",
      "712\n",
      "719\n",
      "722\n",
      "723\n",
      "724\n",
      "725\n",
      "726\n",
      "732\n",
      "738\n",
      "739\n",
      "744\n",
      "745\n",
      "748\n",
      "756\n",
      "757\n",
      "762\n",
      "763\n",
      "764\n",
      "765\n",
      "766\n",
      "767\n",
      "768\n",
      "769\n",
      "770\n",
      "771\n",
      "772\n",
      "773\n",
      "774\n",
      "775\n",
      "776\n",
      "777\n",
      "778\n",
      "779\n",
      "780\n",
      "781\n",
      "782\n",
      "784\n",
      "785\n",
      "786\n",
      "787\n",
      "792\n",
      "795\n",
      "796\n",
      "798\n",
      "799\n",
      "808\n",
      "809\n",
      "818\n",
      "820\n",
      "830\n",
      "831\n",
      "841\n",
      "846\n",
      "847\n",
      "860\n",
      "897\n",
      "898\n",
      "899\n",
      "900\n",
      "901\n",
      "910\n",
      "914\n",
      "915\n",
      "918\n",
      "919\n",
      "921\n",
      "924\n",
      "925\n",
      "926\n",
      "927\n",
      "928\n",
      "929\n",
      "932\n",
      "936\n",
      "937\n",
      "944\n",
      "954\n",
      "955\n",
      "959\n",
      "960\n",
      "961\n",
      "966\n",
      "967\n",
      "968\n",
      "969\n",
      "976\n",
      "979\n",
      "981\n",
      "982\n",
      "984\n",
      "985\n",
      "996\n",
      "998\n"
     ]
    }
   ],
   "source": [
    "for i in range(6, 1000):\n",
    "    if best_stats['per_item'][i]['partial']['where']['acc'] == 0:\n",
    "        print(i)"
   ]
  },
  {
   "cell_type": "code",
   "execution_count": 26,
   "metadata": {},
   "outputs": [
    {
     "data": {
      "text/plain": [
       "6"
      ]
     },
     "execution_count": 26,
     "metadata": {},
     "output_type": "execute_result"
    }
   ],
   "source": [
    "i"
   ]
  },
  {
   "cell_type": "code",
   "execution_count": 27,
   "metadata": {},
   "outputs": [
    {
     "data": {
      "text/plain": [
       "'SELECT some_col, some_col FROM stadium WHERE some_col = (SELECT Min(some_col) FROM stadium)'"
      ]
     },
     "execution_count": 27,
     "metadata": {},
     "output_type": "execute_result"
    }
   ],
   "source": [
    "infer_stats[18]['beams'][0]['inferred_code']"
   ]
  },
  {
   "cell_type": "code",
   "execution_count": 52,
   "metadata": {},
   "outputs": [],
   "source": [
    "dev = json.load(open('../data/spider-20190205/dev.json'))"
   ]
  },
  {
   "cell_type": "code",
   "execution_count": 71,
   "metadata": {},
   "outputs": [],
   "source": [
    "num_total = 0\n",
    "num_exact_match = 0\n",
    "num_exact_or_exec_match = 0\n",
    "num_errors = 0\n",
    "num_errors_no_exact_match = 0\n",
    "\n",
    "search_recovered_indices = []\n",
    "search_failed_indices = []\n",
    "\n",
    "sketch_search_results = {}\n",
    "for line in open('../logdirs/20190315-sketch/upd_steps=4,max_steps=80000,batch_size=10/sketch-search-step68100-bs1.jsonl'):\n",
    "    result = json.loads(line)\n",
    "    num_total += 1\n",
    "    sketch_exact_match = bool(best_stats['per_item'][result['index']]['exact'])\n",
    "    num_exact_match += sketch_exact_match\n",
    "    num_exact_or_exec_match += sketch_exact_match or bool(result['correct_sqls'])\n",
    "    num_errors += bool(result['error'])\n",
    "    num_errors_no_exact_match += not sketch_exact_match and bool(result['error'])\n",
    "    \n",
    "    if not sketch_exact_match:\n",
    "        if bool(result['correct_sqls']):\n",
    "            search_recovered_indices.append(result['index'])\n",
    "        else:\n",
    "            search_failed_indices.append(result['index'])\n",
    "\n",
    "    sketch_search_results[result['index']] = result"
   ]
  },
  {
   "cell_type": "code",
   "execution_count": 72,
   "metadata": {},
   "outputs": [
    {
     "data": {
      "text/plain": [
       "1032"
      ]
     },
     "execution_count": 72,
     "metadata": {},
     "output_type": "execute_result"
    }
   ],
   "source": [
    "num_total"
   ]
  },
  {
   "cell_type": "code",
   "execution_count": 73,
   "metadata": {},
   "outputs": [
    {
     "data": {
      "text/plain": [
       "0.6472868217054264"
      ]
     },
     "execution_count": 73,
     "metadata": {},
     "output_type": "execute_result"
    }
   ],
   "source": [
    "num_exact_match / num_total"
   ]
  },
  {
   "cell_type": "code",
   "execution_count": 74,
   "metadata": {},
   "outputs": [
    {
     "data": {
      "text/plain": [
       "0.7238372093023255"
      ]
     },
     "execution_count": 74,
     "metadata": {},
     "output_type": "execute_result"
    }
   ],
   "source": [
    "num_exact_or_exec_match / num_total"
   ]
  },
  {
   "cell_type": "code",
   "execution_count": 75,
   "metadata": {},
   "outputs": [
    {
     "data": {
      "text/plain": [
       "0.14631782945736435"
      ]
     },
     "execution_count": 75,
     "metadata": {},
     "output_type": "execute_result"
    }
   ],
   "source": [
    "num_errors / num_total"
   ]
  },
  {
   "cell_type": "code",
   "execution_count": 76,
   "metadata": {
    "scrolled": true
   },
   "outputs": [
    {
     "data": {
      "text/plain": [
       "0.07461240310077519"
      ]
     },
     "execution_count": 76,
     "metadata": {},
     "output_type": "execute_result"
    }
   ],
   "source": [
    "num_errors_no_exact_match / num_total"
   ]
  },
  {
   "cell_type": "code",
   "execution_count": 77,
   "metadata": {
    "scrolled": false
   },
   "outputs": [
    {
     "name": "stdout",
     "output_type": "stream",
     "text": [
      "db_id: concert_singer\n",
      "Question: Show the name and the release year of the song by the youngest singer.\n",
      "Gold SQL: SELECT song_name ,  song_release_year FROM singer ORDER BY age LIMIT 1\n",
      "Inferred sketch: SELECT some_col, some_col FROM stadium WHERE some_col = (SELECT Min(some_col) FROM stadium)\n",
      "Correct sketch instantiations:\n",
      "  SELECT singer.Song_Name, singer.Song_release_year FROM singer WHERE singer.Age = (SELECT Min(singer.Age) FROM singer)\n",
      "\n",
      "db_id: concert_singer\n",
      "Question: Show the stadium name and capacity with most number of concerts in year 2014 or after.\n",
      "Gold SQL: SELECT T2.name ,  T2.capacity FROM concert AS T1 JOIN stadium AS T2 ON T1.stadium_id  =  T2.stadium_id WHERE T1.year  >=  2014 GROUP BY T2.stadium_id ORDER BY count(*) DESC LIMIT 1\n",
      "Inferred sketch: SELECT some_col, some_col FROM stadium WHERE some_col > 'terminal' GROUP BY some_col\n",
      "Correct sketch instantiations:\n",
      "  SELECT stadium.Name, stadium.Capacity FROM stadium JOIN singer JOIN concert ON stadium.Stadium_ID = concert.Stadium_ID JOIN singer_in_concert ON concert.concert_ID = singer_in_concert.concert_ID AND singer_in_concert.Singer_ID = singer.Singer_ID WHERE stadium.Highest > 2014.0 GROUP BY singer.Is_male\n",
      "\n",
      "db_id: pets_1\n",
      "Question: Find number of pets owned by students who are older than 20.\n",
      "Gold SQL: SELECT count(*) FROM student AS T1 JOIN has_pet AS T2 ON T1.stuid  =  T2.stuid WHERE T1.age  >  20\n",
      "Inferred sketch: SELECT Count(some_col) FROM Student WHERE some_col > 'terminal' AND some_col = 'terminal'\n",
      "Correct sketch instantiations:\n",
      "  SELECT Count(*) FROM Student WHERE Student.StuID > 20.0 AND Student.StuID = 20.0\n",
      "  SELECT Count(*) FROM Student WHERE Student.StuID > 20.0 AND Student.LName = 20.0\n",
      "  SELECT Count(*) FROM Student WHERE Student.StuID > 20.0 AND Student.Fname = 20.0\n",
      "  SELECT Count(*) FROM Student WHERE Student.StuID > 20.0 AND Student.Sex = 20.0\n",
      "  SELECT Count(*) FROM Student WHERE Student.StuID > 20.0 AND Student.Major = 20.0\n",
      "\n",
      "db_id: pets_1\n",
      "Question: How many pets are owned by students that have an age greater than 20?\n",
      "Gold SQL: SELECT count(*) FROM student AS T1 JOIN has_pet AS T2 ON T1.stuid  =  T2.stuid WHERE T1.age  >  20\n",
      "Inferred sketch: SELECT Count(some_col) FROM Student WHERE some_col > 'terminal' AND some_col = 'terminal'\n",
      "Correct sketch instantiations:\n",
      "  SELECT Count(*) FROM Student WHERE Student.StuID > 20.0 AND Student.StuID = 20.0\n",
      "  SELECT Count(*) FROM Student WHERE Student.StuID > 20.0 AND Student.LName = 20.0\n",
      "  SELECT Count(*) FROM Student WHERE Student.StuID > 20.0 AND Student.Fname = 20.0\n",
      "  SELECT Count(*) FROM Student WHERE Student.StuID > 20.0 AND Student.Sex = 20.0\n",
      "  SELECT Count(*) FROM Student WHERE Student.StuID > 20.0 AND Student.Major = 20.0\n",
      "\n",
      "db_id: pets_1\n",
      "Question: Find the last name of the student who has a cat that is age 3.\n",
      "Gold SQL: SELECT T1.lname FROM student AS T1 JOIN has_pet AS T2 ON T1.stuid  =  T2.stuid JOIN pets AS T3 ON T3.petid  =  T2.petid WHERE T3.pet_age  =  3 AND T3.pettype  =  'cat'\n",
      "Inferred sketch: SELECT some_col FROM Student WHERE some_col = 'terminal'\n",
      "Correct sketch instantiations:\n",
      "  SELECT Student.LName FROM Student JOIN Has_Pet ON Student.StuID = Has_Pet.StuID JOIN Pets ON Has_Pet.PetID = Pets.PetID WHERE Pets.PetType = \"cat\"\n",
      "  SELECT Student.LName FROM Student JOIN Has_Pet ON Student.StuID = Has_Pet.StuID JOIN Pets ON Has_Pet.PetID = Pets.PetID WHERE Pets.pet_age = 3.0\n",
      "\n",
      "db_id: pets_1\n",
      "Question: What is the last name of the student who has a cat that is 3 years old?\n",
      "Gold SQL: SELECT T1.lname FROM student AS T1 JOIN has_pet AS T2 ON T1.stuid  =  T2.stuid JOIN pets AS T3 ON T3.petid  =  T2.petid WHERE T3.pet_age  =  3 AND T3.pettype  =  'cat'\n",
      "Inferred sketch: SELECT some_col FROM Student WHERE some_col = 'terminal'\n",
      "Correct sketch instantiations:\n",
      "  SELECT Student.LName FROM Student JOIN Has_Pet ON Student.StuID = Has_Pet.StuID JOIN Pets ON Has_Pet.PetID = Pets.PetID WHERE Pets.PetType = \"cat\"\n",
      "  SELECT Student.LName FROM Student JOIN Has_Pet ON Student.StuID = Has_Pet.StuID JOIN Pets ON Has_Pet.PetID = Pets.PetID WHERE Pets.pet_age = 3.0\n",
      "\n",
      "db_id: car_1\n",
      "Question: What is the model of the car with the smallest amount of horsepower?\n",
      "Gold SQL: SELECT T1.Model FROM CAR_NAMES AS T1 JOIN CARS_DATA AS T2 ON T1.MakeId  =  T2.Id ORDER BY T2.horsepower ASC LIMIT 1;\n",
      "Inferred sketch: SELECT some_col FROM continents WHERE some_col = (SELECT Min(some_col) FROM continents)\n",
      "Correct sketch instantiations:\n",
      "  SELECT car_names.Model FROM car_names WHERE car_names.MakeId = (SELECT Min(cars_data.MPG) FROM cars_data)\n",
      "  SELECT car_names.Model FROM car_names JOIN cars_data ON car_names.MakeId = cars_data.Id WHERE cars_data.Id = (SELECT Min(cars_data.MPG) FROM cars_data)\n",
      "\n",
      "db_id: car_1\n",
      "Question: How many car models were produced by the maker with full name American Motor Company?\n",
      "Gold SQL: SELECT count(*) FROM CAR_MAKERS AS T1 JOIN MODEL_LIST AS T2 ON T1.Id  =  T2.Maker WHERE T1.FullName  =  'American Motor Company';\n",
      "Inferred sketch: SELECT Count(some_col) FROM continents WHERE some_col = 'terminal' AND some_col = 'terminal'\n",
      "Correct sketch instantiations:\n",
      "  SELECT Count(*) FROM car_makers WHERE car_makers.FullName = \"American Motor Company\" AND car_makers.FullName = \"American Motor Company\"\n",
      "\n",
      "db_id: car_1\n",
      "Question: What is the number of car models created by the car maker American Motor Company?\n",
      "Gold SQL: SELECT count(*) FROM CAR_MAKERS AS T1 JOIN MODEL_LIST AS T2 ON T1.Id  =  T2.Maker WHERE T1.FullName  =  'American Motor Company';\n",
      "Inferred sketch: SELECT Count(some_col) FROM continents WHERE some_col = 'terminal' AND some_col = 'terminal'\n",
      "Correct sketch instantiations:\n",
      "  SELECT Count(*) FROM car_makers WHERE car_makers.FullName = \"American Motor Company\" AND car_makers.FullName = \"American Motor Company\"\n",
      "\n",
      "db_id: car_1\n",
      "Question: What are the different models created by either the car maker General Motors or weighed more than 3500?\n",
      "Gold SQL: SELECT DISTINCT T2.Model FROM CAR_NAMES AS T1 JOIN MODEL_LIST AS T2 ON T1.Model  =  T2.Model JOIN CAR_MAKERS AS T3 ON T2.Maker  =  T3.Id JOIN CARS_DATA AS T4 ON T1.MakeId  =  T4.Id WHERE T3.FullName  =  'General Motors' OR T4.weight  >  3500;\n",
      "Inferred sketch: SELECT DISTINCT some_col FROM continents WHERE some_col < 'terminal' OR some_col > 'terminal'\n",
      "Correct sketch instantiations:\n",
      "  SELECT DISTINCT model_list.Model FROM continents JOIN countries ON continents.ContId = countries.Continent AND continents.ContId = countries.Continent JOIN car_makers ON countries.CountryId = car_makers.Country AND countries.CountryId = car_makers.Country JOIN model_list ON car_makers.Id = model_list.Maker AND car_makers.Id = model_list.Maker JOIN car_names ON model_list.Model = car_names.Model JOIN cars_data ON car_names.MakeId = cars_data.Id WHERE continents.Continent < \"General Motors\" OR cars_data.Weight > 3500.0\n",
      "  SELECT DISTINCT model_list.Model FROM continents JOIN countries ON continents.ContId = countries.Continent AND continents.ContId = countries.Continent JOIN car_makers ON countries.CountryId = car_makers.Country AND countries.CountryId = car_makers.Country JOIN model_list ON car_makers.Id = model_list.Maker AND car_makers.Id = model_list.Maker JOIN car_names ON model_list.Model = car_names.Model JOIN cars_data ON car_names.MakeId = cars_data.Id WHERE continents.Continent < 3500.0 OR cars_data.Weight > 3500.0\n",
      "  SELECT DISTINCT model_list.Model FROM countries JOIN car_makers ON countries.CountryId = car_makers.Country AND countries.CountryId = car_makers.Country JOIN model_list ON car_makers.Id = model_list.Maker AND car_makers.Id = model_list.Maker JOIN car_names ON model_list.Model = car_names.Model JOIN cars_data ON car_names.MakeId = cars_data.Id WHERE countries.CountryName < \"General Motors\" OR cars_data.Weight > 3500.0\n",
      "  SELECT DISTINCT model_list.Model FROM countries JOIN car_makers ON countries.CountryId = car_makers.Country AND countries.CountryId = car_makers.Country JOIN model_list ON car_makers.Id = model_list.Maker AND car_makers.Id = model_list.Maker JOIN car_names ON model_list.Model = car_names.Model JOIN cars_data ON car_names.MakeId = cars_data.Id WHERE countries.CountryName < 3500.0 OR cars_data.Weight > 3500.0\n",
      "  SELECT DISTINCT model_list.Model FROM car_makers JOIN model_list ON car_makers.Id = model_list.Maker AND car_makers.Id = model_list.Maker JOIN car_names ON model_list.Model = car_names.Model JOIN cars_data ON car_names.MakeId = cars_data.Id WHERE car_makers.Maker < \"General Motors\" OR cars_data.Weight > 3500.0\n",
      "\n"
     ]
    }
   ],
   "source": [
    "for i in search_recovered_indices[:10]:\n",
    "    print('db_id: {}'.format(dev[i]['db_id']))\n",
    "    print('Question: {}'.format(dev[i]['question']))\n",
    "    print('Gold SQL: {}'.format(dev[i]['query']))\n",
    "    print('Inferred sketch: {}'.format(sketch_search_results[i]['sketch_sql']))\n",
    "    print('Correct sketch instantiations:')\n",
    "    for correct in sketch_search_results[i]['correct_sqls'][:5]:\n",
    "        print('  {}'.format(correct))\n",
    "    print()"
   ]
  },
  {
   "cell_type": "code",
   "execution_count": 62,
   "metadata": {},
   "outputs": [
    {
     "name": "stdout",
     "output_type": "stream",
     "text": [
      "CREATE TABLE 'airlines' (\n",
      "\tuid INTEGER PRIMARY KEY, \n",
      "\tAirline TEXT, \n",
      "\tAbbreviation TEXT, \n",
      "\tCountry TEXT\n",
      ");\n",
      "CREATE TABLE 'airports' (\n",
      "\tCity TEXT, \n",
      "\tAirportCode TEXT PRIMARY KEY, \n",
      "\tAirportName TEXT, \n",
      "\tCountry TEXT, \n",
      "\tCountryAbbrev TEXT\n",
      ");\n",
      "CREATE TABLE 'flights' (\n",
      "\tAirline INTEGER, \n",
      "\tFlightNo INTEGER, \n",
      "\tSourceAirport TEXT, \n",
      "\tDestAirport TEXT, \n",
      "\tPRIMARY KEY(Airline, FlightNo),\n",
      "\tFOREIGN KEY (SourceAirport) REFERENCES airports(AirportCode),\n",
      "\tFOREIGN KEY (DestAirport) REFERENCES airports(AirportCode)\n",
      ");\n",
      "\n"
     ]
    }
   ],
   "source": [
    "print(open('../data/spider-20190205/database/flight_2/flight_2.sql').read())"
   ]
  },
  {
   "cell_type": "code",
   "execution_count": 79,
   "metadata": {},
   "outputs": [
    {
     "name": "stdout",
     "output_type": "stream",
     "text": [
      "Question: What is the average, minimum, and maximum age for all French singers?\n",
      "Gold SQL: SELECT avg(age) ,  min(age) ,  max(age) FROM singer WHERE country  =  'France'\n",
      "Inferred sketch: SELECT Avg(some_col), Min(some_col), Max(some_col) FROM stadium\n",
      "\n",
      "Question: What is the name and capacity for the stadium with highest average attendance?\n",
      "Gold SQL: SELECT name ,  capacity FROM stadium ORDER BY average DESC LIMIT 1\n",
      "Inferred sketch: SELECT some_col, some_col FROM stadium WHERE some_col = 'terminal' GROUP BY some_col ORDER BY Avg(some_col) Desc LIMIT 1\n",
      "\n",
      "Question: What is the name and capacity for the stadium with the highest average attendance?\n",
      "Gold SQL: SELECT name ,  capacity FROM stadium ORDER BY average DESC LIMIT 1\n",
      "Inferred sketch: SELECT some_col, some_col FROM stadium WHERE some_col = 'terminal' GROUP BY some_col ORDER BY Avg(some_col) Desc LIMIT 1\n",
      "\n",
      "Question: What is the name and capacity of the stadium  with the most concerts after 2013?\n",
      "Gold SQL: SELECT T2.name ,  T2.capacity FROM concert AS T1 JOIN stadium AS T2 ON T1.stadium_id  =  T2.stadium_id WHERE T1.year  >=  2014 GROUP BY T2.stadium_id ORDER BY count(*) DESC LIMIT 1\n",
      "Inferred sketch: SELECT some_col FROM stadium WHERE some_col > 'terminal' GROUP BY some_col ORDER BY Count(some_col) Desc LIMIT 1\n",
      "\n",
      "Question: What are the names of the stadiums without any concerts?\n",
      "Gold SQL: SELECT name FROM stadium WHERE stadium_id NOT IN (SELECT stadium_id FROM concert)\n",
      "Inferred sketch: SELECT some_col FROM stadium EXCEPT SELECT some_col FROM stadium\n",
      "\n",
      "Question: Show countries where a singer above age 40 and a singer below 30 are from.\n",
      "Gold SQL: SELECT country FROM singer WHERE age  >  40 INTERSECT SELECT country FROM singer WHERE age  <  30\n",
      "Inferred sketch: SELECT some_col FROM stadium WHERE some_col IN (SELECT some_col FROM stadium WHERE some_col > 'terminal') INTERSECT SELECT some_col FROM stadium WHERE some_col IN (SELECT some_col FROM stadium WHERE some_col < 'terminal')\n",
      "\n",
      "Question: Find the number of pets whose weight is heavier than 10.\n",
      "Gold SQL: SELECT count(*) FROM pets WHERE weight  >  10\n",
      "Inferred sketch: SELECT Count(some_col) FROM Student WHERE some_col > 'terminal' AND some_col = 'terminal'\n",
      "\n",
      "Question: How much does the youngest dog weigh?\n",
      "Gold SQL: SELECT weight FROM pets ORDER BY pet_age LIMIT 1\n",
      "Inferred sketch: SELECT Max(some_col) FROM Student WHERE some_col = 'terminal'\n",
      "\n",
      "Question: Find the maximum weight for each type of pet. List the maximum weight and pet type.\n",
      "Gold SQL: SELECT max(weight) ,  petType FROM pets GROUP BY petType\n",
      "Inferred sketch: SELECT some_col, Max(some_col), some_col FROM Student GROUP BY some_col\n",
      "\n",
      "Question: List the maximum weight and type for each type of pet.\n",
      "Gold SQL: SELECT max(weight) ,  petType FROM pets GROUP BY petType\n",
      "Inferred sketch: SELECT some_col, Max(some_col), some_col FROM Student GROUP BY some_col\n",
      "\n"
     ]
    }
   ],
   "source": [
    "for i in search_failed_indices[:10]:\n",
    "    print('Question: {}'.format(dev[i]['question']))\n",
    "    print('Gold SQL: {}'.format(dev[i]['query']))\n",
    "    print('Inferred sketch: {}'.format(sketch_search_results[i]['sketch_sql']))\n",
    "    print()"
   ]
  },
  {
   "cell_type": "code",
   "execution_count": 59,
   "metadata": {},
   "outputs": [
    {
     "data": {
      "text/plain": [
       "{'db_id': 'concert_singer',\n",
       " 'query': 'SELECT count(*) FROM singer',\n",
       " 'query_toks': ['SELECT', 'count', '(', '*', ')', 'FROM', 'singer'],\n",
       " 'query_toks_no_value': ['select', 'count', '(', '*', ')', 'from', 'singer'],\n",
       " 'question': 'How many singers do we have?',\n",
       " 'question_toks': ['How', 'many', 'singers', 'do', 'we', 'have', '?'],\n",
       " 'sql': {'except': None,\n",
       "  'from': {'conds': [], 'table_units': [['table_unit', 1]]},\n",
       "  'groupBy': [],\n",
       "  'having': [],\n",
       "  'intersect': None,\n",
       "  'limit': None,\n",
       "  'orderBy': [],\n",
       "  'select': [False, [[3, [0, [0, 0, False], None]]]],\n",
       "  'union': None,\n",
       "  'where': []}}"
      ]
     },
     "execution_count": 59,
     "metadata": {},
     "output_type": "execute_result"
    }
   ],
   "source": [
    "dev[0]"
   ]
  },
  {
   "cell_type": "code",
   "execution_count": null,
   "metadata": {},
   "outputs": [],
   "source": []
  }
 ],
 "metadata": {
  "kernelspec": {
   "display_name": "Python 3",
   "language": "python",
   "name": "python3"
  },
  "language_info": {
   "codemirror_mode": {
    "name": "ipython",
    "version": 3
   },
   "file_extension": ".py",
   "mimetype": "text/x-python",
   "name": "python",
   "nbconvert_exporter": "python",
   "pygments_lexer": "ipython3",
   "version": "3.5.2"
  }
 },
 "nbformat": 4,
 "nbformat_minor": 2
}
