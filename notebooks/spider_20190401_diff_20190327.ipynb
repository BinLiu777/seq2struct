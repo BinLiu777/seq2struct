{
 "cells": [
  {
   "cell_type": "code",
   "execution_count": 5,
   "metadata": {},
   "outputs": [],
   "source": [
    "import collections\n",
    "import itertools\n",
    "import json\n",
    "import os\n",
    "import re\n",
    "import glob\n",
    "import operator\n",
    "\n",
    "import pandas as pd\n",
    "import matplotlib.pyplot as plt\n",
    "import seaborn as sns\n",
    "import IPython.display\n",
    "%matplotlib inline\n",
    "plt.rcParams['figure.figsize'] = [20, 20]\n",
    "\n",
    "from IPython.display import display"
   ]
  },
  {
   "cell_type": "code",
   "execution_count": 64,
   "metadata": {},
   "outputs": [],
   "source": [
    "vocab = set(json.load(open('../data/spider-20190205/nl2code-0214-nofrom-notinc/enc_vocab.json')))\n",
    "left_preproc = [json.loads(line) for line in open('../data/spider-20190205/nl2code-0214-nofrom-notinc/enc/val.jsonl')]\n",
    "def display_item(item):\n",
    "    question_toks = left_preproc[item['i']]['question']\n",
    "    \n",
    "    IPython.display.display(IPython.display.HTML('''\n",
    "    <ul>\n",
    "        <li>Database: <tt>{db_id}</tt></li>\n",
    "        <li>Question: {question_tok}</li>\n",
    "        <li>Gold: <tt>{gold}</tt></li>\n",
    "        <li>Left: <tt>{left}</tt></li>\n",
    "        <li>Right: <tt>{right}</tt></li>\n",
    "    </ul>\n",
    "    '''.format(\n",
    "        question_tok=' '.join((tok if tok in vocab else '<s>{}</s>'.format(tok)) for tok in question_toks),\n",
    "        **item)))"
   ]
  },
  {
   "cell_type": "code",
   "execution_count": 38,
   "metadata": {},
   "outputs": [],
   "source": [
    "def compare(data, left, right):\n",
    "    both_exact = []\n",
    "    left_exact = []\n",
    "    right_exact = []\n",
    "    neither_exact = []\n",
    "    for i, (data_item, left_item, right_item) in enumerate(zip(data, left['per_item'], right['per_item'])):\n",
    "        result = {\n",
    "            'i': i,\n",
    "            'db_id': data_item['db_id'],\n",
    "            'question': data_item['question'],\n",
    "            'gold': data_item['query'],\n",
    "            'left': left_item['predicted'],\n",
    "            'right': right_item['predicted'],\n",
    "        }\n",
    "        \n",
    "        if left_item['exact'] and right_item['exact']:\n",
    "            both_exact.append(result)\n",
    "        elif left_item['exact']:\n",
    "            left_exact.append(result)\n",
    "        elif right_item['exact']:\n",
    "            right_exact.append(result)\n",
    "        else:\n",
    "            neither_exact.append(result)\n",
    "    return both_exact, left_exact, right_exact, neither_exact        "
   ]
  },
  {
   "cell_type": "code",
   "execution_count": 82,
   "metadata": {},
   "outputs": [],
   "source": [
    "dev = json.load(open('../data/spider-20190205/dev.json'))\n",
    "left = json.load(open('../logdirs/20190327/rerun,output_from=false,att=1/eval-val-step40000-bs1.jsonl'))\n",
    "right = json.load(open('../logdirs/20190401/output_from=false,emb=glove-42B,min_freq=50,att=0/eval-val-step39100-bs1.jsonl')) "
   ]
  },
  {
   "cell_type": "code",
   "execution_count": 84,
   "metadata": {},
   "outputs": [],
   "source": [
    "both_exact, left_exact, right_exact, neither_exact = compare(dev, left, right)\n",
    "total = len(dev)"
   ]
  },
  {
   "cell_type": "code",
   "execution_count": 86,
   "metadata": {},
   "outputs": [
    {
     "data": {
      "text/plain": [
       "0.17988394584139264"
      ]
     },
     "execution_count": 86,
     "metadata": {},
     "output_type": "execute_result"
    }
   ],
   "source": [
    "len(both_exact) / total"
   ]
  },
  {
   "cell_type": "code",
   "execution_count": 87,
   "metadata": {},
   "outputs": [
    {
     "data": {
      "text/plain": [
       "0.061895551257253385"
      ]
     },
     "execution_count": 87,
     "metadata": {},
     "output_type": "execute_result"
    }
   ],
   "source": [
    "len(left_exact) / total"
   ]
  },
  {
   "cell_type": "code",
   "execution_count": 88,
   "metadata": {},
   "outputs": [
    {
     "data": {
      "text/plain": [
       "0.19632495164410058"
      ]
     },
     "execution_count": 88,
     "metadata": {},
     "output_type": "execute_result"
    }
   ],
   "source": [
    "len(right_exact) / total"
   ]
  },
  {
   "cell_type": "code",
   "execution_count": 65,
   "metadata": {
    "scrolled": false
   },
   "outputs": [
    {
     "data": {
      "text/html": [
       "\n",
       "    <ul>\n",
       "        <li>Database: <tt>concert_singer</tt></li>\n",
       "        <li>Question: What are the names , countries , and ages for every <s>singer</s> in descending order of age ?</li>\n",
       "        <li>Gold: <tt>SELECT name ,  country ,  age FROM singer ORDER BY age DESC</tt></li>\n",
       "        <li>Left: <tt>SELECT singer.Name, singer.Country, singer.Age FROM singer ORDER BY singer.Age Desc</tt></li>\n",
       "        <li>Right: <tt>SELECT singer.Name, singer.Country, singer.Age FROM singer ORDER BY singer.Age Desc</tt></li>\n",
       "    </ul>\n",
       "    "
      ],
      "text/plain": [
       "<IPython.core.display.HTML object>"
      ]
     },
     "metadata": {},
     "output_type": "display_data"
    },
    {
     "data": {
      "text/html": [
       "\n",
       "    <ul>\n",
       "        <li>Database: <tt>concert_singer</tt></li>\n",
       "        <li>Question: What are all the song names by singers who are older than average ?</li>\n",
       "        <li>Gold: <tt>SELECT song_name FROM singer WHERE age  >  (SELECT avg(age) FROM singer)</tt></li>\n",
       "        <li>Left: <tt>SELECT singer.Song_Name FROM singer WHERE singer.Age > (SELECT Avg(singer.Age) FROM singer)</tt></li>\n",
       "        <li>Right: <tt>SELECT singer.Song_Name FROM singer WHERE singer.Age > (SELECT Avg(singer.Age) FROM singer)</tt></li>\n",
       "    </ul>\n",
       "    "
      ],
      "text/plain": [
       "<IPython.core.display.HTML object>"
      ]
     },
     "metadata": {},
     "output_type": "display_data"
    },
    {
     "data": {
      "text/html": [
       "\n",
       "    <ul>\n",
       "        <li>Database: <tt>concert_singer</tt></li>\n",
       "        <li>Question: What is the year that had the most <s>concerts</s> ?</li>\n",
       "        <li>Gold: <tt>SELECT YEAR FROM concert GROUP BY YEAR ORDER BY count(*) DESC LIMIT 1</tt></li>\n",
       "        <li>Left: <tt>SELECT concert.Year FROM concert GROUP BY concert.Year ORDER BY Count(*) Desc LIMIT 1</tt></li>\n",
       "        <li>Right: <tt>SELECT concert.Year FROM concert GROUP BY concert.Year ORDER BY Count(*) Desc LIMIT 1</tt></li>\n",
       "    </ul>\n",
       "    "
      ],
      "text/plain": [
       "<IPython.core.display.HTML object>"
      ]
     },
     "metadata": {},
     "output_type": "display_data"
    },
    {
     "data": {
      "text/html": [
       "\n",
       "    <ul>\n",
       "        <li>Database: <tt>concert_singer</tt></li>\n",
       "        <li>Question: Find the name and location of the stadiums which some <s>concerts</s> happened in the years of both 2014 and 2015 .</li>\n",
       "        <li>Gold: <tt>SELECT T2.name ,  T2.location FROM concert AS T1 JOIN stadium AS T2 ON T1.stadium_id  =  T2.stadium_id WHERE T1.Year  =  2014 INTERSECT SELECT T2.name ,  T2.location FROM concert AS T1 JOIN stadium AS T2 ON T1.stadium_id  =  T2.stadium_id WHERE T1.Year  =  2015</tt></li>\n",
       "        <li>Left: <tt>SELECT stadium.Name, stadium.Location FROM stadium JOIN concert ON stadium.Stadium_ID = concert.Stadium_ID WHERE concert.Year = 'terminal' INTERSECT SELECT stadium.Name, stadium.Location FROM stadium JOIN concert ON stadium.Stadium_ID = concert.Stadium_ID WHERE concert.Year = 'terminal'</tt></li>\n",
       "        <li>Right: <tt>SELECT stadium.Name, stadium.Location FROM stadium JOIN concert ON stadium.Stadium_ID = concert.Stadium_ID WHERE concert.Year = 'terminal' INTERSECT SELECT stadium.Name, stadium.Location FROM stadium JOIN concert ON stadium.Stadium_ID = concert.Stadium_ID WHERE concert.Year = 'terminal'</tt></li>\n",
       "    </ul>\n",
       "    "
      ],
      "text/plain": [
       "<IPython.core.display.HTML object>"
      ]
     },
     "metadata": {},
     "output_type": "display_data"
    },
    {
     "data": {
      "text/html": [
       "\n",
       "    <ul>\n",
       "        <li>Database: <tt>pets_1</tt></li>\n",
       "        <li>Question: Find the type and weight of the youngest <s>pet</s> .</li>\n",
       "        <li>Gold: <tt>SELECT pettype ,  weight FROM pets ORDER BY pet_age LIMIT 1</tt></li>\n",
       "        <li>Left: <tt>SELECT Pets.PetType, Pets.weight FROM Pets ORDER BY Pets.pet_age Asc LIMIT 1</tt></li>\n",
       "        <li>Right: <tt>SELECT Pets.PetType, Pets.weight FROM Pets ORDER BY Pets.pet_age Asc LIMIT 1</tt></li>\n",
       "    </ul>\n",
       "    "
      ],
      "text/plain": [
       "<IPython.core.display.HTML object>"
      ]
     },
     "metadata": {},
     "output_type": "display_data"
    },
    {
     "data": {
      "text/html": [
       "\n",
       "    <ul>\n",
       "        <li>Database: <tt>car_1</tt></li>\n",
       "        <li>Question: What is the number of <s>continents</s> ?</li>\n",
       "        <li>Gold: <tt>SELECT count(*) FROM CONTINENTS;</tt></li>\n",
       "        <li>Left: <tt>SELECT Count(*) FROM continents</tt></li>\n",
       "        <li>Right: <tt>SELECT Count(*) FROM continents</tt></li>\n",
       "    </ul>\n",
       "    "
      ],
      "text/plain": [
       "<IPython.core.display.HTML object>"
      ]
     },
     "metadata": {},
     "output_type": "display_data"
    },
    {
     "data": {
      "text/html": [
       "\n",
       "    <ul>\n",
       "        <li>Database: <tt>flight_2</tt></li>\n",
       "        <li>Question: What are the airline names and <s>abbreviations</s> for airlines in the USA ?</li>\n",
       "        <li>Gold: <tt>SELECT Airline ,  Abbreviation FROM AIRLINES WHERE Country  =  \"USA\"</tt></li>\n",
       "        <li>Left: <tt>SELECT airlines.Airline, airlines.Abbreviation FROM airlines WHERE airlines.Country = 'terminal'</tt></li>\n",
       "        <li>Right: <tt>SELECT airlines.Airline, airlines.Abbreviation FROM airlines WHERE airlines.Country = 'terminal'</tt></li>\n",
       "    </ul>\n",
       "    "
      ],
      "text/plain": [
       "<IPython.core.display.HTML object>"
      ]
     },
     "metadata": {},
     "output_type": "display_data"
    },
    {
     "data": {
      "text/html": [
       "\n",
       "    <ul>\n",
       "        <li>Database: <tt>flight_2</tt></li>\n",
       "        <li>Question: Return the number of airlines in the USA .</li>\n",
       "        <li>Gold: <tt>SELECT count(*) FROM AIRLINES WHERE Country  =  \"USA\"</tt></li>\n",
       "        <li>Left: <tt>SELECT Count(*) FROM airlines WHERE airlines.Country = 'terminal'</tt></li>\n",
       "        <li>Right: <tt>SELECT Count(*) FROM airlines WHERE airlines.Country = 'terminal'</tt></li>\n",
       "    </ul>\n",
       "    "
      ],
      "text/plain": [
       "<IPython.core.display.HTML object>"
      ]
     },
     "metadata": {},
     "output_type": "display_data"
    },
    {
     "data": {
      "text/html": [
       "\n",
       "    <ul>\n",
       "        <li>Database: <tt>employee_hire_evaluation</tt></li>\n",
       "        <li>Question: What is the number of employees from each city ?</li>\n",
       "        <li>Gold: <tt>SELECT count(*) ,  city FROM employee GROUP BY city</tt></li>\n",
       "        <li>Left: <tt>SELECT employee.City, Count(*) FROM employee GROUP BY employee.City</tt></li>\n",
       "        <li>Right: <tt>SELECT employee.City, Count(*) FROM employee GROUP BY employee.City</tt></li>\n",
       "    </ul>\n",
       "    "
      ],
      "text/plain": [
       "<IPython.core.display.HTML object>"
      ]
     },
     "metadata": {},
     "output_type": "display_data"
    },
    {
     "data": {
      "text/html": [
       "\n",
       "    <ul>\n",
       "        <li>Database: <tt>employee_hire_evaluation</tt></li>\n",
       "        <li>Question: What are the minimum and maximum number of products across all the shops ?</li>\n",
       "        <li>Gold: <tt>SELECT min(Number_products) ,  max(Number_products) FROM shop</tt></li>\n",
       "        <li>Left: <tt>SELECT Min(shop.Number_products), Max(shop.Number_products) FROM shop</tt></li>\n",
       "        <li>Right: <tt>SELECT Min(shop.Number_products), Max(shop.Number_products) FROM shop</tt></li>\n",
       "    </ul>\n",
       "    "
      ],
      "text/plain": [
       "<IPython.core.display.HTML object>"
      ]
     },
     "metadata": {},
     "output_type": "display_data"
    },
    {
     "data": {
      "text/html": [
       "\n",
       "    <ul>\n",
       "        <li>Database: <tt>employee_hire_evaluation</tt></li>\n",
       "        <li>Question: How many different store locations are there ?</li>\n",
       "        <li>Gold: <tt>SELECT count(DISTINCT LOCATION) FROM shop</tt></li>\n",
       "        <li>Left: <tt>SELECT Count(DISTINCT shop.Location) FROM shop</tt></li>\n",
       "        <li>Right: <tt>SELECT Count(DISTINCT shop.Location) FROM shop</tt></li>\n",
       "    </ul>\n",
       "    "
      ],
      "text/plain": [
       "<IPython.core.display.HTML object>"
      ]
     },
     "metadata": {},
     "output_type": "display_data"
    },
    {
     "data": {
      "text/html": [
       "\n",
       "    <ul>\n",
       "        <li>Database: <tt>cre_Doc_Template_Mgt</tt></li>\n",
       "        <li>Question: What is the id and type code for the <s>template</s> used by the most documents ?</li>\n",
       "        <li>Gold: <tt>SELECT T1.template_id ,  T2.Template_Type_Code FROM Documents AS T1 JOIN Templates AS T2 ON T1.template_id  =  T2.template_id GROUP BY T1.template_id ORDER BY count(*) DESC LIMIT 1</tt></li>\n",
       "        <li>Left: <tt>SELECT Documents.Template_ID, Templates.Template_Type_Code FROM Templates JOIN Documents ON Templates.Template_ID = Documents.Template_ID GROUP BY Documents.Template_ID ORDER BY Count(*) Desc LIMIT 1</tt></li>\n",
       "        <li>Right: <tt>SELECT Documents.Template_ID, Templates.Template_Type_Code FROM Templates JOIN Documents ON Templates.Template_ID = Documents.Template_ID GROUP BY Documents.Template_ID ORDER BY Count(*) Desc LIMIT 1</tt></li>\n",
       "    </ul>\n",
       "    "
      ],
      "text/plain": [
       "<IPython.core.display.HTML object>"
      ]
     },
     "metadata": {},
     "output_type": "display_data"
    },
    {
     "data": {
      "text/html": [
       "\n",
       "    <ul>\n",
       "        <li>Database: <tt>cre_Doc_Template_Mgt</tt></li>\n",
       "        <li>Question: Count the number of <s>templates</s> of the type CV .</li>\n",
       "        <li>Gold: <tt>SELECT count(*) FROM Templates WHERE template_type_code  =  \"CV\"</tt></li>\n",
       "        <li>Left: <tt>SELECT Count(*) FROM Templates WHERE Templates.Template_Type_Code = 'terminal'</tt></li>\n",
       "        <li>Right: <tt>SELECT Count(*) FROM Templates WHERE Templates.Template_Type_Code = 'terminal'</tt></li>\n",
       "    </ul>\n",
       "    "
      ],
      "text/plain": [
       "<IPython.core.display.HTML object>"
      ]
     },
     "metadata": {},
     "output_type": "display_data"
    },
    {
     "data": {
      "text/html": [
       "\n",
       "    <ul>\n",
       "        <li>Database: <tt>cre_Doc_Template_Mgt</tt></li>\n",
       "        <li>Question: What are the codes of <s>template</s> types that have fewer than 3 <s>templates</s> ?</li>\n",
       "        <li>Gold: <tt>SELECT template_type_code FROM Templates GROUP BY template_type_code HAVING count(*)  <  3</tt></li>\n",
       "        <li>Left: <tt>SELECT Templates.Template_Type_Code FROM Templates GROUP BY Templates.Template_Type_Code HAVING Count(*) < 'terminal'</tt></li>\n",
       "        <li>Right: <tt>SELECT Templates.Template_Type_Code FROM Templates GROUP BY Templates.Template_Type_Code HAVING Count(*) < 'terminal'</tt></li>\n",
       "    </ul>\n",
       "    "
      ],
      "text/plain": [
       "<IPython.core.display.HTML object>"
      ]
     },
     "metadata": {},
     "output_type": "display_data"
    },
    {
     "data": {
      "text/html": [
       "\n",
       "    <ul>\n",
       "        <li>Database: <tt>cre_Doc_Template_Mgt</tt></li>\n",
       "        <li>Question: Return the <s>template</s> type description of the <s>template</s> type with the code <s>AD</s> .</li>\n",
       "        <li>Gold: <tt>SELECT template_type_description FROM Ref_template_types WHERE template_type_code  =  \"AD\"</tt></li>\n",
       "        <li>Left: <tt>SELECT Ref_Template_Types.Template_Type_Description FROM Ref_Template_Types WHERE Ref_Template_Types.Template_Type_Code = 'terminal'</tt></li>\n",
       "        <li>Right: <tt>SELECT Ref_Template_Types.Template_Type_Description FROM Ref_Template_Types WHERE Ref_Template_Types.Template_Type_Code = 'terminal'</tt></li>\n",
       "    </ul>\n",
       "    "
      ],
      "text/plain": [
       "<IPython.core.display.HTML object>"
      ]
     },
     "metadata": {},
     "output_type": "display_data"
    },
    {
     "data": {
      "text/html": [
       "\n",
       "    <ul>\n",
       "        <li>Database: <tt>course_teach</tt></li>\n",
       "        <li>Question: What are the names of the teachers ordered by ascending age ?</li>\n",
       "        <li>Gold: <tt>SELECT Name FROM teacher ORDER BY Age ASC</tt></li>\n",
       "        <li>Left: <tt>SELECT teacher.Name FROM teacher ORDER BY teacher.Age Asc</tt></li>\n",
       "        <li>Right: <tt>SELECT teacher.Name FROM teacher ORDER BY teacher.Age Asc</tt></li>\n",
       "    </ul>\n",
       "    "
      ],
      "text/plain": [
       "<IPython.core.display.HTML object>"
      ]
     },
     "metadata": {},
     "output_type": "display_data"
    },
    {
     "data": {
      "text/html": [
       "\n",
       "    <ul>\n",
       "        <li>Database: <tt>course_teach</tt></li>\n",
       "        <li>Question: Show different hometown of teachers and the number of teachers from each hometown .</li>\n",
       "        <li>Gold: <tt>SELECT Hometown ,  COUNT(*) FROM teacher GROUP BY Hometown</tt></li>\n",
       "        <li>Left: <tt>SELECT teacher.Hometown, Count(*) FROM teacher GROUP BY teacher.Hometown</tt></li>\n",
       "        <li>Right: <tt>SELECT teacher.Hometown, Count(*) FROM teacher GROUP BY teacher.Hometown</tt></li>\n",
       "    </ul>\n",
       "    "
      ],
      "text/plain": [
       "<IPython.core.display.HTML object>"
      ]
     },
     "metadata": {},
     "output_type": "display_data"
    },
    {
     "data": {
      "text/html": [
       "\n",
       "    <ul>\n",
       "        <li>Database: <tt>course_teach</tt></li>\n",
       "        <li>Question: What is the name of each teacher and what course they teach ?</li>\n",
       "        <li>Gold: <tt>SELECT T3.Name ,  T2.Course FROM course_arrange AS T1 JOIN course AS T2 ON T1.Course_ID  =  T2.Course_ID JOIN teacher AS T3 ON T1.Teacher_ID  =  T3.Teacher_ID</tt></li>\n",
       "        <li>Left: <tt>SELECT teacher.Name, course.Course FROM course JOIN teacher JOIN course_arrange ON course.Course_ID = course_arrange.Course_ID AND course_arrange.Teacher_ID = teacher.Teacher_ID</tt></li>\n",
       "        <li>Right: <tt>SELECT teacher.Name, course.Course FROM course JOIN teacher JOIN course_arrange ON course.Course_ID = course_arrange.Course_ID AND course_arrange.Teacher_ID = teacher.Teacher_ID</tt></li>\n",
       "    </ul>\n",
       "    "
      ],
      "text/plain": [
       "<IPython.core.display.HTML object>"
      ]
     },
     "metadata": {},
     "output_type": "display_data"
    },
    {
     "data": {
      "text/html": [
       "\n",
       "    <ul>\n",
       "        <li>Database: <tt>museum_visit</tt></li>\n",
       "        <li>Question: Find the number of <s>visitors</s> who did not visit any museum opened after 2010 .</li>\n",
       "        <li>Gold: <tt>SELECT count(*) FROM visitor WHERE id NOT IN (SELECT t2.visitor_id FROM museum AS t1 JOIN visit AS t2 ON t1.Museum_ID  =  t2.Museum_ID WHERE t1.open_year  >  2010)</tt></li>\n",
       "        <li>Left: <tt>SELECT Count(*) FROM visitor WHERE visitor.ID NOT IN (SELECT visit.visitor_ID FROM museum JOIN visit ON museum.Museum_ID = visit.Museum_ID WHERE museum.Open_Year > 'terminal')</tt></li>\n",
       "        <li>Right: <tt>SELECT Count(*) FROM visitor WHERE visitor.ID NOT IN (SELECT visit.visitor_ID FROM museum JOIN visit ON museum.Museum_ID = visit.Museum_ID WHERE museum.Open_Year > 'terminal')</tt></li>\n",
       "    </ul>\n",
       "    "
      ],
      "text/plain": [
       "<IPython.core.display.HTML object>"
      ]
     },
     "metadata": {},
     "output_type": "display_data"
    },
    {
     "data": {
      "text/html": [
       "\n",
       "    <ul>\n",
       "        <li>Database: <tt>wta_1</tt></li>\n",
       "        <li>Question: List the number of all matches who played in years of 2013 or 2016 .</li>\n",
       "        <li>Gold: <tt>SELECT count(*) FROM matches WHERE YEAR  =  2013 OR YEAR  =  2016</tt></li>\n",
       "        <li>Left: <tt>SELECT Count(*) FROM matches WHERE matches.year = 'terminal' OR matches.year = 'terminal'</tt></li>\n",
       "        <li>Right: <tt>SELECT Count(*) FROM matches WHERE matches.year = 'terminal' OR matches.year = 'terminal'</tt></li>\n",
       "    </ul>\n",
       "    "
      ],
      "text/plain": [
       "<IPython.core.display.HTML object>"
      ]
     },
     "metadata": {},
     "output_type": "display_data"
    }
   ],
   "source": [
    "for item in both_exact[:100:5]:\n",
    "    display_item(item)"
   ]
  },
  {
   "cell_type": "code",
   "execution_count": 66,
   "metadata": {
    "scrolled": false
   },
   "outputs": [
    {
     "data": {
      "text/html": [
       "\n",
       "    <ul>\n",
       "        <li>Database: <tt>concert_singer</tt></li>\n",
       "        <li>Question: Show name , country , age for all singers ordered by age from the oldest to the youngest .</li>\n",
       "        <li>Gold: <tt>SELECT name ,  country ,  age FROM singer ORDER BY age DESC</tt></li>\n",
       "        <li>Left: <tt>SELECT singer.Name, singer.Country, singer.Age FROM singer ORDER BY singer.Age Desc</tt></li>\n",
       "        <li>Right: <tt>SELECT singer.Name, singer.Country, singer.Age FROM singer ORDER BY singer.Age Asc</tt></li>\n",
       "    </ul>\n",
       "    "
      ],
      "text/plain": [
       "<IPython.core.display.HTML object>"
      ]
     },
     "metadata": {},
     "output_type": "display_data"
    },
    {
     "data": {
      "text/html": [
       "\n",
       "    <ul>\n",
       "        <li>Database: <tt>concert_singer</tt></li>\n",
       "        <li>Question: List all song names by singers above the average age .</li>\n",
       "        <li>Gold: <tt>SELECT song_name FROM singer WHERE age  >  (SELECT avg(age) FROM singer)</tt></li>\n",
       "        <li>Left: <tt>SELECT singer.Song_Name FROM singer WHERE singer.Age > (SELECT Avg(singer.Age) FROM singer)</tt></li>\n",
       "        <li>Right: <tt>SELECT singer.Song_Name FROM singer ORDER BY singer.Age Desc LIMIT 1</tt></li>\n",
       "    </ul>\n",
       "    "
      ],
      "text/plain": [
       "<IPython.core.display.HTML object>"
      ]
     },
     "metadata": {},
     "output_type": "display_data"
    },
    {
     "data": {
      "text/html": [
       "\n",
       "    <ul>\n",
       "        <li>Database: <tt>concert_singer</tt></li>\n",
       "        <li>Question: What is the name and capacity for the stadium with highest average attendance ?</li>\n",
       "        <li>Gold: <tt>SELECT name ,  capacity FROM stadium ORDER BY average DESC LIMIT 1</tt></li>\n",
       "        <li>Left: <tt>SELECT stadium.Name, stadium.Capacity FROM stadium ORDER BY stadium.Average Desc LIMIT 1</tt></li>\n",
       "        <li>Right: <tt>SELECT stadium.Name, stadium.Capacity FROM stadium JOIN concert ON stadium.Stadium_ID = concert.Stadium_ID GROUP BY concert.Stadium_ID ORDER BY Avg(stadium.Highest) Desc LIMIT 1</tt></li>\n",
       "    </ul>\n",
       "    "
      ],
      "text/plain": [
       "<IPython.core.display.HTML object>"
      ]
     },
     "metadata": {},
     "output_type": "display_data"
    },
    {
     "data": {
      "text/html": [
       "\n",
       "    <ul>\n",
       "        <li>Database: <tt>concert_singer</tt></li>\n",
       "        <li>Question: How many <s>concerts</s> are there in year 2014 or 2015 ?</li>\n",
       "        <li>Gold: <tt>SELECT count(*) FROM concert WHERE YEAR  =  2014 OR YEAR  =  2015</tt></li>\n",
       "        <li>Left: <tt>SELECT Count(*) FROM concert WHERE concert.Year = 'terminal' OR concert.Year = 'terminal'</tt></li>\n",
       "        <li>Right: <tt>SELECT Count(*) FROM concert WHERE concert.Year >= 'terminal'</tt></li>\n",
       "    </ul>\n",
       "    "
      ],
      "text/plain": [
       "<IPython.core.display.HTML object>"
      ]
     },
     "metadata": {},
     "output_type": "display_data"
    },
    {
     "data": {
      "text/html": [
       "\n",
       "    <ul>\n",
       "        <li>Database: <tt>concert_singer</tt></li>\n",
       "        <li>Question: How many <s>concerts</s> occurred in 2014 or 2015 ?</li>\n",
       "        <li>Gold: <tt>SELECT count(*) FROM concert WHERE YEAR  =  2014 OR YEAR  =  2015</tt></li>\n",
       "        <li>Left: <tt>SELECT Count(*) FROM concert WHERE concert.Year = 'terminal' OR concert.Year = 'terminal'</tt></li>\n",
       "        <li>Right: <tt>SELECT Count(*) FROM concert WHERE concert.Year >= 'terminal'</tt></li>\n",
       "    </ul>\n",
       "    "
      ],
      "text/plain": [
       "<IPython.core.display.HTML object>"
      ]
     },
     "metadata": {},
     "output_type": "display_data"
    },
    {
     "data": {
      "text/html": [
       "\n",
       "    <ul>\n",
       "        <li>Database: <tt>concert_singer</tt></li>\n",
       "        <li>Question: What are the names of all stadiums that did not have a <s>concert</s> in 2014 ?</li>\n",
       "        <li>Gold: <tt>SELECT name FROM stadium EXCEPT SELECT T2.name FROM concert AS T1 JOIN stadium AS T2 ON T1.stadium_id  =  T2.stadium_id WHERE T1.year  =  2014</tt></li>\n",
       "        <li>Left: <tt>SELECT stadium.Name FROM stadium EXCEPT SELECT stadium.Name FROM stadium JOIN concert ON stadium.Stadium_ID = concert.Stadium_ID WHERE concert.Year = 'terminal'</tt></li>\n",
       "        <li>Right: <tt>SELECT concert.concert_Name FROM concert EXCEPT SELECT concert.concert_Name FROM concert WHERE concert.Year = 'terminal'</tt></li>\n",
       "    </ul>\n",
       "    "
      ],
      "text/plain": [
       "<IPython.core.display.HTML object>"
      ]
     },
     "metadata": {},
     "output_type": "display_data"
    },
    {
     "data": {
      "text/html": [
       "\n",
       "    <ul>\n",
       "        <li>Database: <tt>pets_1</tt></li>\n",
       "        <li>Question: Find the number of pets whose weight is <s>heavier</s> than 10 .</li>\n",
       "        <li>Gold: <tt>SELECT count(*) FROM pets WHERE weight  >  10</tt></li>\n",
       "        <li>Left: <tt>SELECT Count(*) FROM Pets WHERE Pets.weight > 'terminal'</tt></li>\n",
       "        <li>Right: <tt>SELECT Count(*) FROM Pets WHERE Pets.weight < 'terminal'</tt></li>\n",
       "    </ul>\n",
       "    "
      ],
      "text/plain": [
       "<IPython.core.display.HTML object>"
      ]
     },
     "metadata": {},
     "output_type": "display_data"
    },
    {
     "data": {
      "text/html": [
       "\n",
       "    <ul>\n",
       "        <li>Database: <tt>pets_1</tt></li>\n",
       "        <li>Question: Find the maximum weight for each type of <s>pet</s> . List the maximum weight and <s>pet</s> type .</li>\n",
       "        <li>Gold: <tt>SELECT max(weight) ,  petType FROM pets GROUP BY petType</tt></li>\n",
       "        <li>Left: <tt>SELECT Pets.PetType, Max(Pets.weight) FROM Pets GROUP BY Pets.PetType</tt></li>\n",
       "        <li>Right: <tt>SELECT Pets.weight, Max(Pets.weight), Pets.PetType FROM Pets GROUP BY Pets.PetType</tt></li>\n",
       "    </ul>\n",
       "    "
      ],
      "text/plain": [
       "<IPython.core.display.HTML object>"
      ]
     },
     "metadata": {},
     "output_type": "display_data"
    },
    {
     "data": {
      "text/html": [
       "\n",
       "    <ul>\n",
       "        <li>Database: <tt>pets_1</tt></li>\n",
       "        <li>Question: Find the id and weight of all pets whose age is older than 1 .</li>\n",
       "        <li>Gold: <tt>SELECT petid ,  weight FROM pets WHERE pet_age  >  1</tt></li>\n",
       "        <li>Left: <tt>SELECT Pets.PetID, Pets.weight FROM Pets WHERE Pets.pet_age > 'terminal'</tt></li>\n",
       "        <li>Right: <tt>SELECT Pets.PetID, Count(*) FROM Pets WHERE Pets.pet_age > 'terminal' GROUP BY Pets.PetID</tt></li>\n",
       "    </ul>\n",
       "    "
      ],
      "text/plain": [
       "<IPython.core.display.HTML object>"
      ]
     },
     "metadata": {},
     "output_type": "display_data"
    },
    {
     "data": {
      "text/html": [
       "\n",
       "    <ul>\n",
       "        <li>Database: <tt>pets_1</tt></li>\n",
       "        <li>Question: What is the id and weight of every <s>pet</s> who is older than 1 ?</li>\n",
       "        <li>Gold: <tt>SELECT petid ,  weight FROM pets WHERE pet_age  >  1</tt></li>\n",
       "        <li>Left: <tt>SELECT Pets.PetID, Pets.weight FROM Pets WHERE Pets.pet_age > 'terminal'</tt></li>\n",
       "        <li>Right: <tt>SELECT Pets.PetID, Pets.weight FROM Pets WHERE Pets.pet_age > 'terminal' GROUP BY Pets.PetID</tt></li>\n",
       "    </ul>\n",
       "    "
      ],
      "text/plain": [
       "<IPython.core.display.HTML object>"
      ]
     },
     "metadata": {},
     "output_type": "display_data"
    },
    {
     "data": {
      "text/html": [
       "\n",
       "    <ul>\n",
       "        <li>Database: <tt>pets_1</tt></li>\n",
       "        <li>Question: Find the average and maximum age for each type of <s>pet</s> .</li>\n",
       "        <li>Gold: <tt>SELECT avg(pet_age) ,  max(pet_age) ,  pettype FROM pets GROUP BY pettype</tt></li>\n",
       "        <li>Left: <tt>SELECT Pets.PetType, Avg(Pets.pet_age), Max(Pets.pet_age) FROM Pets GROUP BY Pets.PetType</tt></li>\n",
       "        <li>Right: <tt>SELECT Avg(Pets.pet_age), Min(Pets.pet_age), Pets.PetType FROM Pets GROUP BY Pets.PetType</tt></li>\n",
       "    </ul>\n",
       "    "
      ],
      "text/plain": [
       "<IPython.core.display.HTML object>"
      ]
     },
     "metadata": {},
     "output_type": "display_data"
    },
    {
     "data": {
      "text/html": [
       "\n",
       "    <ul>\n",
       "        <li>Database: <tt>pets_1</tt></li>\n",
       "        <li>Question: Find the first name and gender of student who have more than one <s>pet</s> .</li>\n",
       "        <li>Gold: <tt>SELECT T1.fname ,  T1.sex FROM student AS T1 JOIN has_pet AS T2 ON T1.stuid  =  T2.stuid GROUP BY T1.stuid HAVING count(*)  >  1</tt></li>\n",
       "        <li>Left: <tt>SELECT Student.Fname, Student.Sex FROM Student JOIN Has_Pet ON Student.StuID = Has_Pet.StuID GROUP BY Has_Pet.StuID HAVING Count(*) > 'terminal'</tt></li>\n",
       "        <li>Right: <tt>SELECT Student.Fname, Student.Sex FROM Student GROUP BY Student.StuID HAVING Count(*) > 'terminal'</tt></li>\n",
       "    </ul>\n",
       "    "
      ],
      "text/plain": [
       "<IPython.core.display.HTML object>"
      ]
     },
     "metadata": {},
     "output_type": "display_data"
    },
    {
     "data": {
      "text/html": [
       "\n",
       "    <ul>\n",
       "        <li>Database: <tt>car_1</tt></li>\n",
       "        <li>Question: What is the name of the country with the most <s>car</s> <s>makers</s> ?</li>\n",
       "        <li>Gold: <tt>SELECT T2.CountryName FROM CAR_MAKERS AS T1 JOIN COUNTRIES AS T2 ON T1.Country  =  T2.CountryId GROUP BY T1.Country ORDER BY Count(*) DESC LIMIT 1;</tt></li>\n",
       "        <li>Left: <tt>SELECT countries.CountryName FROM countries JOIN car_makers ON countries.CountryId = car_makers.Country GROUP BY car_makers.Country ORDER BY Count(*) Desc LIMIT 1</tt></li>\n",
       "        <li>Right: <tt>SELECT car_makers.Country FROM car_makers GROUP BY car_makers.Country ORDER BY Count(*) Desc LIMIT 1</tt></li>\n",
       "    </ul>\n",
       "    "
      ],
      "text/plain": [
       "<IPython.core.display.HTML object>"
      ]
     },
     "metadata": {},
     "output_type": "display_data"
    },
    {
     "data": {
      "text/html": [
       "\n",
       "    <ul>\n",
       "        <li>Database: <tt>car_1</tt></li>\n",
       "        <li>Question: What is the average weight and year for each year ?</li>\n",
       "        <li>Gold: <tt>SELECT avg(Weight) ,  YEAR FROM CARS_DATA GROUP BY YEAR;</tt></li>\n",
       "        <li>Left: <tt>SELECT Avg(cars_data.Weight), cars_data.Year FROM cars_data GROUP BY cars_data.Year</tt></li>\n",
       "        <li>Right: <tt>SELECT Avg(cars_data.Weight), Avg(cars_data.Weight), cars_data.Year FROM cars_data GROUP BY cars_data.Year</tt></li>\n",
       "    </ul>\n",
       "    "
      ],
      "text/plain": [
       "<IPython.core.display.HTML object>"
      ]
     },
     "metadata": {},
     "output_type": "display_data"
    },
    {
     "data": {
      "text/html": [
       "\n",
       "    <ul>\n",
       "        <li>Database: <tt>car_1</tt></li>\n",
       "        <li>Question: Which model has the most version ( make ) of <s>cars</s> ?</li>\n",
       "        <li>Gold: <tt>SELECT Model FROM CAR_NAMES GROUP BY Model ORDER BY count(*) DESC LIMIT 1;</tt></li>\n",
       "        <li>Left: <tt>SELECT car_names.Model FROM car_names GROUP BY car_names.Model ORDER BY Count(*) Desc LIMIT 1</tt></li>\n",
       "        <li>Right: <tt>SELECT model_list.Model FROM model_list GROUP BY model_list.Model ORDER BY Count(*) Desc LIMIT 1</tt></li>\n",
       "    </ul>\n",
       "    "
      ],
      "text/plain": [
       "<IPython.core.display.HTML object>"
      ]
     },
     "metadata": {},
     "output_type": "display_data"
    },
    {
     "data": {
      "text/html": [
       "\n",
       "    <ul>\n",
       "        <li>Database: <tt>car_1</tt></li>\n",
       "        <li>Question: What model has the most different <s>versions</s> ?</li>\n",
       "        <li>Gold: <tt>SELECT Model FROM CAR_NAMES GROUP BY Model ORDER BY count(*) DESC LIMIT 1;</tt></li>\n",
       "        <li>Left: <tt>SELECT car_names.Model FROM car_names GROUP BY car_names.Model ORDER BY Count(*) Desc LIMIT 1</tt></li>\n",
       "        <li>Right: <tt>SELECT model_list.Model FROM model_list GROUP BY model_list.Model ORDER BY Count(*) Desc LIMIT 1</tt></li>\n",
       "    </ul>\n",
       "    "
      ],
      "text/plain": [
       "<IPython.core.display.HTML object>"
      ]
     },
     "metadata": {},
     "output_type": "display_data"
    },
    {
     "data": {
      "text/html": [
       "\n",
       "    <ul>\n",
       "        <li>Database: <tt>flight_2</tt></li>\n",
       "        <li>Question: Give the airport code and airport name <s>corresonding</s> to the city <s>Anthony</s> .</li>\n",
       "        <li>Gold: <tt>SELECT AirportCode ,  AirportName FROM AIRPORTS WHERE city  =  \"Anthony\"</tt></li>\n",
       "        <li>Left: <tt>SELECT airports.AirportCode, airports.AirportName FROM airports WHERE airports.City = 'terminal'</tt></li>\n",
       "        <li>Right: <tt>SELECT airports.AirportCode, airports.AirportName FROM airports WHERE airports.AirportName = 'terminal'</tt></li>\n",
       "    </ul>\n",
       "    "
      ],
      "text/plain": [
       "<IPython.core.display.HTML object>"
      ]
     },
     "metadata": {},
     "output_type": "display_data"
    },
    {
     "data": {
      "text/html": [
       "\n",
       "    <ul>\n",
       "        <li>Database: <tt>employee_hire_evaluation</tt></li>\n",
       "        <li>Question: Return the name , location and district of all shops in descending order of number of products .</li>\n",
       "        <li>Gold: <tt>SELECT name ,  LOCATION ,  district FROM shop ORDER BY number_products DESC</tt></li>\n",
       "        <li>Left: <tt>SELECT shop.Name, shop.Location, shop.District FROM shop ORDER BY shop.Number_products Desc</tt></li>\n",
       "        <li>Right: <tt>SELECT shop.Name, shop.Location, shop.District FROM shop GROUP BY shop.Shop_ID ORDER BY Count(*) Desc</tt></li>\n",
       "    </ul>\n",
       "    "
      ],
      "text/plain": [
       "<IPython.core.display.HTML object>"
      ]
     },
     "metadata": {},
     "output_type": "display_data"
    },
    {
     "data": {
      "text/html": [
       "\n",
       "    <ul>\n",
       "        <li>Database: <tt>cre_Doc_Template_Mgt</tt></li>\n",
       "        <li>Question: List document IDs , document names , and document descriptions for all documents .</li>\n",
       "        <li>Gold: <tt>SELECT document_id ,  document_name ,  document_description FROM Documents</tt></li>\n",
       "        <li>Left: <tt>SELECT Documents.Document_ID, Documents.Document_Name, Documents.Document_Description FROM Documents</tt></li>\n",
       "        <li>Right: <tt>SELECT Documents.Document_ID, Documents.Document_Name, Documents.Document_Name, Documents.Document_Description FROM Documents</tt></li>\n",
       "    </ul>\n",
       "    "
      ],
      "text/plain": [
       "<IPython.core.display.HTML object>"
      ]
     },
     "metadata": {},
     "output_type": "display_data"
    },
    {
     "data": {
      "text/html": [
       "\n",
       "    <ul>\n",
       "        <li>Database: <tt>cre_Doc_Template_Mgt</tt></li>\n",
       "        <li>Question: Show <s>template</s> ids , version numbers , and <s>template</s> type codes for all <s>templates</s> .</li>\n",
       "        <li>Gold: <tt>SELECT template_id ,  version_number ,  template_type_code FROM Templates</tt></li>\n",
       "        <li>Left: <tt>SELECT Templates.Template_ID, Templates.Version_Number, Templates.Template_Type_Code FROM Templates</tt></li>\n",
       "        <li>Right: <tt>SELECT Templates.Template_ID, Templates.Version_Number, Templates.Template_Type_Code, Templates.Template_Type_Code FROM Templates</tt></li>\n",
       "    </ul>\n",
       "    "
      ],
      "text/plain": [
       "<IPython.core.display.HTML object>"
      ]
     },
     "metadata": {},
     "output_type": "display_data"
    },
    {
     "data": {
      "text/html": [
       "\n",
       "    <ul>\n",
       "        <li>Database: <tt>cre_Doc_Template_Mgt</tt></li>\n",
       "        <li>Question: What are the ids , version numbers , and type codes for each <s>template</s> ?</li>\n",
       "        <li>Gold: <tt>SELECT template_id ,  version_number ,  template_type_code FROM Templates</tt></li>\n",
       "        <li>Left: <tt>SELECT Templates.Template_ID, Templates.Version_Number, Templates.Template_Type_Code FROM Templates</tt></li>\n",
       "        <li>Right: <tt>SELECT Templates.Template_ID, Templates.Version_Number, Templates.Template_Type_Code, Templates.Template_Type_Code FROM Templates</tt></li>\n",
       "    </ul>\n",
       "    "
      ],
      "text/plain": [
       "<IPython.core.display.HTML object>"
      ]
     },
     "metadata": {},
     "output_type": "display_data"
    },
    {
     "data": {
      "text/html": [
       "\n",
       "    <ul>\n",
       "        <li>Database: <tt>cre_Doc_Template_Mgt</tt></li>\n",
       "        <li>Question: What are the different <s>template</s> type codes ?</li>\n",
       "        <li>Gold: <tt>SELECT DISTINCT template_type_code FROM Templates</tt></li>\n",
       "        <li>Left: <tt>SELECT DISTINCT Templates.Template_Type_Code FROM Templates</tt></li>\n",
       "        <li>Right: <tt>SELECT DISTINCT Ref_Template_Types.Template_Type_Code FROM Ref_Template_Types</tt></li>\n",
       "    </ul>\n",
       "    "
      ],
      "text/plain": [
       "<IPython.core.display.HTML object>"
      ]
     },
     "metadata": {},
     "output_type": "display_data"
    },
    {
     "data": {
      "text/html": [
       "\n",
       "    <ul>\n",
       "        <li>Database: <tt>cre_Doc_Template_Mgt</tt></li>\n",
       "        <li>Question: Return the <s>template</s> type code of the <s>template</s> that is used by a document named Data base .</li>\n",
       "        <li>Gold: <tt>SELECT T1.template_type_code FROM Templates AS T1 JOIN Documents AS T2 ON T1.template_id  =  T2.template_id WHERE T2.document_name  =  \"Data base\"</tt></li>\n",
       "        <li>Left: <tt>SELECT Templates.Template_Type_Code FROM Templates JOIN Documents ON Templates.Template_ID = Documents.Template_ID WHERE Documents.Document_Name = 'terminal'</tt></li>\n",
       "        <li>Right: <tt>SELECT Ref_Template_Types.Template_Type_Code FROM Ref_Template_Types JOIN Templates ON Ref_Template_Types.Template_Type_Code = Templates.Template_Type_Code JOIN Documents ON Templates.Template_ID = Documents.Template_ID WHERE Documents.Document_Name = 'terminal'</tt></li>\n",
       "    </ul>\n",
       "    "
      ],
      "text/plain": [
       "<IPython.core.display.HTML object>"
      ]
     },
     "metadata": {},
     "output_type": "display_data"
    },
    {
     "data": {
      "text/html": [
       "\n",
       "    <ul>\n",
       "        <li>Database: <tt>cre_Doc_Template_Mgt</tt></li>\n",
       "        <li>Question: Show all document ids , names and the number of <s>paragraphs</s> in each document .</li>\n",
       "        <li>Gold: <tt>SELECT T1.document_id ,  T2.document_name ,  count(*) FROM Paragraphs AS T1 JOIN Documents AS T2 ON T1.document_id  =  T2.document_id GROUP BY T1.document_id</tt></li>\n",
       "        <li>Left: <tt>SELECT Documents.Document_ID, Documents.Document_Name, Count(*) FROM Documents JOIN Paragraphs ON Documents.Document_ID = Paragraphs.Document_ID GROUP BY Paragraphs.Document_ID</tt></li>\n",
       "        <li>Right: <tt>SELECT Documents.Template_ID, Documents.Document_Name, Count(*) FROM Documents GROUP BY Documents.Document_ID</tt></li>\n",
       "    </ul>\n",
       "    "
      ],
      "text/plain": [
       "<IPython.core.display.HTML object>"
      ]
     },
     "metadata": {},
     "output_type": "display_data"
    },
    {
     "data": {
      "text/html": [
       "\n",
       "    <ul>\n",
       "        <li>Database: <tt>cre_Doc_Template_Mgt</tt></li>\n",
       "        <li>Question: What is the document id with least number of <s>paragraphs</s> ?</li>\n",
       "        <li>Gold: <tt>SELECT document_id FROM Paragraphs GROUP BY document_id ORDER BY count(*) ASC LIMIT 1</tt></li>\n",
       "        <li>Left: <tt>SELECT Paragraphs.Document_ID FROM Paragraphs GROUP BY Paragraphs.Document_ID ORDER BY Count(*) Asc LIMIT 1</tt></li>\n",
       "        <li>Right: <tt>SELECT Documents.Template_ID FROM Documents JOIN Paragraphs ON Documents.Document_ID = Paragraphs.Document_ID GROUP BY Paragraphs.Document_ID ORDER BY Count(*) Asc LIMIT 1</tt></li>\n",
       "    </ul>\n",
       "    "
      ],
      "text/plain": [
       "<IPython.core.display.HTML object>"
      ]
     },
     "metadata": {},
     "output_type": "display_data"
    },
    {
     "data": {
      "text/html": [
       "\n",
       "    <ul>\n",
       "        <li>Database: <tt>course_teach</tt></li>\n",
       "        <li>Question: What is the hometown of the youngest teacher ?</li>\n",
       "        <li>Gold: <tt>SELECT Hometown FROM teacher ORDER BY Age ASC LIMIT 1</tt></li>\n",
       "        <li>Left: <tt>SELECT teacher.Hometown FROM teacher ORDER BY teacher.Age Asc LIMIT 1</tt></li>\n",
       "        <li>Right: <tt>SELECT teacher.Hometown FROM teacher ORDER BY teacher.Age Desc LIMIT 1</tt></li>\n",
       "    </ul>\n",
       "    "
      ],
      "text/plain": [
       "<IPython.core.display.HTML object>"
      ]
     },
     "metadata": {},
     "output_type": "display_data"
    },
    {
     "data": {
      "text/html": [
       "\n",
       "    <ul>\n",
       "        <li>Database: <tt>course_teach</tt></li>\n",
       "        <li>Question: List the names of teachers who have not been <s>arranged</s> to teach courses .</li>\n",
       "        <li>Gold: <tt>SELECT Name FROM teacher WHERE Teacher_id NOT IN (SELECT Teacher_id FROM course_arrange)</tt></li>\n",
       "        <li>Left: <tt>SELECT teacher.Name FROM teacher WHERE teacher.Teacher_ID NOT IN (SELECT course_arrange.Teacher_ID FROM course_arrange)</tt></li>\n",
       "        <li>Right: <tt>SELECT teacher.Name FROM teacher EXCEPT SELECT teacher.Name FROM teacher</tt></li>\n",
       "    </ul>\n",
       "    "
      ],
      "text/plain": [
       "<IPython.core.display.HTML object>"
      ]
     },
     "metadata": {},
     "output_type": "display_data"
    },
    {
     "data": {
      "text/html": [
       "\n",
       "    <ul>\n",
       "        <li>Database: <tt>course_teach</tt></li>\n",
       "        <li>Question: What are the names of the teachers whose courses have not been <s>arranged</s> ?</li>\n",
       "        <li>Gold: <tt>SELECT Name FROM teacher WHERE Teacher_id NOT IN (SELECT Teacher_id FROM course_arrange)</tt></li>\n",
       "        <li>Left: <tt>SELECT teacher.Name FROM teacher WHERE teacher.Teacher_ID NOT IN (SELECT course_arrange.Teacher_ID FROM course_arrange)</tt></li>\n",
       "        <li>Right: <tt>SELECT teacher.Name FROM teacher EXCEPT SELECT teacher.Name FROM teacher</tt></li>\n",
       "    </ul>\n",
       "    "
      ],
      "text/plain": [
       "<IPython.core.display.HTML object>"
      ]
     },
     "metadata": {},
     "output_type": "display_data"
    },
    {
     "data": {
      "text/html": [
       "\n",
       "    <ul>\n",
       "        <li>Database: <tt>museum_visit</tt></li>\n",
       "        <li>Question: What is the average age of the <s>visitors</s> whose membership level is not higher than 4 ?</li>\n",
       "        <li>Gold: <tt>SELECT avg(age) FROM visitor WHERE Level_of_membership  <=  4</tt></li>\n",
       "        <li>Left: <tt>SELECT Avg(visitor.Age) FROM visitor WHERE visitor.Level_of_membership <= 'terminal'</tt></li>\n",
       "        <li>Right: <tt>SELECT Avg(visitor.Age) FROM visitor WHERE visitor.Level_of_membership > 'terminal' OR visitor.Level_of_membership < 'terminal'</tt></li>\n",
       "    </ul>\n",
       "    "
      ],
      "text/plain": [
       "<IPython.core.display.HTML object>"
      ]
     },
     "metadata": {},
     "output_type": "display_data"
    },
    {
     "data": {
      "text/html": [
       "\n",
       "    <ul>\n",
       "        <li>Database: <tt>museum_visit</tt></li>\n",
       "        <li>Question: Find the average number of staff working for the <s>museums</s> that were open before 2009 .</li>\n",
       "        <li>Gold: <tt>SELECT avg(num_of_staff) FROM museum WHERE open_year  <  2009</tt></li>\n",
       "        <li>Left: <tt>SELECT Avg(museum.Num_of_Staff) FROM museum WHERE museum.Open_Year < 'terminal'</tt></li>\n",
       "        <li>Right: <tt>SELECT Avg(museum.Num_of_Staff) FROM museum WHERE museum.Open_Year > 'terminal' AND museum.Open_Year < 'terminal'</tt></li>\n",
       "    </ul>\n",
       "    "
      ],
      "text/plain": [
       "<IPython.core.display.HTML object>"
      ]
     },
     "metadata": {},
     "output_type": "display_data"
    },
    {
     "data": {
      "text/html": [
       "\n",
       "    <ul>\n",
       "        <li>Database: <tt>wta_1</tt></li>\n",
       "        <li>Question: Find the average rank of <s>winners</s> in all matches .</li>\n",
       "        <li>Gold: <tt>SELECT avg(winner_rank) FROM matches</tt></li>\n",
       "        <li>Left: <tt>SELECT Avg(matches.winner_rank) FROM matches</tt></li>\n",
       "        <li>Right: <tt>SELECT Avg(matches.loser_rank_points) FROM matches</tt></li>\n",
       "    </ul>\n",
       "    "
      ],
      "text/plain": [
       "<IPython.core.display.HTML object>"
      ]
     },
     "metadata": {},
     "output_type": "display_data"
    },
    {
     "data": {
      "text/html": [
       "\n",
       "    <ul>\n",
       "        <li>Database: <tt>wta_1</tt></li>\n",
       "        <li>Question: What is the average rank for <s>winners</s> in all matches ?</li>\n",
       "        <li>Gold: <tt>SELECT avg(winner_rank) FROM matches</tt></li>\n",
       "        <li>Left: <tt>SELECT Avg(matches.winner_rank) FROM matches</tt></li>\n",
       "        <li>Right: <tt>SELECT Avg(matches.winner_rank_points) FROM matches</tt></li>\n",
       "    </ul>\n",
       "    "
      ],
      "text/plain": [
       "<IPython.core.display.HTML object>"
      ]
     },
     "metadata": {},
     "output_type": "display_data"
    },
    {
     "data": {
      "text/html": [
       "\n",
       "    <ul>\n",
       "        <li>Database: <tt>wta_1</tt></li>\n",
       "        <li>Question: Find the name of <s>tourney</s> that has more than 10 matches .</li>\n",
       "        <li>Gold: <tt>SELECT tourney_name FROM matches GROUP BY tourney_name HAVING count(*)  >  10</tt></li>\n",
       "        <li>Left: <tt>SELECT matches.tourney_name FROM matches GROUP BY matches.tourney_name HAVING Count(*) > 'terminal'</tt></li>\n",
       "        <li>Right: <tt>SELECT matches.tourney_name FROM matches GROUP BY matches.winner_name HAVING Count(*) > 'terminal'</tt></li>\n",
       "    </ul>\n",
       "    "
      ],
      "text/plain": [
       "<IPython.core.display.HTML object>"
      ]
     },
     "metadata": {},
     "output_type": "display_data"
    },
    {
     "data": {
      "text/html": [
       "\n",
       "    <ul>\n",
       "        <li>Database: <tt>wta_1</tt></li>\n",
       "        <li>Question: What are the names of <s>tournaments</s> that have more than 10 matches ?</li>\n",
       "        <li>Gold: <tt>SELECT tourney_name FROM matches GROUP BY tourney_name HAVING count(*)  >  10</tt></li>\n",
       "        <li>Left: <tt>SELECT matches.tourney_name FROM matches GROUP BY matches.tourney_name HAVING Count(*) > 'terminal'</tt></li>\n",
       "        <li>Right: <tt>SELECT matches.tourney_name FROM matches GROUP BY matches.winner_name HAVING Count(*) > 'terminal'</tt></li>\n",
       "    </ul>\n",
       "    "
      ],
      "text/plain": [
       "<IPython.core.display.HTML object>"
      ]
     },
     "metadata": {},
     "output_type": "display_data"
    },
    {
     "data": {
      "text/html": [
       "\n",
       "    <ul>\n",
       "        <li>Database: <tt>battle_death</tt></li>\n",
       "        <li>Question: List the name and tonnage ordered by in descending <s>alphaetical</s> order for the names .</li>\n",
       "        <li>Gold: <tt>SELECT name ,  tonnage FROM ship ORDER BY name DESC</tt></li>\n",
       "        <li>Left: <tt>SELECT ship.name, ship.tonnage FROM ship ORDER BY ship.name Desc</tt></li>\n",
       "        <li>Right: <tt>SELECT battle.name, battle.result FROM battle ORDER BY battle.name Desc</tt></li>\n",
       "    </ul>\n",
       "    "
      ],
      "text/plain": [
       "<IPython.core.display.HTML object>"
      ]
     },
     "metadata": {},
     "output_type": "display_data"
    },
    {
     "data": {
      "text/html": [
       "\n",
       "    <ul>\n",
       "        <li>Database: <tt>student_transcripts_tracking</tt></li>\n",
       "        <li>Question: Which department offers the most number of degrees ? List department name and id .</li>\n",
       "        <li>Gold: <tt>SELECT T2.department_name ,  T1.department_id FROM Degree_Programs AS T1 JOIN Departments AS T2 ON T1.department_id  =  T2.department_id GROUP BY T1.department_id ORDER BY count(*) DESC LIMIT 1</tt></li>\n",
       "        <li>Left: <tt>SELECT Departments.department_name, Degree_Programs.department_id FROM Departments JOIN Degree_Programs ON Departments.department_id = Degree_Programs.department_id GROUP BY Degree_Programs.department_id ORDER BY Count(*) Desc LIMIT 1</tt></li>\n",
       "        <li>Right: <tt>SELECT Departments.department_name, Departments.department_id FROM Departments GROUP BY Departments.department_id ORDER BY Count(*) Desc LIMIT 1</tt></li>\n",
       "    </ul>\n",
       "    "
      ],
      "text/plain": [
       "<IPython.core.display.HTML object>"
      ]
     },
     "metadata": {},
     "output_type": "display_data"
    },
    {
     "data": {
      "text/html": [
       "\n",
       "    <ul>\n",
       "        <li>Database: <tt>student_transcripts_tracking</tt></li>\n",
       "        <li>Question: How many departments offer any degree ?</li>\n",
       "        <li>Gold: <tt>SELECT count(DISTINCT department_id) FROM Degree_Programs</tt></li>\n",
       "        <li>Left: <tt>SELECT Count(DISTINCT Degree_Programs.department_id) FROM Degree_Programs</tt></li>\n",
       "        <li>Right: <tt>SELECT Count(*) FROM Addresses</tt></li>\n",
       "    </ul>\n",
       "    "
      ],
      "text/plain": [
       "<IPython.core.display.HTML object>"
      ]
     },
     "metadata": {},
     "output_type": "display_data"
    },
    {
     "data": {
      "text/html": [
       "\n",
       "    <ul>\n",
       "        <li>Database: <tt>student_transcripts_tracking</tt></li>\n",
       "        <li>Question: What are the names and id of courses having at most 2 sections ?</li>\n",
       "        <li>Gold: <tt>SELECT T1.course_name ,  T1.course_id FROM Courses AS T1 JOIN Sections AS T2 ON T1.course_id  =  T2.course_id GROUP BY T1.course_id HAVING count(*)  <=  2</tt></li>\n",
       "        <li>Left: <tt>SELECT Courses.course_name, Sections.course_id FROM Courses JOIN Sections ON Courses.course_id = Sections.course_id GROUP BY Sections.course_id HAVING Count(*) <= 'terminal'</tt></li>\n",
       "        <li>Right: <tt>SELECT Courses.course_name, Courses.course_id FROM Courses GROUP BY Courses.course_id HAVING Count(*) <= 'terminal'</tt></li>\n",
       "    </ul>\n",
       "    "
      ],
      "text/plain": [
       "<IPython.core.display.HTML object>"
      ]
     },
     "metadata": {},
     "output_type": "display_data"
    },
    {
     "data": {
      "text/html": [
       "\n",
       "    <ul>\n",
       "        <li>Database: <tt>student_transcripts_tracking</tt></li>\n",
       "        <li>Question: What is the phone number of the <s>man</s> with the first name <s>Timmothy</s> and the last name <s>Ward</s> ?</li>\n",
       "        <li>Gold: <tt>SELECT cell_mobile_number FROM Students WHERE first_name  =  'Timmothy' AND last_name  =  'Ward'</tt></li>\n",
       "        <li>Left: <tt>SELECT Students.cell_mobile_number FROM Students WHERE Students.first_name = 'terminal' AND Students.last_name = 'terminal'</tt></li>\n",
       "        <li>Right: <tt>SELECT Students.cell_mobile_number FROM Students WHERE Students.first_name = 'terminal'</tt></li>\n",
       "    </ul>\n",
       "    "
      ],
      "text/plain": [
       "<IPython.core.display.HTML object>"
      ]
     },
     "metadata": {},
     "output_type": "display_data"
    },
    {
     "data": {
      "text/html": [
       "\n",
       "    <ul>\n",
       "        <li>Database: <tt>student_transcripts_tracking</tt></li>\n",
       "        <li>Question: What is the mobile phone number of the student named <s>Timothy</s> <s>Ward</s> ?</li>\n",
       "        <li>Gold: <tt>SELECT cell_mobile_number FROM Students WHERE first_name  =  'Timmothy' AND last_name  =  'Ward'</tt></li>\n",
       "        <li>Left: <tt>SELECT Students.cell_mobile_number FROM Students WHERE Students.first_name = 'terminal' AND Students.last_name = 'terminal'</tt></li>\n",
       "        <li>Right: <tt>SELECT Students.cell_mobile_number FROM Students WHERE Students.first_name = 'terminal'</tt></li>\n",
       "    </ul>\n",
       "    "
      ],
      "text/plain": [
       "<IPython.core.display.HTML object>"
      ]
     },
     "metadata": {},
     "output_type": "display_data"
    },
    {
     "data": {
      "text/html": [
       "\n",
       "    <ul>\n",
       "        <li>Database: <tt>student_transcripts_tracking</tt></li>\n",
       "        <li>Question: On average , when were the <s>transcripts</s> <s>printed</s> ?</li>\n",
       "        <li>Gold: <tt>SELECT avg(transcript_date) FROM Transcripts</tt></li>\n",
       "        <li>Left: <tt>SELECT Avg(Transcripts.transcript_date) FROM Transcripts</tt></li>\n",
       "        <li>Right: <tt>SELECT Avg(Transcripts.transcript_date), Min(Transcripts.transcript_date) FROM Transcripts</tt></li>\n",
       "    </ul>\n",
       "    "
      ],
      "text/plain": [
       "<IPython.core.display.HTML object>"
      ]
     },
     "metadata": {},
     "output_type": "display_data"
    },
    {
     "data": {
      "text/html": [
       "\n",
       "    <ul>\n",
       "        <li>Database: <tt>poker_player</tt></li>\n",
       "        <li>Question: What are the names of people who are not from Russia ?</li>\n",
       "        <li>Gold: <tt>SELECT Name FROM people WHERE Nationality != \"Russia\"</tt></li>\n",
       "        <li>Left: <tt>SELECT people.Name FROM people WHERE people.Nationality != 'terminal'</tt></li>\n",
       "        <li>Right: <tt>SELECT people.Name FROM people EXCEPT SELECT people.Name FROM people WHERE people.Nationality = 'terminal'</tt></li>\n",
       "    </ul>\n",
       "    "
      ],
      "text/plain": [
       "<IPython.core.display.HTML object>"
      ]
     },
     "metadata": {},
     "output_type": "display_data"
    },
    {
     "data": {
      "text/html": [
       "\n",
       "    <ul>\n",
       "        <li>Database: <tt>voter_1</tt></li>\n",
       "        <li>Question: What are the maximum and minimum values of area codes ?</li>\n",
       "        <li>Gold: <tt>SELECT max(area_code) ,  min(area_code) FROM area_code_state</tt></li>\n",
       "        <li>Left: <tt>SELECT Max(AREA_CODE_STATE.area_code), Min(AREA_CODE_STATE.area_code) FROM AREA_CODE_STATE</tt></li>\n",
       "        <li>Right: <tt>SELECT Max(AREA_CODE_STATE.state), Min(AREA_CODE_STATE.state) FROM AREA_CODE_STATE</tt></li>\n",
       "    </ul>\n",
       "    "
      ],
      "text/plain": [
       "<IPython.core.display.HTML object>"
      ]
     },
     "metadata": {},
     "output_type": "display_data"
    },
    {
     "data": {
      "text/html": [
       "\n",
       "    <ul>\n",
       "        <li>Database: <tt>world_1</tt></li>\n",
       "        <li>Question: What are the names of all the countries that became <s>independent</s> after <s>1950</s> ?</li>\n",
       "        <li>Gold: <tt>SELECT Name FROM country WHERE IndepYear  >  1950</tt></li>\n",
       "        <li>Left: <tt>SELECT country.Name FROM country WHERE country.IndepYear > 'terminal'</tt></li>\n",
       "        <li>Right: <tt>SELECT country.Continent FROM country WHERE country.IndepYear > 'terminal'</tt></li>\n",
       "    </ul>\n",
       "    "
      ],
      "text/plain": [
       "<IPython.core.display.HTML object>"
      ]
     },
     "metadata": {},
     "output_type": "display_data"
    },
    {
     "data": {
      "text/html": [
       "\n",
       "    <ul>\n",
       "        <li>Database: <tt>world_1</tt></li>\n",
       "        <li>Question: Give the names of the nations that were founded after <s>1950</s> .</li>\n",
       "        <li>Gold: <tt>SELECT Name FROM country WHERE IndepYear  >  1950</tt></li>\n",
       "        <li>Left: <tt>SELECT country.Name FROM country WHERE country.IndepYear > 'terminal'</tt></li>\n",
       "        <li>Right: <tt>SELECT country.Continent FROM country WHERE country.IndepYear > 'terminal'</tt></li>\n",
       "    </ul>\n",
       "    "
      ],
      "text/plain": [
       "<IPython.core.display.HTML object>"
      ]
     },
     "metadata": {},
     "output_type": "display_data"
    },
    {
     "data": {
      "text/html": [
       "\n",
       "    <ul>\n",
       "        <li>Database: <tt>world_1</tt></li>\n",
       "        <li>Question: Give the name , population , and head of state for the country that has the largest area .</li>\n",
       "        <li>Gold: <tt>SELECT Name ,  population ,  HeadOfState FROM country ORDER BY SurfaceArea DESC LIMIT 1</tt></li>\n",
       "        <li>Left: <tt>SELECT country.Name, country.Population, country.HeadOfState FROM country ORDER BY country.SurfaceArea Desc LIMIT 1</tt></li>\n",
       "        <li>Right: <tt>SELECT country.Name, country.Population, country.HeadOfState FROM country WHERE country.SurfaceArea = (SELECT Max(country.SurfaceArea) FROM country)</tt></li>\n",
       "    </ul>\n",
       "    "
      ],
      "text/plain": [
       "<IPython.core.display.HTML object>"
      ]
     },
     "metadata": {},
     "output_type": "display_data"
    },
    {
     "data": {
      "text/html": [
       "\n",
       "    <ul>\n",
       "        <li>Database: <tt>world_1</tt></li>\n",
       "        <li>Question: What are the names of the nations with the 3 lowest populations ?</li>\n",
       "        <li>Gold: <tt>SELECT Name FROM country ORDER BY Population ASC LIMIT 3</tt></li>\n",
       "        <li>Left: <tt>SELECT country.Name FROM country ORDER BY country.Population Asc LIMIT 1</tt></li>\n",
       "        <li>Right: <tt>SELECT country.Continent FROM country ORDER BY country.Population Asc LIMIT 1</tt></li>\n",
       "    </ul>\n",
       "    "
      ],
      "text/plain": [
       "<IPython.core.display.HTML object>"
      ]
     },
     "metadata": {},
     "output_type": "display_data"
    },
    {
     "data": {
      "text/html": [
       "\n",
       "    <ul>\n",
       "        <li>Database: <tt>orchestra</tt></li>\n",
       "        <li>Question: Please show the name of the <s>conductor</s> that has <s>conducted</s> <s>orchestras</s> founded after 2008 .</li>\n",
       "        <li>Gold: <tt>SELECT T1.Name FROM conductor AS T1 JOIN orchestra AS T2 ON T1.Conductor_ID  =  T2.Conductor_ID WHERE Year_of_Founded  >  2008</tt></li>\n",
       "        <li>Left: <tt>SELECT conductor.Name FROM conductor JOIN orchestra ON conductor.Conductor_ID = orchestra.Conductor_ID WHERE orchestra.Year_of_Founded > 'terminal'</tt></li>\n",
       "        <li>Right: <tt>SELECT conductor.Name FROM conductor WHERE conductor.Year_of_Work > 'terminal'</tt></li>\n",
       "    </ul>\n",
       "    "
      ],
      "text/plain": [
       "<IPython.core.display.HTML object>"
      ]
     },
     "metadata": {},
     "output_type": "display_data"
    },
    {
     "data": {
      "text/html": [
       "\n",
       "    <ul>\n",
       "        <li>Database: <tt>orchestra</tt></li>\n",
       "        <li>Question: What are years of <s>founding</s> for <s>orchestras</s> that have had more than a single performance ?</li>\n",
       "        <li>Gold: <tt>SELECT Year_of_Founded FROM orchestra AS T1 JOIN performance AS T2 ON T1.Orchestra_ID  =  T2.Orchestra_ID GROUP BY T2.Orchestra_ID HAVING COUNT(*)  >  1</tt></li>\n",
       "        <li>Left: <tt>SELECT orchestra.Year_of_Founded FROM orchestra JOIN performance ON orchestra.Orchestra_ID = performance.Orchestra_ID GROUP BY performance.Orchestra_ID HAVING Count(*) > 'terminal'</tt></li>\n",
       "        <li>Right: <tt>SELECT conductor.Year_of_Work FROM conductor JOIN orchestra ON conductor.Conductor_ID = orchestra.Conductor_ID GROUP BY orchestra.Orchestra_ID HAVING Count(*) > 'terminal'</tt></li>\n",
       "    </ul>\n",
       "    "
      ],
      "text/plain": [
       "<IPython.core.display.HTML object>"
      ]
     },
     "metadata": {},
     "output_type": "display_data"
    },
    {
     "data": {
      "text/html": [
       "\n",
       "    <ul>\n",
       "        <li>Database: <tt>network_1</tt></li>\n",
       "        <li>Question: How many high <s>schoolers</s> are there ?</li>\n",
       "        <li>Gold: <tt>SELECT count(*) FROM Highschooler</tt></li>\n",
       "        <li>Left: <tt>SELECT Count(*) FROM Highschooler</tt></li>\n",
       "        <li>Right: <tt>SELECT Count(DISTINCT Highschooler.grade) FROM Highschooler</tt></li>\n",
       "    </ul>\n",
       "    "
      ],
      "text/plain": [
       "<IPython.core.display.HTML object>"
      ]
     },
     "metadata": {},
     "output_type": "display_data"
    },
    {
     "data": {
      "text/html": [
       "\n",
       "    <ul>\n",
       "        <li>Database: <tt>network_1</tt></li>\n",
       "        <li>Question: What is the grade of each high <s>schooler</s> ?</li>\n",
       "        <li>Gold: <tt>SELECT grade FROM Highschooler</tt></li>\n",
       "        <li>Left: <tt>SELECT DISTINCT Highschooler.grade FROM Highschooler</tt></li>\n",
       "        <li>Right: <tt>SELECT Highschooler.grade FROM Highschooler WHERE Highschooler.grade = 'terminal'</tt></li>\n",
       "    </ul>\n",
       "    "
      ],
      "text/plain": [
       "<IPython.core.display.HTML object>"
      ]
     },
     "metadata": {},
     "output_type": "display_data"
    },
    {
     "data": {
      "text/html": [
       "\n",
       "    <ul>\n",
       "        <li>Database: <tt>network_1</tt></li>\n",
       "        <li>Question: Return the grade for the high <s>schooler</s> named <s>Kyle</s> .</li>\n",
       "        <li>Gold: <tt>SELECT grade FROM Highschooler WHERE name  =  \"Kyle\"</tt></li>\n",
       "        <li>Left: <tt>SELECT Highschooler.grade FROM Highschooler WHERE Highschooler.name = 'terminal'</tt></li>\n",
       "        <li>Right: <tt>SELECT Highschooler.grade FROM Highschooler WHERE Highschooler.name = 'terminal' AND Highschooler.name = 'terminal'</tt></li>\n",
       "    </ul>\n",
       "    "
      ],
      "text/plain": [
       "<IPython.core.display.HTML object>"
      ]
     },
     "metadata": {},
     "output_type": "display_data"
    },
    {
     "data": {
      "text/html": [
       "\n",
       "    <ul>\n",
       "        <li>Database: <tt>network_1</tt></li>\n",
       "        <li>Question: How many high <s>schoolers</s> are there in grade 9 or 10 ?</li>\n",
       "        <li>Gold: <tt>SELECT count(*) FROM Highschooler WHERE grade  =  9 OR grade  =  10</tt></li>\n",
       "        <li>Left: <tt>SELECT Count(*) FROM Highschooler WHERE Highschooler.grade = 'terminal' OR Highschooler.grade = 'terminal'</tt></li>\n",
       "        <li>Right: <tt>SELECT Count(*) FROM Highschooler WHERE Highschooler.grade >= 'terminal'</tt></li>\n",
       "    </ul>\n",
       "    "
      ],
      "text/plain": [
       "<IPython.core.display.HTML object>"
      ]
     },
     "metadata": {},
     "output_type": "display_data"
    },
    {
     "data": {
      "text/html": [
       "\n",
       "    <ul>\n",
       "        <li>Database: <tt>network_1</tt></li>\n",
       "        <li>Question: Show the student IDs and numbers of friends corresponding to each .</li>\n",
       "        <li>Gold: <tt>SELECT student_id ,  count(*) FROM Friend GROUP BY student_id</tt></li>\n",
       "        <li>Left: <tt>SELECT Friend.student_id, Count(*) FROM Friend GROUP BY Friend.student_id</tt></li>\n",
       "        <li>Right: <tt>SELECT Likes.student_id, Likes.liked_id FROM Likes</tt></li>\n",
       "    </ul>\n",
       "    "
      ],
      "text/plain": [
       "<IPython.core.display.HTML object>"
      ]
     },
     "metadata": {},
     "output_type": "display_data"
    },
    {
     "data": {
      "text/html": [
       "\n",
       "    <ul>\n",
       "        <li>Database: <tt>network_1</tt></li>\n",
       "        <li>Question: Show the names of high school students and their corresponding number of friends .</li>\n",
       "        <li>Gold: <tt>SELECT T2.name ,  count(*) FROM Friend AS T1 JOIN Highschooler AS T2 ON T1.student_id  =  T2.id GROUP BY T1.student_id</tt></li>\n",
       "        <li>Left: <tt>SELECT Highschooler.name, Count(*) FROM Highschooler JOIN Friend ON Highschooler.ID = Friend.student_id GROUP BY Friend.student_id</tt></li>\n",
       "        <li>Right: <tt>SELECT Highschooler.name, Count(*) FROM Highschooler GROUP BY Highschooler.grade</tt></li>\n",
       "    </ul>\n",
       "    "
      ],
      "text/plain": [
       "<IPython.core.display.HTML object>"
      ]
     },
     "metadata": {},
     "output_type": "display_data"
    },
    {
     "data": {
      "text/html": [
       "\n",
       "    <ul>\n",
       "        <li>Database: <tt>network_1</tt></li>\n",
       "        <li>Question: What are the names of the high <s>schoolers</s> and how many friends does each have ?</li>\n",
       "        <li>Gold: <tt>SELECT T2.name ,  count(*) FROM Friend AS T1 JOIN Highschooler AS T2 ON T1.student_id  =  T2.id GROUP BY T1.student_id</tt></li>\n",
       "        <li>Left: <tt>SELECT Highschooler.name, Count(*) FROM Highschooler JOIN Friend ON Highschooler.ID = Friend.student_id GROUP BY Friend.friend_id</tt></li>\n",
       "        <li>Right: <tt>SELECT Highschooler.grade, Count(*) FROM Highschooler GROUP BY Highschooler.grade</tt></li>\n",
       "    </ul>\n",
       "    "
      ],
      "text/plain": [
       "<IPython.core.display.HTML object>"
      ]
     },
     "metadata": {},
     "output_type": "display_data"
    },
    {
     "data": {
      "text/html": [
       "\n",
       "    <ul>\n",
       "        <li>Database: <tt>network_1</tt></li>\n",
       "        <li>Question: What are the ids of high school students who do not have friends ?</li>\n",
       "        <li>Gold: <tt>SELECT id FROM Highschooler EXCEPT SELECT student_id FROM Friend</tt></li>\n",
       "        <li>Left: <tt>SELECT Highschooler.ID FROM Highschooler EXCEPT SELECT Friend.student_id FROM Friend</tt></li>\n",
       "        <li>Right: <tt>SELECT Highschooler.grade FROM Highschooler WHERE Highschooler.ID NOT IN (SELECT Friend.student_id FROM Friend)</tt></li>\n",
       "    </ul>\n",
       "    "
      ],
      "text/plain": [
       "<IPython.core.display.HTML object>"
      ]
     },
     "metadata": {},
     "output_type": "display_data"
    },
    {
     "data": {
      "text/html": [
       "\n",
       "    <ul>\n",
       "        <li>Database: <tt>network_1</tt></li>\n",
       "        <li>Question: What are the names of students who have 2 or more likes ?</li>\n",
       "        <li>Gold: <tt>SELECT T2.name FROM Likes AS T1 JOIN Highschooler AS T2 ON T1.student_id  =  T2.id GROUP BY T1.student_id HAVING count(*)  >=  2</tt></li>\n",
       "        <li>Left: <tt>SELECT Highschooler.name FROM Highschooler JOIN Likes ON Highschooler.ID = Likes.liked_id GROUP BY Likes.student_id HAVING Count(*) >= 'terminal'</tt></li>\n",
       "        <li>Right: <tt>SELECT Highschooler.name FROM Highschooler JOIN Friend ON Highschooler.ID = Friend.student_id GROUP BY Friend.student_id HAVING Count(*) >= 'terminal'</tt></li>\n",
       "    </ul>\n",
       "    "
      ],
      "text/plain": [
       "<IPython.core.display.HTML object>"
      ]
     },
     "metadata": {},
     "output_type": "display_data"
    },
    {
     "data": {
      "text/html": [
       "\n",
       "    <ul>\n",
       "        <li>Database: <tt>dog_kennels</tt></li>\n",
       "        <li>Question: How many <s>dogs</s> have an age below the average ?</li>\n",
       "        <li>Gold: <tt>SELECT count(*) FROM Dogs WHERE age  <  ( SELECT avg(age) FROM Dogs )</tt></li>\n",
       "        <li>Left: <tt>SELECT Count(*) FROM Dogs WHERE Dogs.age < (SELECT Avg(Dogs.age) FROM Dogs)</tt></li>\n",
       "        <li>Right: <tt>SELECT Count(*) FROM Dogs WHERE Dogs.age > (SELECT Avg(Dogs.age) FROM Dogs)</tt></li>\n",
       "    </ul>\n",
       "    "
      ],
      "text/plain": [
       "<IPython.core.display.HTML object>"
      ]
     },
     "metadata": {},
     "output_type": "display_data"
    },
    {
     "data": {
      "text/html": [
       "\n",
       "    <ul>\n",
       "        <li>Database: <tt>dog_kennels</tt></li>\n",
       "        <li>Question: Count the number of <s>dogs</s> of an age below the average .</li>\n",
       "        <li>Gold: <tt>SELECT count(*) FROM Dogs WHERE age  <  ( SELECT avg(age) FROM Dogs )</tt></li>\n",
       "        <li>Left: <tt>SELECT Count(*) FROM Dogs WHERE Dogs.age < (SELECT Avg(Dogs.age) FROM Dogs)</tt></li>\n",
       "        <li>Right: <tt>SELECT Count(*) FROM Dogs WHERE Dogs.age > (SELECT Avg(Dogs.age) FROM Dogs)</tt></li>\n",
       "    </ul>\n",
       "    "
      ],
      "text/plain": [
       "<IPython.core.display.HTML object>"
      ]
     },
     "metadata": {},
     "output_type": "display_data"
    },
    {
     "data": {
      "text/html": [
       "\n",
       "    <ul>\n",
       "        <li>Database: <tt>dog_kennels</tt></li>\n",
       "        <li>Question: List each charge type and its amount .</li>\n",
       "        <li>Gold: <tt>SELECT charge_type ,  charge_amount FROM Charges</tt></li>\n",
       "        <li>Left: <tt>SELECT Charges.charge_type, Charges.charge_amount FROM Charges</tt></li>\n",
       "        <li>Right: <tt>SELECT Treatment_Types.treatment_type_code, Charges.charge_amount FROM Charges JOIN Treatment_Types</tt></li>\n",
       "    </ul>\n",
       "    "
      ],
      "text/plain": [
       "<IPython.core.display.HTML object>"
      ]
     },
     "metadata": {},
     "output_type": "display_data"
    },
    {
     "data": {
      "text/html": [
       "\n",
       "    <ul>\n",
       "        <li>Database: <tt>singer</tt></li>\n",
       "        <li>Question: Show the name of singers whose birth year is either <s>1948</s> or <s>1949</s> ?</li>\n",
       "        <li>Gold: <tt>SELECT Name FROM singer WHERE Birth_Year  =  1948 OR Birth_Year  =  1949</tt></li>\n",
       "        <li>Left: <tt>SELECT singer.Name FROM singer WHERE singer.Birth_Year = 'terminal' OR singer.Birth_Year = 'terminal'</tt></li>\n",
       "        <li>Right: <tt>SELECT singer.Name FROM singer WHERE singer.Citizenship = 'terminal' OR singer.Birth_Year = 'terminal'</tt></li>\n",
       "    </ul>\n",
       "    "
      ],
      "text/plain": [
       "<IPython.core.display.HTML object>"
      ]
     },
     "metadata": {},
     "output_type": "display_data"
    },
    {
     "data": {
      "text/html": [
       "\n",
       "    <ul>\n",
       "        <li>Database: <tt>singer</tt></li>\n",
       "        <li>Question: What are the names of the singers whose birth years are either <s>1948</s> or <s>1949</s> ?</li>\n",
       "        <li>Gold: <tt>SELECT Name FROM singer WHERE Birth_Year  =  1948 OR Birth_Year  =  1949</tt></li>\n",
       "        <li>Left: <tt>SELECT singer.Name FROM singer WHERE singer.Birth_Year = 'terminal' OR singer.Birth_Year = 'terminal'</tt></li>\n",
       "        <li>Right: <tt>SELECT DISTINCT singer.Name FROM singer WHERE singer.Citizenship = 'terminal' OR singer.Birth_Year = 'terminal'</tt></li>\n",
       "    </ul>\n",
       "    "
      ],
      "text/plain": [
       "<IPython.core.display.HTML object>"
      ]
     },
     "metadata": {},
     "output_type": "display_data"
    },
    {
     "data": {
      "text/html": [
       "\n",
       "    <ul>\n",
       "        <li>Database: <tt>singer</tt></li>\n",
       "        <li>Question: List the name of singers that do not have any song .</li>\n",
       "        <li>Gold: <tt>SELECT Name FROM singer WHERE Singer_ID NOT IN (SELECT Singer_ID FROM song)</tt></li>\n",
       "        <li>Left: <tt>SELECT singer.Name FROM singer WHERE singer.Singer_ID NOT IN (SELECT song.Singer_ID FROM song)</tt></li>\n",
       "        <li>Right: <tt>SELECT singer.Name FROM singer EXCEPT SELECT singer.Name FROM singer</tt></li>\n",
       "    </ul>\n",
       "    "
      ],
      "text/plain": [
       "<IPython.core.display.HTML object>"
      ]
     },
     "metadata": {},
     "output_type": "display_data"
    }
   ],
   "source": [
    "for item in left_exact:\n",
    "    display_item(item)"
   ]
  },
  {
   "cell_type": "code",
   "execution_count": 67,
   "metadata": {
    "scrolled": false
   },
   "outputs": [
    {
     "data": {
      "text/html": [
       "\n",
       "    <ul>\n",
       "        <li>Database: <tt>concert_singer</tt></li>\n",
       "        <li>Question: What is the average , minimum , and maximum age for all <s>French</s> singers ?</li>\n",
       "        <li>Gold: <tt>SELECT avg(age) ,  min(age) ,  max(age) FROM singer WHERE country  =  'France'</tt></li>\n",
       "        <li>Left: <tt>SELECT Avg(singer.Age), Max(singer.Age), Min(singer.Age) FROM singer</tt></li>\n",
       "        <li>Right: <tt>SELECT Avg(singer.Age), Min(singer.Age), Max(singer.Age) FROM singer WHERE singer.Country = 'terminal'</tt></li>\n",
       "    </ul>\n",
       "    "
      ],
      "text/plain": [
       "<IPython.core.display.HTML object>"
      ]
     },
     "metadata": {},
     "output_type": "display_data"
    },
    {
     "data": {
      "text/html": [
       "\n",
       "    <ul>\n",
       "        <li>Database: <tt>concert_singer</tt></li>\n",
       "        <li>Question: Show the stadium name and capacity with most number of <s>concerts</s> in year 2014 or after .</li>\n",
       "        <li>Gold: <tt>SELECT T2.name ,  T2.capacity FROM concert AS T1 JOIN stadium AS T2 ON T1.stadium_id  =  T2.stadium_id WHERE T1.year  >=  2014 GROUP BY T2.stadium_id ORDER BY count(*) DESC LIMIT 1</tt></li>\n",
       "        <li>Left: <tt>SELECT stadium.Name, stadium.Capacity FROM stadium JOIN concert ON stadium.Stadium_ID = concert.Stadium_ID WHERE concert.Year > 'terminal' GROUP BY stadium.Stadium_ID ORDER BY Count(*) Desc LIMIT 1</tt></li>\n",
       "        <li>Right: <tt>SELECT stadium.Name, stadium.Capacity FROM stadium JOIN concert ON stadium.Stadium_ID = concert.Stadium_ID WHERE concert.Year >= 'terminal' GROUP BY concert.Stadium_ID ORDER BY Count(*) Desc LIMIT 1</tt></li>\n",
       "    </ul>\n",
       "    "
      ],
      "text/plain": [
       "<IPython.core.display.HTML object>"
      ]
     },
     "metadata": {},
     "output_type": "display_data"
    },
    {
     "data": {
      "text/html": [
       "\n",
       "    <ul>\n",
       "        <li>Database: <tt>pets_1</tt></li>\n",
       "        <li>Question: How many <s>dog</s> pets are raised by female students ?</li>\n",
       "        <li>Gold: <tt>SELECT count(*) FROM student AS T1 JOIN has_pet AS T2 ON T1.stuid  =  T2.stuid JOIN pets AS T3 ON T2.petid  =  T3.petid WHERE T1.sex  =  'F' AND T3.pettype  =  'dog'</tt></li>\n",
       "        <li>Left: <tt>SELECT Count(*) FROM Student WHERE Student.Sex = 'terminal'</tt></li>\n",
       "        <li>Right: <tt>SELECT Count(*) FROM Student JOIN Has_Pet ON Student.StuID = Has_Pet.StuID JOIN Pets ON Has_Pet.PetID = Pets.PetID WHERE Student.Sex = 'terminal' AND Pets.PetType = 'terminal'</tt></li>\n",
       "    </ul>\n",
       "    "
      ],
      "text/plain": [
       "<IPython.core.display.HTML object>"
      ]
     },
     "metadata": {},
     "output_type": "display_data"
    },
    {
     "data": {
      "text/html": [
       "\n",
       "    <ul>\n",
       "        <li>Database: <tt>pets_1</tt></li>\n",
       "        <li>Question: What is the id of the <s>pet</s> owned by the student whose last name is <s>'Smith</s> ' ?</li>\n",
       "        <li>Gold: <tt>SELECT T2.petid FROM student AS T1 JOIN has_pet AS T2 ON T1.stuid  =  T2.stuid WHERE T1.Lname  =  'Smith'</tt></li>\n",
       "        <li>Left: <tt>SELECT Student.StuID FROM Student WHERE Student.LName = 'terminal'</tt></li>\n",
       "        <li>Right: <tt>SELECT Has_Pet.PetID FROM Student JOIN Has_Pet ON Student.StuID = Has_Pet.StuID WHERE Student.LName = 'terminal'</tt></li>\n",
       "    </ul>\n",
       "    "
      ],
      "text/plain": [
       "<IPython.core.display.HTML object>"
      ]
     },
     "metadata": {},
     "output_type": "display_data"
    },
    {
     "data": {
      "text/html": [
       "\n",
       "    <ul>\n",
       "        <li>Database: <tt>car_1</tt></li>\n",
       "        <li>Question: Which <s>makers</s> <s>designed</s> more than 3 <s>car</s> models ? List full name and the id .</li>\n",
       "        <li>Gold: <tt>SELECT T1.FullName ,  T1.Id FROM CAR_MAKERS AS T1 JOIN MODEL_LIST AS T2 ON T1.Id  =  T2.Maker GROUP BY T1.Id HAVING count(*)  >  3;</tt></li>\n",
       "        <li>Left: <tt>SELECT car_makers.FullName, car_makers.Id FROM car_makers JOIN model_list ON car_makers.Id = model_list.Maker JOIN car_names ON model_list.Model = car_names.Model JOIN cars_data ON car_names.MakeId = cars_data.Id GROUP BY cars_data.Id HAVING Count(*) > 'terminal'</tt></li>\n",
       "        <li>Right: <tt>SELECT car_makers.FullName, car_makers.Id FROM car_makers JOIN model_list ON car_makers.Id = model_list.Maker GROUP BY model_list.Maker HAVING Count(*) > 'terminal'</tt></li>\n",
       "    </ul>\n",
       "    "
      ],
      "text/plain": [
       "<IPython.core.display.HTML object>"
      ]
     },
     "metadata": {},
     "output_type": "display_data"
    },
    {
     "data": {
      "text/html": [
       "\n",
       "    <ul>\n",
       "        <li>Database: <tt>flight_2</tt></li>\n",
       "        <li>Question: Which <s>abbreviation</s> <s>corresponds</s> to <s>Jetblue</s> <s>Airways</s> ?</li>\n",
       "        <li>Gold: <tt>SELECT Abbreviation FROM AIRLINES WHERE Airline  =  \"JetBlue Airways\"</tt></li>\n",
       "        <li>Left: <tt>SELECT flights.DestAirport FROM airports JOIN flights ON airports.AirportCode = flights.SourceAirport WHERE airports.AirportName LIKE 'terminal'</tt></li>\n",
       "        <li>Right: <tt>SELECT airlines.Abbreviation FROM airlines WHERE airlines.Airline = 'terminal'</tt></li>\n",
       "    </ul>\n",
       "    "
      ],
      "text/plain": [
       "<IPython.core.display.HTML object>"
      ]
     },
     "metadata": {},
     "output_type": "display_data"
    },
    {
     "data": {
      "text/html": [
       "\n",
       "    <ul>\n",
       "        <li>Database: <tt>flight_2</tt></li>\n",
       "        <li>Question: Return the name of the airport with code <s>'AKO</s> ' .</li>\n",
       "        <li>Gold: <tt>SELECT AirportName FROM AIRPORTS WHERE AirportCode  =  \"AKO\"</tt></li>\n",
       "        <li>Left: <tt>SELECT airports.City FROM airports WHERE airports.AirportCode = 'terminal'</tt></li>\n",
       "        <li>Right: <tt>SELECT airports.AirportName FROM airports WHERE airports.AirportCode = 'terminal'</tt></li>\n",
       "    </ul>\n",
       "    "
      ],
      "text/plain": [
       "<IPython.core.display.HTML object>"
      ]
     },
     "metadata": {},
     "output_type": "display_data"
    },
    {
     "data": {
      "text/html": [
       "\n",
       "    <ul>\n",
       "        <li>Database: <tt>flight_2</tt></li>\n",
       "        <li>Question: What is the code of airport that has fewest number of flights ?</li>\n",
       "        <li>Gold: <tt>SELECT T1.AirportCode FROM AIRPORTS AS T1 JOIN FLIGHTS AS T2 ON T1.AirportCode  =  T2.DestAirport OR T1.AirportCode  =  T2.SourceAirport GROUP BY T1.AirportCode ORDER BY count(*) LIMIT 1</tt></li>\n",
       "        <li>Left: <tt>SELECT airports.AirportCode FROM airports GROUP BY airports.AirportCode ORDER BY Count(*) Asc LIMIT 1</tt></li>\n",
       "        <li>Right: <tt>SELECT airports.AirportCode FROM airports JOIN flights ON airports.AirportCode = flights.SourceAirport GROUP BY flights.DestAirport ORDER BY Count(*) Asc LIMIT 1</tt></li>\n",
       "    </ul>\n",
       "    "
      ],
      "text/plain": [
       "<IPython.core.display.HTML object>"
      ]
     },
     "metadata": {},
     "output_type": "display_data"
    },
    {
     "data": {
      "text/html": [
       "\n",
       "    <ul>\n",
       "        <li>Database: <tt>employee_hire_evaluation</tt></li>\n",
       "        <li>Question: Find the names of stores whose number products is more than the average number of products .</li>\n",
       "        <li>Gold: <tt>SELECT name FROM shop WHERE number_products  >  (SELECT avg(number_products) FROM shop)</tt></li>\n",
       "        <li>Left: <tt>SELECT shop.Name FROM shop JOIN hiring ON shop.Shop_ID = hiring.Shop_ID GROUP BY hiring.Shop_ID HAVING Avg(shop.Number_products) > 'terminal'</tt></li>\n",
       "        <li>Right: <tt>SELECT shop.Name FROM shop WHERE shop.Number_products > (SELECT Avg(shop.Number_products) FROM shop)</tt></li>\n",
       "    </ul>\n",
       "    "
      ],
      "text/plain": [
       "<IPython.core.display.HTML object>"
      ]
     },
     "metadata": {},
     "output_type": "display_data"
    },
    {
     "data": {
      "text/html": [
       "\n",
       "    <ul>\n",
       "        <li>Database: <tt>employee_hire_evaluation</tt></li>\n",
       "        <li>Question: Find the name of the shops that do not hire any employee .</li>\n",
       "        <li>Gold: <tt>SELECT name FROM shop WHERE shop_id NOT IN (SELECT shop_id FROM hiring)</tt></li>\n",
       "        <li>Left: <tt>SELECT shop.Name FROM shop WHERE shop.Shop_ID NOT IN (SELECT evaluation.Employee_ID FROM evaluation)</tt></li>\n",
       "        <li>Right: <tt>SELECT shop.Name FROM shop WHERE shop.Shop_ID NOT IN (SELECT hiring.Shop_ID FROM hiring)</tt></li>\n",
       "    </ul>\n",
       "    "
      ],
      "text/plain": [
       "<IPython.core.display.HTML object>"
      ]
     },
     "metadata": {},
     "output_type": "display_data"
    },
    {
     "data": {
      "text/html": [
       "\n",
       "    <ul>\n",
       "        <li>Database: <tt>cre_Doc_Template_Mgt</tt></li>\n",
       "        <li>Question: How many different <s>templates</s> do all document use ?</li>\n",
       "        <li>Gold: <tt>SELECT count(DISTINCT template_id) FROM Documents</tt></li>\n",
       "        <li>Left: <tt>SELECT Count(*) FROM Ref_Template_Types</tt></li>\n",
       "        <li>Right: <tt>SELECT Count(DISTINCT Documents.Template_ID) FROM Documents</tt></li>\n",
       "    </ul>\n",
       "    "
      ],
      "text/plain": [
       "<IPython.core.display.HTML object>"
      ]
     },
     "metadata": {},
     "output_type": "display_data"
    },
    {
     "data": {
      "text/html": [
       "\n",
       "    <ul>\n",
       "        <li>Database: <tt>cre_Doc_Template_Mgt</tt></li>\n",
       "        <li>Question: What are the ids of <s>templates</s> with <s>template</s> type code <s>PP</s> or <s>PPT</s> ?</li>\n",
       "        <li>Gold: <tt>SELECT template_id FROM Templates WHERE template_type_code  =  \"PP\" OR template_type_code  =  \"PPT\"</tt></li>\n",
       "        <li>Left: <tt>SELECT Documents.Document_ID FROM Templates JOIN Documents ON Templates.Template_ID = Documents.Template_ID WHERE Templates.Template_Type_Code = 'terminal' OR Templates.Template_Type_Code = 'terminal'</tt></li>\n",
       "        <li>Right: <tt>SELECT Templates.Template_ID FROM Templates WHERE Templates.Template_Type_Code = 'terminal' OR Templates.Template_Type_Code = 'terminal'</tt></li>\n",
       "    </ul>\n",
       "    "
      ],
      "text/plain": [
       "<IPython.core.display.HTML object>"
      ]
     },
     "metadata": {},
     "output_type": "display_data"
    },
    {
     "data": {
      "text/html": [
       "\n",
       "    <ul>\n",
       "        <li>Database: <tt>cre_Doc_Template_Mgt</tt></li>\n",
       "        <li>Question: Show all <s>paragraph</s> ids and <s>texts</s> for the document with name <s>'Welcome</s> to NY ' .</li>\n",
       "        <li>Gold: <tt>SELECT T1.paragraph_id ,   T1.paragraph_text FROM Paragraphs AS T1 JOIN Documents AS T2 ON T1.document_id  =  T2.document_id WHERE T2.Document_Name  =  'Welcome to NY'</tt></li>\n",
       "        <li>Left: <tt>SELECT Documents.Document_ID, Documents.Document_Name FROM Documents WHERE Documents.Document_Name = 'terminal'</tt></li>\n",
       "        <li>Right: <tt>SELECT Paragraphs.Paragraph_ID, Paragraphs.Paragraph_Text FROM Documents JOIN Paragraphs ON Documents.Document_ID = Paragraphs.Document_ID WHERE Documents.Document_Name = 'terminal'</tt></li>\n",
       "    </ul>\n",
       "    "
      ],
      "text/plain": [
       "<IPython.core.display.HTML object>"
      ]
     },
     "metadata": {},
     "output_type": "display_data"
    },
    {
     "data": {
      "text/html": [
       "\n",
       "    <ul>\n",
       "        <li>Database: <tt>course_teach</tt></li>\n",
       "        <li>Question: Show the name of teachers aged either 32 or <s>33</s> ?</li>\n",
       "        <li>Gold: <tt>SELECT Name FROM teacher WHERE Age  =  32 OR Age  =  33</tt></li>\n",
       "        <li>Left: <tt>SELECT teacher.Name FROM teacher WHERE teacher.Hometown = 'terminal' OR teacher.Hometown = 'terminal'</tt></li>\n",
       "        <li>Right: <tt>SELECT teacher.Name FROM teacher WHERE teacher.Age = 'terminal' OR teacher.Age = 'terminal'</tt></li>\n",
       "    </ul>\n",
       "    "
      ],
      "text/plain": [
       "<IPython.core.display.HTML object>"
      ]
     },
     "metadata": {},
     "output_type": "display_data"
    },
    {
     "data": {
      "text/html": [
       "\n",
       "    <ul>\n",
       "        <li>Database: <tt>museum_visit</tt></li>\n",
       "        <li>Question: What are the id and name of the museum visited most times ?</li>\n",
       "        <li>Gold: <tt>SELECT t2.Museum_ID ,  t1.name FROM museum AS t1 JOIN visit AS t2 ON t1.Museum_ID  =  t2.Museum_ID GROUP BY t2.Museum_ID ORDER BY count(*) DESC LIMIT 1</tt></li>\n",
       "        <li>Left: <tt>SELECT visitor.ID, visitor.Name FROM visitor JOIN visit ON visitor.ID = visit.visitor_ID GROUP BY visit.visitor_ID ORDER BY Count(*) Desc LIMIT 1</tt></li>\n",
       "        <li>Right: <tt>SELECT visit.Museum_ID, museum.Name FROM museum JOIN visit ON museum.Museum_ID = visit.Museum_ID GROUP BY visit.Museum_ID ORDER BY Count(*) Desc LIMIT 1</tt></li>\n",
       "    </ul>\n",
       "    "
      ],
      "text/plain": [
       "<IPython.core.display.HTML object>"
      ]
     },
     "metadata": {},
     "output_type": "display_data"
    },
    {
     "data": {
      "text/html": [
       "\n",
       "    <ul>\n",
       "        <li>Database: <tt>wta_1</tt></li>\n",
       "        <li>Question: Find the highest rank of <s>losers</s> in all matches .</li>\n",
       "        <li>Gold: <tt>SELECT min(loser_rank) FROM matches</tt></li>\n",
       "        <li>Left: <tt>SELECT Max(matches.winner_rank) FROM matches</tt></li>\n",
       "        <li>Right: <tt>SELECT Min(matches.loser_rank) FROM matches</tt></li>\n",
       "    </ul>\n",
       "    "
      ],
      "text/plain": [
       "<IPython.core.display.HTML object>"
      ]
     },
     "metadata": {},
     "output_type": "display_data"
    },
    {
     "data": {
      "text/html": [
       "\n",
       "    <ul>\n",
       "        <li>Database: <tt>wta_1</tt></li>\n",
       "        <li>Question: What are the codes of countries with more than 50 players ?</li>\n",
       "        <li>Gold: <tt>SELECT country_code FROM players GROUP BY country_code HAVING count(*)  >  50</tt></li>\n",
       "        <li>Left: <tt>SELECT matches.loser_hand FROM matches GROUP BY matches.tourney_level HAVING Count(*) > 'terminal'</tt></li>\n",
       "        <li>Right: <tt>SELECT players.country_code FROM players GROUP BY players.country_code HAVING Count(*) > 'terminal'</tt></li>\n",
       "    </ul>\n",
       "    "
      ],
      "text/plain": [
       "<IPython.core.display.HTML object>"
      ]
     },
     "metadata": {},
     "output_type": "display_data"
    },
    {
     "data": {
      "text/html": [
       "\n",
       "    <ul>\n",
       "        <li>Database: <tt>battle_death</tt></li>\n",
       "        <li>Question: What are the notes of the death events which has substring <s>'East</s> ' ?</li>\n",
       "        <li>Gold: <tt>SELECT note FROM death WHERE note LIKE '%East%'</tt></li>\n",
       "        <li>Left: <tt>SELECT battle.name FROM battle WHERE battle.name LIKE 'terminal'</tt></li>\n",
       "        <li>Right: <tt>SELECT death.note FROM death WHERE death.note LIKE 'terminal'</tt></li>\n",
       "    </ul>\n",
       "    "
      ],
      "text/plain": [
       "<IPython.core.display.HTML object>"
      ]
     },
     "metadata": {},
     "output_type": "display_data"
    },
    {
     "data": {
      "text/html": [
       "\n",
       "    <ul>\n",
       "        <li>Database: <tt>student_transcripts_tracking</tt></li>\n",
       "        <li>Question: What is the description of the department whose name has the substring the computer ?</li>\n",
       "        <li>Gold: <tt>SELECT department_description FROM Departments WHERE department_name LIKE '%computer%'</tt></li>\n",
       "        <li>Left: <tt>SELECT Degree_Programs.degree_summary_description FROM Departments JOIN Degree_Programs ON Departments.department_id = Degree_Programs.department_id WHERE Departments.department_name LIKE 'terminal'</tt></li>\n",
       "        <li>Right: <tt>SELECT Departments.department_description FROM Departments WHERE Departments.department_name LIKE 'terminal'</tt></li>\n",
       "    </ul>\n",
       "    "
      ],
      "text/plain": [
       "<IPython.core.display.HTML object>"
      ]
     },
     "metadata": {},
     "output_type": "display_data"
    },
    {
     "data": {
      "text/html": [
       "\n",
       "    <ul>\n",
       "        <li>Database: <tt>student_transcripts_tracking</tt></li>\n",
       "        <li>Question: Who is the earliest graduate of the school ? List the first name , middle name and last name .</li>\n",
       "        <li>Gold: <tt>SELECT first_name ,  middle_name ,  last_name FROM Students ORDER BY date_left ASC LIMIT 1</tt></li>\n",
       "        <li>Left: <tt>SELECT Students.first_name, Students.middle_name, Students.last_name FROM Students</tt></li>\n",
       "        <li>Right: <tt>SELECT Students.first_name, Students.middle_name, Students.last_name FROM Students ORDER BY Students.date_left Asc LIMIT 1</tt></li>\n",
       "    </ul>\n",
       "    "
      ],
      "text/plain": [
       "<IPython.core.display.HTML object>"
      ]
     },
     "metadata": {},
     "output_type": "display_data"
    }
   ],
   "source": [
    "for item in right_exact[:100:5]:\n",
    "    display_item(item)"
   ]
  },
  {
   "cell_type": "code",
   "execution_count": 89,
   "metadata": {
    "scrolled": false
   },
   "outputs": [
    {
     "data": {
      "text/html": [
       "\n",
       "    <ul>\n",
       "        <li>Database: <tt>concert_singer</tt></li>\n",
       "        <li>Question: How many singers do we have ?</li>\n",
       "        <li>Gold: <tt>SELECT count(*) FROM singer</tt></li>\n",
       "        <li>Left: <tt>SELECT Count(*) FROM stadium</tt></li>\n",
       "        <li>Right: <tt>SELECT Count(*) FROM stadium</tt></li>\n",
       "    </ul>\n",
       "    "
      ],
      "text/plain": [
       "<IPython.core.display.HTML object>"
      ]
     },
     "metadata": {},
     "output_type": "display_data"
    },
    {
     "data": {
      "text/html": [
       "\n",
       "    <ul>\n",
       "        <li>Database: <tt>concert_singer</tt></li>\n",
       "        <li>Question: What is the name and capacity of the stadium with the most <s>concerts</s> after 2013 ?</li>\n",
       "        <li>Gold: <tt>SELECT T2.name ,  T2.capacity FROM concert AS T1 JOIN stadium AS T2 ON T1.stadium_id  =  T2.stadium_id WHERE T1.year  >=  2014 GROUP BY T2.stadium_id ORDER BY count(*) DESC LIMIT 1</tt></li>\n",
       "        <li>Left: <tt>SELECT stadium.Name, stadium.Capacity FROM stadium JOIN concert ON stadium.Stadium_ID = concert.Stadium_ID WHERE concert.Year > 'terminal' GROUP BY stadium.Stadium_ID ORDER BY Count(*) Desc LIMIT 1</tt></li>\n",
       "        <li>Right: <tt>SELECT stadium.Name, stadium.Capacity FROM stadium JOIN concert ON stadium.Stadium_ID = concert.Stadium_ID GROUP BY concert.Stadium_ID HAVING Count(*) > 'terminal' ORDER BY Count(*) Desc LIMIT 1</tt></li>\n",
       "    </ul>\n",
       "    "
      ],
      "text/plain": [
       "<IPython.core.display.HTML object>"
      ]
     },
     "metadata": {},
     "output_type": "display_data"
    },
    {
     "data": {
      "text/html": [
       "\n",
       "    <ul>\n",
       "        <li>Database: <tt>concert_singer</tt></li>\n",
       "        <li>Question: What are the names of the singers who performed in a <s>concert</s> in 2014 ?</li>\n",
       "        <li>Gold: <tt>SELECT T2.name FROM singer_in_concert AS T1 JOIN singer AS T2 ON T1.singer_id  =  T2.singer_id JOIN concert AS T3 ON T1.concert_id  =  T3.concert_id WHERE T3.year  =  2014</tt></li>\n",
       "        <li>Left: <tt>SELECT singer.Name FROM singer WHERE singer.Country = 'terminal'</tt></li>\n",
       "        <li>Right: <tt>SELECT singer.Name FROM singer WHERE singer.Song_release_year = 'terminal'</tt></li>\n",
       "    </ul>\n",
       "    "
      ],
      "text/plain": [
       "<IPython.core.display.HTML object>"
      ]
     },
     "metadata": {},
     "output_type": "display_data"
    },
    {
     "data": {
      "text/html": [
       "\n",
       "    <ul>\n",
       "        <li>Database: <tt>pets_1</tt></li>\n",
       "        <li>Question: List the maximum weight and type for each type of <s>pet</s> .</li>\n",
       "        <li>Gold: <tt>SELECT max(weight) ,  petType FROM pets GROUP BY petType</tt></li>\n",
       "        <li>Left: <tt>SELECT Pets.weight, Pets.PetType FROM Pets GROUP BY Pets.PetType</tt></li>\n",
       "        <li>Right: <tt>SELECT Pets.weight, Count(*) FROM Pets GROUP BY Pets.PetType</tt></li>\n",
       "    </ul>\n",
       "    "
      ],
      "text/plain": [
       "<IPython.core.display.HTML object>"
      ]
     },
     "metadata": {},
     "output_type": "display_data"
    },
    {
     "data": {
      "text/html": [
       "\n",
       "    <ul>\n",
       "        <li>Database: <tt>pets_1</tt></li>\n",
       "        <li>Question: Find the id of students who do not have a cat <s>pet</s> .</li>\n",
       "        <li>Gold: <tt>SELECT stuid FROM student EXCEPT SELECT T1.stuid FROM student AS T1 JOIN has_pet AS T2 ON T1.stuid  =  T2.stuid JOIN pets AS T3 ON T3.petid  =  T2.petid WHERE T3.pettype  =  'cat'</tt></li>\n",
       "        <li>Left: <tt>SELECT Student.StuID FROM Student EXCEPT SELECT Has_Pet.StuID FROM Has_Pet JOIN Pets ON Has_Pet.PetID = Pets.PetID WHERE Pets.weight = 'terminal'</tt></li>\n",
       "        <li>Right: <tt>SELECT Student.StuID FROM Student EXCEPT SELECT Has_Pet.StuID FROM Has_Pet JOIN Pets ON Has_Pet.PetID = Pets.PetID WHERE Pets.PetType = 'terminal'</tt></li>\n",
       "    </ul>\n",
       "    "
      ],
      "text/plain": [
       "<IPython.core.display.HTML object>"
      ]
     },
     "metadata": {},
     "output_type": "display_data"
    },
    {
     "data": {
      "text/html": [
       "\n",
       "    <ul>\n",
       "        <li>Database: <tt>pets_1</tt></li>\n",
       "        <li>Question: What is the average and maximum age for each <s>pet</s> type ?</li>\n",
       "        <li>Gold: <tt>SELECT avg(pet_age) ,  max(pet_age) ,  pettype FROM pets GROUP BY pettype</tt></li>\n",
       "        <li>Left: <tt>SELECT Pets.PetType, Avg(Pets.pet_age), Min(Pets.pet_age) FROM Pets GROUP BY Pets.PetType</tt></li>\n",
       "        <li>Right: <tt>SELECT Avg(Pets.pet_age), Min(Pets.pet_age), Pets.PetType FROM Pets GROUP BY Pets.PetType</tt></li>\n",
       "    </ul>\n",
       "    "
      ],
      "text/plain": [
       "<IPython.core.display.HTML object>"
      ]
     },
     "metadata": {},
     "output_type": "display_data"
    },
    {
     "data": {
      "text/html": [
       "\n",
       "    <ul>\n",
       "        <li>Database: <tt>pets_1</tt></li>\n",
       "        <li>Question: For students who have pets , how many pets does each student have ?</li>\n",
       "        <li>Gold: <tt>SELECT count(*) ,  T1.stuid FROM student AS T1 JOIN has_pet AS T2 ON T1.stuid  =  T2.stuid GROUP BY T1.stuid</tt></li>\n",
       "        <li>Left: <tt>SELECT Has_Pet.StuID, Count(*) FROM Student JOIN Has_Pet ON Student.StuID = Has_Pet.StuID WHERE Student.city_code = 'terminal' GROUP BY Has_Pet.StuID</tt></li>\n",
       "        <li>Right: <tt>SELECT Has_Pet.StuID, Count(*) FROM Has_Pet JOIN Pets ON Has_Pet.PetID = Pets.PetID WHERE Pets.PetType = 'terminal' GROUP BY Has_Pet.StuID</tt></li>\n",
       "    </ul>\n",
       "    "
      ],
      "text/plain": [
       "<IPython.core.display.HTML object>"
      ]
     },
     "metadata": {},
     "output_type": "display_data"
    },
    {
     "data": {
      "text/html": [
       "\n",
       "    <ul>\n",
       "        <li>Database: <tt>car_1</tt></li>\n",
       "        <li>Question: How many countries does each continent have ? List the continent id , continent name and the number of countries .</li>\n",
       "        <li>Gold: <tt>SELECT T1.ContId ,  T1.Continent ,  count(*) FROM CONTINENTS AS T1 JOIN COUNTRIES AS T2 ON T1.ContId  =  T2.Continent GROUP BY T1.ContId;</tt></li>\n",
       "        <li>Left: <tt>SELECT countries.CountryId, countries.CountryName, Count(*) FROM countries JOIN car_makers ON countries.CountryId = car_makers.Country GROUP BY car_makers.Country</tt></li>\n",
       "        <li>Right: <tt>SELECT car_makers.Id, countries.CountryName, Count(*) FROM countries JOIN car_makers ON countries.CountryId = car_makers.Country GROUP BY countries.Continent</tt></li>\n",
       "    </ul>\n",
       "    "
      ],
      "text/plain": [
       "<IPython.core.display.HTML object>"
      ]
     },
     "metadata": {},
     "output_type": "display_data"
    },
    {
     "data": {
      "text/html": [
       "\n",
       "    <ul>\n",
       "        <li>Database: <tt>car_1</tt></li>\n",
       "        <li>Question: What is the full name of each <s>car</s> <s>maker</s> , along with its id and how many models it produces ?</li>\n",
       "        <li>Gold: <tt>SELECT T1.FullName ,  T1.Id ,  count(*) FROM CAR_MAKERS AS T1 JOIN MODEL_LIST AS T2 ON T1.Id  =  T2.Maker GROUP BY T1.Id;</tt></li>\n",
       "        <li>Left: <tt>SELECT car_makers.FullName, car_makers.FullName, Count(*) FROM car_makers JOIN model_list ON car_makers.Id = model_list.Maker JOIN car_names ON model_list.Model = car_names.Model GROUP BY car_names.MakeId</tt></li>\n",
       "        <li>Right: <tt>SELECT car_makers.Maker, car_makers.FullName, Count(*) FROM car_makers JOIN model_list ON car_makers.Id = model_list.Maker GROUP BY model_list.Maker</tt></li>\n",
       "    </ul>\n",
       "    "
      ],
      "text/plain": [
       "<IPython.core.display.HTML object>"
      ]
     },
     "metadata": {},
     "output_type": "display_data"
    },
    {
     "data": {
      "text/html": [
       "\n",
       "    <ul>\n",
       "        <li>Database: <tt>car_1</tt></li>\n",
       "        <li>Question: What is the name of the different <s>car</s> <s>makers</s> who produced a <s>car</s> in <s>1970</s> ?</li>\n",
       "        <li>Gold: <tt>SELECT DISTINCT T1.Maker FROM CAR_MAKERS AS T1 JOIN MODEL_LIST AS T2 ON T1.Id  =  T2.Maker JOIN CAR_NAMES AS T3 ON T2.model  =  T3.model JOIN CARS_DATA AS T4 ON T3.MakeId  =  T4.id WHERE T4.year  =  '1970';</tt></li>\n",
       "        <li>Left: <tt>SELECT DISTINCT car_makers.FullName FROM continents JOIN countries ON continents.ContId = countries.Continent JOIN car_makers ON countries.CountryId = car_makers.Country WHERE continents.Continent = 'terminal'</tt></li>\n",
       "        <li>Right: <tt>SELECT DISTINCT car_makers.FullName FROM car_makers JOIN model_list ON car_makers.Id = model_list.Maker JOIN car_names ON model_list.Model = car_names.Model JOIN cars_data ON car_names.MakeId = cars_data.Id WHERE cars_data.Year = 'terminal'</tt></li>\n",
       "    </ul>\n",
       "    "
      ],
      "text/plain": [
       "<IPython.core.display.HTML object>"
      ]
     },
     "metadata": {},
     "output_type": "display_data"
    },
    {
     "data": {
      "text/html": [
       "\n",
       "    <ul>\n",
       "        <li>Database: <tt>car_1</tt></li>\n",
       "        <li>Question: How many <s>car</s> models are produced by each <s>maker</s> ? List the count and the <s>maker</s> full name .</li>\n",
       "        <li>Gold: <tt>SELECT Count(*) ,  T2.FullName ,  T2.id FROM MODEL_LIST AS T1 JOIN CAR_MAKERS AS T2 ON T1.Maker  =  T2.Id GROUP BY T2.id;</tt></li>\n",
       "        <li>Left: <tt>SELECT Count(*), car_makers.FullName, car_makers.FullName FROM car_makers GROUP BY car_makers.Country</tt></li>\n",
       "        <li>Right: <tt>SELECT Count(*), car_makers.Maker FROM car_makers GROUP BY car_makers.Maker</tt></li>\n",
       "    </ul>\n",
       "    "
      ],
      "text/plain": [
       "<IPython.core.display.HTML object>"
      ]
     },
     "metadata": {},
     "output_type": "display_data"
    },
    {
     "data": {
      "text/html": [
       "\n",
       "    <ul>\n",
       "        <li>Database: <tt>car_1</tt></li>\n",
       "        <li>Question: What is the number of <s>makers</s> of <s>care</s> in <s>France</s> ?</li>\n",
       "        <li>Gold: <tt>SELECT count(*) FROM CAR_MAKERS AS T1 JOIN COUNTRIES AS T2 ON T1.Country  =  T2.CountryId WHERE T2.CountryName  =  'france';</tt></li>\n",
       "        <li>Left: <tt>SELECT Count(*) FROM continents WHERE continents.Continent = 'terminal'</tt></li>\n",
       "        <li>Right: <tt>SELECT Count(*) FROM car_makers WHERE car_makers.Country = 'terminal'</tt></li>\n",
       "    </ul>\n",
       "    "
      ],
      "text/plain": [
       "<IPython.core.display.HTML object>"
      ]
     },
     "metadata": {},
     "output_type": "display_data"
    },
    {
     "data": {
      "text/html": [
       "\n",
       "    <ul>\n",
       "        <li>Database: <tt>car_1</tt></li>\n",
       "        <li>Question: What is the smallest weight of the <s>car</s> produced with 8 <s>cylinders</s> on <s>1974</s> ?</li>\n",
       "        <li>Gold: <tt>SELECT Weight FROM CARS_DATA WHERE Cylinders  =  4 AND YEAR  =  1974 ORDER BY Weight ASC LIMIT 1;</tt></li>\n",
       "        <li>Left: <tt>SELECT Max(cars_data.Weight) FROM countries JOIN car_makers ON countries.CountryId = car_makers.Country JOIN model_list ON car_makers.Id = model_list.Maker JOIN car_names ON model_list.Model = car_names.Model JOIN cars_data ON car_names.MakeId = cars_data.Id WHERE countries.CountryName = 'terminal'</tt></li>\n",
       "        <li>Right: <tt>SELECT Min(cars_data.Weight) FROM cars_data WHERE cars_data.Year = 'terminal'</tt></li>\n",
       "    </ul>\n",
       "    "
      ],
      "text/plain": [
       "<IPython.core.display.HTML object>"
      ]
     },
     "metadata": {},
     "output_type": "display_data"
    },
    {
     "data": {
      "text/html": [
       "\n",
       "    <ul>\n",
       "        <li>Database: <tt>car_1</tt></li>\n",
       "        <li>Question: What is the number of the <s>cars</s> with <s>horsepower</s> more than 150 ?</li>\n",
       "        <li>Gold: <tt>SELECT count(*) FROM CARS_DATA WHERE horsepower  >  150;</tt></li>\n",
       "        <li>Left: <tt>SELECT Count(*), continents.Continent FROM continents GROUP BY continents.Continent HAVING Count(*) > 'terminal'</tt></li>\n",
       "        <li>Right: <tt>SELECT Count(*) FROM cars_data WHERE cars_data.Accelerate > 'terminal'</tt></li>\n",
       "    </ul>\n",
       "    "
      ],
      "text/plain": [
       "<IPython.core.display.HTML object>"
      ]
     },
     "metadata": {},
     "output_type": "display_data"
    },
    {
     "data": {
      "text/html": [
       "\n",
       "    <ul>\n",
       "        <li>Database: <tt>car_1</tt></li>\n",
       "        <li>Question: What is the largest amount of <s>horsepower</s> for the models with 3 <s>cylinders</s> and what make is it ?</li>\n",
       "        <li>Gold: <tt>SELECT T2.horsepower ,  T1.Make FROM CAR_NAMES AS T1 JOIN CARS_DATA AS T2 ON T1.MakeId  =  T2.Id WHERE T2.cylinders  =  3 ORDER BY T2.horsepower DESC LIMIT 1;</tt></li>\n",
       "        <li>Left: <tt>SELECT Min(car_names.Make) FROM car_names WHERE car_names.Model = 'terminal' GROUP BY car_names.Model ORDER BY Count(*) Asc LIMIT 1</tt></li>\n",
       "        <li>Right: <tt>SELECT Max(cars_data.Accelerate), model_list.Model FROM model_list JOIN car_names ON model_list.Model = car_names.Model JOIN cars_data ON car_names.MakeId = cars_data.Id GROUP BY model_list.Model ORDER BY Sum(cars_data.Accelerate) Desc LIMIT 1</tt></li>\n",
       "    </ul>\n",
       "    "
      ],
      "text/plain": [
       "<IPython.core.display.HTML object>"
      ]
     },
     "metadata": {},
     "output_type": "display_data"
    },
    {
     "data": {
      "text/html": [
       "\n",
       "    <ul>\n",
       "        <li>Database: <tt>car_1</tt></li>\n",
       "        <li>Question: What is the average <s>edispl</s> of the <s>cars</s> of model <s>volvo</s> ?</li>\n",
       "        <li>Gold: <tt>SELECT avg(T2.edispl) FROM CAR_NAMES AS T1 JOIN CARS_DATA AS T2 ON T1.MakeId  =  T2.Id WHERE T1.Model  =  'volvo';</tt></li>\n",
       "        <li>Left: <tt>SELECT Avg(countries.Continent) FROM countries JOIN car_makers ON countries.CountryId = car_makers.Country JOIN model_list ON car_makers.Id = model_list.Maker JOIN car_names ON model_list.Model = car_names.Model WHERE car_names.Model = 'terminal'</tt></li>\n",
       "        <li>Right: <tt>SELECT Avg(cars_data.Accelerate) FROM model_list JOIN car_names ON model_list.Model = car_names.Model JOIN cars_data ON car_names.MakeId = cars_data.Id WHERE model_list.Model = 'terminal'</tt></li>\n",
       "    </ul>\n",
       "    "
      ],
      "text/plain": [
       "<IPython.core.display.HTML object>"
      ]
     },
     "metadata": {},
     "output_type": "display_data"
    },
    {
     "data": {
      "text/html": [
       "\n",
       "    <ul>\n",
       "        <li>Database: <tt>car_1</tt></li>\n",
       "        <li>Question: What is the number of <s>cars</s> with more than 4 <s>cylinders</s> ?</li>\n",
       "        <li>Gold: <tt>SELECT count(*) FROM CARS_DATA WHERE Cylinders  >  4;</tt></li>\n",
       "        <li>Left: <tt>SELECT Count(*) FROM cars_data WHERE cars_data.Cylinders > 'terminal' GROUP BY cars_data.Weight HAVING Count(*) > 'terminal'</tt></li>\n",
       "        <li>Right: <tt>SELECT Count(*) FROM continents</tt></li>\n",
       "    </ul>\n",
       "    "
      ],
      "text/plain": [
       "<IPython.core.display.HTML object>"
      ]
     },
     "metadata": {},
     "output_type": "display_data"
    },
    {
     "data": {
      "text/html": [
       "\n",
       "    <ul>\n",
       "        <li>Database: <tt>car_1</tt></li>\n",
       "        <li>Question: What are the different models created by either the <s>car</s> <s>maker</s> <s>General</s> <s>Motors</s> or <s>weighed</s> more than <s>3500</s> ?</li>\n",
       "        <li>Gold: <tt>SELECT DISTINCT T2.Model FROM CAR_NAMES AS T1 JOIN MODEL_LIST AS T2 ON T1.Model  =  T2.Model JOIN CAR_MAKERS AS T3 ON T2.Maker  =  T3.Id JOIN CARS_DATA AS T4 ON T1.MakeId  =  T4.Id WHERE T3.FullName  =  'General Motors' OR T4.weight  >  3500;</tt></li>\n",
       "        <li>Left: <tt>SELECT DISTINCT car_names.Model FROM car_names JOIN cars_data ON car_names.MakeId = cars_data.Id WHERE car_names.Model = 'terminal' OR cars_data.Cylinders > 'terminal'</tt></li>\n",
       "        <li>Right: <tt>SELECT DISTINCT model_list.Model FROM model_list JOIN car_names ON model_list.Model = car_names.Model JOIN cars_data ON car_names.MakeId = cars_data.Id WHERE cars_data.Accelerate > 'terminal' OR cars_data.Accelerate > 'terminal'</tt></li>\n",
       "    </ul>\n",
       "    "
      ],
      "text/plain": [
       "<IPython.core.display.HTML object>"
      ]
     },
     "metadata": {},
     "output_type": "display_data"
    },
    {
     "data": {
      "text/html": [
       "\n",
       "    <ul>\n",
       "        <li>Database: <tt>car_1</tt></li>\n",
       "        <li>Question: For model <s>volvo</s> , how many <s>cylinders</s> does the <s>car</s> with the least <s>accelerate</s> have ?</li>\n",
       "        <li>Gold: <tt>SELECT T1.cylinders FROM CARS_DATA AS T1 JOIN CAR_NAMES AS T2 ON T1.Id  =  T2.MakeId WHERE T2.Model  =  'volvo' ORDER BY T1.accelerate ASC LIMIT 1;</tt></li>\n",
       "        <li>Left: <tt>SELECT Count(*), car_names.Make FROM car_names WHERE car_names.Make = 'terminal' GROUP BY car_names.Make ORDER BY Count(*) Asc LIMIT 1</tt></li>\n",
       "        <li>Right: <tt>SELECT Count(*) FROM cars_data ORDER BY cars_data.Accelerate Asc LIMIT 1</tt></li>\n",
       "    </ul>\n",
       "    "
      ],
      "text/plain": [
       "<IPython.core.display.HTML object>"
      ]
     },
     "metadata": {},
     "output_type": "display_data"
    },
    {
     "data": {
      "text/html": [
       "\n",
       "    <ul>\n",
       "        <li>Database: <tt>car_1</tt></li>\n",
       "        <li>Question: What is the number of countries with more than 2 <s>car</s> <s>makers</s> ?</li>\n",
       "        <li>Gold: <tt>SELECT COUNT(*) FROM ( SELECT T1.CountryId ,  COUNT(*) FROM COUNTRIES AS T1 JOIN CAR_MAKERS AS T2 ON T1.CountryId  =  T2.Country GROUP BY T1.CountryId HAVING count(*)  >  2 );</tt></li>\n",
       "        <li>Left: <tt>SELECT Count(*) FROM car_makers GROUP BY car_makers.Country HAVING Count(*) > 'terminal'</tt></li>\n",
       "        <li>Right: <tt>SELECT Count(*), car_makers.Country FROM car_makers GROUP BY car_makers.Country HAVING Count(*) > 'terminal'</tt></li>\n",
       "    </ul>\n",
       "    "
      ],
      "text/plain": [
       "<IPython.core.display.HTML object>"
      ]
     },
     "metadata": {},
     "output_type": "display_data"
    }
   ],
   "source": [
    "for item in neither_exact[:100:5]:\n",
    "    display_item(item)"
   ]
  },
  {
   "cell_type": "code",
   "execution_count": 80,
   "metadata": {},
   "outputs": [
    {
     "data": {
      "text/plain": [
       "(223, 13, 27)"
      ]
     },
     "execution_count": 80,
     "metadata": {},
     "output_type": "execute_result"
    }
   ],
   "source": [
    "both_exact, left_exact, right_exact, neither_exact = compare(\n",
    "    dev,\n",
    "    json.load(open('../logdirs/20190327/rerun,output_from=false,att=1/eval-val-step39100-bs1.jsonl')),\n",
    "    json.load(open('../logdirs/20190327/rerun,output_from=false,att=1/eval-val-step40000-bs1.jsonl')))\n",
    "len(both_exact), len(left_exact), len(right_exact)"
   ]
  },
  {
   "cell_type": "code",
   "execution_count": 78,
   "metadata": {},
   "outputs": [
    {
     "data": {
      "text/plain": [
       "(174, 76, 64)"
      ]
     },
     "execution_count": 78,
     "metadata": {},
     "output_type": "execute_result"
    }
   ],
   "source": [
    "both_exact, left_exact, right_exact, neither_exact = compare(\n",
    "    dev,\n",
    "    json.load(open('../logdirs/20190327/rerun,output_from=false,att=1/eval-val-step40000-bs1.jsonl')),\n",
    "    json.load(open('../logdirs/20190327/rerun,output_from=false,att=3/eval-val-step38100-bs1.jsonl')))\n",
    "len(both_exact), len(left_exact), len(right_exact)"
   ]
  },
  {
   "cell_type": "code",
   "execution_count": 76,
   "metadata": {},
   "outputs": [
    {
     "data": {
      "text/plain": [
       "(273, 102, 116)"
      ]
     },
     "execution_count": 76,
     "metadata": {},
     "output_type": "execute_result"
    }
   ],
   "source": [
    "both_exact, left_exact, right_exact, neither_exact = compare(\n",
    "    dev,\n",
    "    json.load(open('../logdirs/20190401/output_from=false,emb=bpemb-100k,min_freq=3,att=0/eval-val-step36100-bs1.jsonl')),\n",
    "    json.load(open('../logdirs/20190401/output_from=false,emb=glove-42B,min_freq=50,att=0/eval-val-step39100-bs1.jsonl')))\n",
    "len(both_exact), len(left_exact), len(right_exact)"
   ]
  },
  {
   "cell_type": "code",
   "execution_count": 81,
   "metadata": {},
   "outputs": [
    {
     "data": {
      "text/plain": [
       "(278, 66, 111)"
      ]
     },
     "execution_count": 81,
     "metadata": {},
     "output_type": "execute_result"
    }
   ],
   "source": [
    "both_exact, left_exact, right_exact, neither_exact = compare(\n",
    "    dev,\n",
    "    json.load(open('../logdirs/20190401/output_from=false,emb=glove-42B,min_freq=3,att=0/eval-val-step39100-bs1.jsonl')),\n",
    "    json.load(open('../logdirs/20190401/output_from=false,emb=glove-42B,min_freq=50,att=0/eval-val-step39100-bs1.jsonl')))\n",
    "len(both_exact), len(left_exact), len(right_exact)"
   ]
  },
  {
   "cell_type": "code",
   "execution_count": 90,
   "metadata": {},
   "outputs": [],
   "source": [
    "# Fraction of count queries"
   ]
  },
  {
   "cell_type": "code",
   "execution_count": 91,
   "metadata": {},
   "outputs": [
    {
     "data": {
      "text/plain": [
       "{'db_id': 'concert_singer',\n",
       " 'query': 'SELECT count(*) FROM singer',\n",
       " 'query_toks': ['SELECT', 'count', '(', '*', ')', 'FROM', 'singer'],\n",
       " 'query_toks_no_value': ['select', 'count', '(', '*', ')', 'from', 'singer'],\n",
       " 'question': 'How many singers do we have?',\n",
       " 'question_toks': ['How', 'many', 'singers', 'do', 'we', 'have', '?'],\n",
       " 'sql': {'except': None,\n",
       "  'from': {'conds': [], 'table_units': [['table_unit', 1]]},\n",
       "  'groupBy': [],\n",
       "  'having': [],\n",
       "  'intersect': None,\n",
       "  'limit': None,\n",
       "  'orderBy': [],\n",
       "  'select': [False, [[3, [0, [0, 0, False], None]]]],\n",
       "  'union': None,\n",
       "  'where': []}}"
      ]
     },
     "execution_count": 91,
     "metadata": {},
     "output_type": "execute_result"
    }
   ],
   "source": [
    "dev[0]"
   ]
  },
  {
   "cell_type": "code",
   "execution_count": null,
   "metadata": {},
   "outputs": [],
   "source": []
  }
 ],
 "metadata": {
  "kernelspec": {
   "display_name": "Python 3",
   "language": "python",
   "name": "python3"
  },
  "language_info": {
   "codemirror_mode": {
    "name": "ipython",
    "version": 3
   },
   "file_extension": ".py",
   "mimetype": "text/x-python",
   "name": "python",
   "nbconvert_exporter": "python",
   "pygments_lexer": "ipython3",
   "version": "3.5.2"
  }
 },
 "nbformat": 4,
 "nbformat_minor": 2
}
