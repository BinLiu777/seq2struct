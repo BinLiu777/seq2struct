{
 "cells": [
  {
   "cell_type": "code",
   "execution_count": 1,
   "metadata": {
    "scrolled": true
   },
   "outputs": [],
   "source": [
    "import collections\n",
    "import glob\n",
    "import itertools\n",
    "import json\n",
    "import operator\n",
    "import os\n",
    "import re\n",
    "\n",
    "import natsort\n",
    "import matplotlib.pyplot as plt\n",
    "import pandas as pd\n",
    "\n",
    "%matplotlib inline\n",
    "plt.rcParams['figure.figsize'] = [20, 20]\n",
    "\n",
    "from seq2struct.utils import evaluation"
   ]
  },
  {
   "cell_type": "code",
   "execution_count": 2,
   "metadata": {},
   "outputs": [],
   "source": [
    "os.chdir('..')"
   ]
  },
  {
   "cell_type": "code",
   "execution_count": 45,
   "metadata": {},
   "outputs": [
    {
     "name": "stdout",
     "output_type": "stream",
     "text": [
      "logdirs/20190201-hs-allmatches-anysplit-multimean/filt-contains-hole_st-cov-examples_nt-10\n",
      "logdirs/20190201-hs-allmatches-anysplit-multimean/filt-contains-hole_st-cov-examples_nt-20\n",
      "logdirs/20190201-hs-allmatches-anysplit-multimean/filt-contains-hole_st-cov-examples_nt-40\n",
      "logdirs/20190201-hs-allmatches-anysplit-multimean/filt-contains-hole_st-cov-examples_nt-80\n",
      "logdirs/20190201-hs-allmatches-anysplit-multimean/filt-contains-hole_st-cov-xent_nt-10\n",
      "logdirs/20190201-hs-allmatches-anysplit-multimean/filt-contains-hole_st-cov-xent_nt-20\n",
      "logdirs/20190201-hs-allmatches-anysplit-multimean/filt-contains-hole_st-cov-xent_nt-40\n",
      "logdirs/20190201-hs-allmatches-anysplit-multimean/filt-contains-hole_st-cov-xent_nt-80\n",
      "logdirs/20190201-hs-allmatches-anysplit-multimean/filt-none_st-cov-examples_nt-10\n",
      "logdirs/20190201-hs-allmatches-anysplit-multimean/filt-none_st-cov-examples_nt-20\n",
      "logdirs/20190201-hs-allmatches-anysplit-multimean/filt-none_st-cov-examples_nt-40\n",
      "logdirs/20190201-hs-allmatches-anysplit-multimean/filt-none_st-cov-examples_nt-80\n",
      "logdirs/20190201-hs-allmatches-anysplit-multimean/filt-none_st-cov-xent_nt-10\n",
      "logdirs/20190201-hs-allmatches-anysplit-multimean/filt-none_st-cov-xent_nt-20\n",
      "logdirs/20190201-hs-allmatches-anysplit-multimean/filt-none_st-cov-xent_nt-40\n",
      "logdirs/20190201-hs-allmatches-anysplit-multimean/filt-none_st-cov-xent_nt-80\n"
     ]
    }
   ],
   "source": [
    "accuracy_per_run = collections.defaultdict(dict)\n",
    "all_metrics = []\n",
    "metric_types = set()\n",
    "rows = []\n",
    "for d in sorted(glob.glob('logdirs/20190201-hs-allmatches-anysplit-multimean/*')):\n",
    "    exp_name = os.path.basename(d)\n",
    "    exp_vars = re.match('filt-([^_]+)_st-([^_]+)_nt-([^_]+)', exp_name).groups()\n",
    "\n",
    "    infer_paths = glob.glob(os.path.join(d, 'infer-val-step*-bs1.jsonl'))\n",
    "    all_scores = []\n",
    "    for infer_path in infer_paths:\n",
    "        step = int(re.search('step(\\d+)', infer_path).group(1))\n",
    "        _, metrics = evaluation.compute_metrics(\n",
    "            'configs/hearthstone/nl2code.jsonnet', '', 'val', infer_path)\n",
    "        all_scores.append((step, metrics['exact match']))\n",
    "        all_metrics.append((exp_name, step, metrics))\n",
    "        metric_types.update(metrics.keys())\n",
    "    \n",
    "    all_scores.sort(key=operator.itemgetter(0))\n",
    "    sorted_scores = sorted(all_scores, reverse=True, key=operator.itemgetter(1))\n",
    "    rows.append(exp_vars + (len(all_scores),) + (sorted_scores[0] if sorted_scores else (-1, -1)))\n",
    "    accuracy_per_run[exp_name] = {\n",
    "        'x': [s[0] for s in all_scores],\n",
    "        'all': [s[1] for s in all_scores],\n",
    "    }\n",
    "    print(d)\n",
    "    \n",
    "metric_types = tuple(sorted(metric_types))\n",
    "df = pd.DataFrame(rows, columns=('filt', 'cov', 'nt', 'num steps eval', 'step', 'exact match'))\n",
    "flat_df = pd.DataFrame(\n",
    "    [(exp_name, step) + tuple(metrics.get(t) for t in metric_types) for exp_name, step, metrics in all_metrics],\n",
    "    columns=('exp_name', 'step') + metric_types)"
   ]
  },
  {
   "cell_type": "code",
   "execution_count": 46,
   "metadata": {
    "scrolled": false
   },
   "outputs": [
    {
     "data": {
      "text/html": [
       "<div>\n",
       "<style scoped>\n",
       "    .dataframe tbody tr th:only-of-type {\n",
       "        vertical-align: middle;\n",
       "    }\n",
       "\n",
       "    .dataframe tbody tr th {\n",
       "        vertical-align: top;\n",
       "    }\n",
       "\n",
       "    .dataframe thead th {\n",
       "        text-align: right;\n",
       "    }\n",
       "</style>\n",
       "<table border=\"1\" class=\"dataframe\">\n",
       "  <thead>\n",
       "    <tr style=\"text-align: right;\">\n",
       "      <th></th>\n",
       "      <th>filt</th>\n",
       "      <th>cov</th>\n",
       "      <th>nt</th>\n",
       "      <th>num steps eval</th>\n",
       "      <th>step</th>\n",
       "      <th>exact match</th>\n",
       "    </tr>\n",
       "  </thead>\n",
       "  <tbody>\n",
       "    <tr>\n",
       "      <th>0</th>\n",
       "      <td>contains-hole</td>\n",
       "      <td>cov-examples</td>\n",
       "      <td>10</td>\n",
       "      <td>25</td>\n",
       "      <td>1400</td>\n",
       "      <td>0.151515</td>\n",
       "    </tr>\n",
       "    <tr>\n",
       "      <th>1</th>\n",
       "      <td>contains-hole</td>\n",
       "      <td>cov-examples</td>\n",
       "      <td>20</td>\n",
       "      <td>25</td>\n",
       "      <td>2400</td>\n",
       "      <td>0.090909</td>\n",
       "    </tr>\n",
       "    <tr>\n",
       "      <th>2</th>\n",
       "      <td>contains-hole</td>\n",
       "      <td>cov-examples</td>\n",
       "      <td>40</td>\n",
       "      <td>25</td>\n",
       "      <td>2300</td>\n",
       "      <td>0.166667</td>\n",
       "    </tr>\n",
       "    <tr>\n",
       "      <th>3</th>\n",
       "      <td>contains-hole</td>\n",
       "      <td>cov-examples</td>\n",
       "      <td>80</td>\n",
       "      <td>25</td>\n",
       "      <td>2200</td>\n",
       "      <td>0.196970</td>\n",
       "    </tr>\n",
       "    <tr>\n",
       "      <th>4</th>\n",
       "      <td>contains-hole</td>\n",
       "      <td>cov-xent</td>\n",
       "      <td>10</td>\n",
       "      <td>25</td>\n",
       "      <td>2100</td>\n",
       "      <td>0.151515</td>\n",
       "    </tr>\n",
       "    <tr>\n",
       "      <th>5</th>\n",
       "      <td>contains-hole</td>\n",
       "      <td>cov-xent</td>\n",
       "      <td>20</td>\n",
       "      <td>25</td>\n",
       "      <td>2100</td>\n",
       "      <td>0.166667</td>\n",
       "    </tr>\n",
       "    <tr>\n",
       "      <th>6</th>\n",
       "      <td>contains-hole</td>\n",
       "      <td>cov-xent</td>\n",
       "      <td>40</td>\n",
       "      <td>25</td>\n",
       "      <td>2100</td>\n",
       "      <td>0.181818</td>\n",
       "    </tr>\n",
       "    <tr>\n",
       "      <th>7</th>\n",
       "      <td>contains-hole</td>\n",
       "      <td>cov-xent</td>\n",
       "      <td>80</td>\n",
       "      <td>25</td>\n",
       "      <td>1900</td>\n",
       "      <td>0.151515</td>\n",
       "    </tr>\n",
       "    <tr>\n",
       "      <th>8</th>\n",
       "      <td>none</td>\n",
       "      <td>cov-examples</td>\n",
       "      <td>10</td>\n",
       "      <td>25</td>\n",
       "      <td>2300</td>\n",
       "      <td>0.151515</td>\n",
       "    </tr>\n",
       "    <tr>\n",
       "      <th>9</th>\n",
       "      <td>none</td>\n",
       "      <td>cov-examples</td>\n",
       "      <td>20</td>\n",
       "      <td>25</td>\n",
       "      <td>2400</td>\n",
       "      <td>0.181818</td>\n",
       "    </tr>\n",
       "    <tr>\n",
       "      <th>10</th>\n",
       "      <td>none</td>\n",
       "      <td>cov-examples</td>\n",
       "      <td>40</td>\n",
       "      <td>25</td>\n",
       "      <td>2500</td>\n",
       "      <td>0.151515</td>\n",
       "    </tr>\n",
       "    <tr>\n",
       "      <th>11</th>\n",
       "      <td>none</td>\n",
       "      <td>cov-examples</td>\n",
       "      <td>80</td>\n",
       "      <td>25</td>\n",
       "      <td>2100</td>\n",
       "      <td>0.166667</td>\n",
       "    </tr>\n",
       "    <tr>\n",
       "      <th>12</th>\n",
       "      <td>none</td>\n",
       "      <td>cov-xent</td>\n",
       "      <td>10</td>\n",
       "      <td>25</td>\n",
       "      <td>2400</td>\n",
       "      <td>0.181818</td>\n",
       "    </tr>\n",
       "    <tr>\n",
       "      <th>13</th>\n",
       "      <td>none</td>\n",
       "      <td>cov-xent</td>\n",
       "      <td>20</td>\n",
       "      <td>25</td>\n",
       "      <td>1400</td>\n",
       "      <td>0.136364</td>\n",
       "    </tr>\n",
       "    <tr>\n",
       "      <th>14</th>\n",
       "      <td>none</td>\n",
       "      <td>cov-xent</td>\n",
       "      <td>40</td>\n",
       "      <td>25</td>\n",
       "      <td>2000</td>\n",
       "      <td>0.166667</td>\n",
       "    </tr>\n",
       "    <tr>\n",
       "      <th>15</th>\n",
       "      <td>none</td>\n",
       "      <td>cov-xent</td>\n",
       "      <td>80</td>\n",
       "      <td>25</td>\n",
       "      <td>2400</td>\n",
       "      <td>0.181818</td>\n",
       "    </tr>\n",
       "  </tbody>\n",
       "</table>\n",
       "</div>"
      ],
      "text/plain": [
       "             filt           cov  nt  num steps eval  step  exact match\n",
       "0   contains-hole  cov-examples  10              25  1400     0.151515\n",
       "1   contains-hole  cov-examples  20              25  2400     0.090909\n",
       "2   contains-hole  cov-examples  40              25  2300     0.166667\n",
       "3   contains-hole  cov-examples  80              25  2200     0.196970\n",
       "4   contains-hole      cov-xent  10              25  2100     0.151515\n",
       "5   contains-hole      cov-xent  20              25  2100     0.166667\n",
       "6   contains-hole      cov-xent  40              25  2100     0.181818\n",
       "7   contains-hole      cov-xent  80              25  1900     0.151515\n",
       "8            none  cov-examples  10              25  2300     0.151515\n",
       "9            none  cov-examples  20              25  2400     0.181818\n",
       "10           none  cov-examples  40              25  2500     0.151515\n",
       "11           none  cov-examples  80              25  2100     0.166667\n",
       "12           none      cov-xent  10              25  2400     0.181818\n",
       "13           none      cov-xent  20              25  1400     0.136364\n",
       "14           none      cov-xent  40              25  2000     0.166667\n",
       "15           none      cov-xent  80              25  2400     0.181818"
      ]
     },
     "execution_count": 46,
     "metadata": {},
     "output_type": "execute_result"
    }
   ],
   "source": [
    "df"
   ]
  },
  {
   "cell_type": "code",
   "execution_count": 48,
   "metadata": {},
   "outputs": [
    {
     "name": "stdout",
     "output_type": "stream",
     "text": [
      "logdirs/20190201-hs-allmatches-anysplit-multimean/filt-contains-hole_st-cov-examples_nt-10\n",
      "logdirs/20190201-hs-allmatches-anysplit-multimean/filt-contains-hole_st-cov-examples_nt-20\n",
      "logdirs/20190201-hs-allmatches-anysplit-multimean/filt-contains-hole_st-cov-examples_nt-40\n",
      "logdirs/20190201-hs-allmatches-anysplit-multimean/filt-contains-hole_st-cov-examples_nt-80\n",
      "logdirs/20190201-hs-allmatches-anysplit-multimean/filt-contains-hole_st-cov-xent_nt-10\n",
      "logdirs/20190201-hs-allmatches-anysplit-multimean/filt-contains-hole_st-cov-xent_nt-20\n",
      "logdirs/20190201-hs-allmatches-anysplit-multimean/filt-contains-hole_st-cov-xent_nt-40\n",
      "logdirs/20190201-hs-allmatches-anysplit-multimean/filt-contains-hole_st-cov-xent_nt-80\n",
      "logdirs/20190201-hs-allmatches-anysplit-multimean/filt-none_st-cov-examples_nt-10\n",
      "logdirs/20190201-hs-allmatches-anysplit-multimean/filt-none_st-cov-examples_nt-20\n",
      "logdirs/20190201-hs-allmatches-anysplit-multimean/filt-none_st-cov-examples_nt-40\n",
      "logdirs/20190201-hs-allmatches-anysplit-multimean/filt-none_st-cov-examples_nt-80\n",
      "logdirs/20190201-hs-allmatches-anysplit-multimean/filt-none_st-cov-xent_nt-10\n",
      "logdirs/20190201-hs-allmatches-anysplit-multimean/filt-none_st-cov-xent_nt-20\n",
      "logdirs/20190201-hs-allmatches-anysplit-multimean/filt-none_st-cov-xent_nt-40\n",
      "logdirs/20190201-hs-allmatches-anysplit-multimean/filt-none_st-cov-xent_nt-80\n"
     ]
    }
   ],
   "source": [
    "accuracy_per_run = collections.defaultdict(dict)\n",
    "all_metrics = []\n",
    "metric_types = set()\n",
    "rows = []\n",
    "for d in sorted(glob.glob('logdirs/20190201-hs-allmatches-anysplit-multimean/*')):\n",
    "    exp_name = os.path.basename(d)\n",
    "    exp_vars = re.match('filt-([^_]+)_st-([^_]+)_nt-([^_]+)', exp_name).groups()\n",
    "\n",
    "    infer_paths = glob.glob(os.path.join(d, 'infer-val-step*-bs1.jsonl'))\n",
    "    all_scores = []\n",
    "    for infer_path in infer_paths:\n",
    "        step = int(re.search('step(\\d+)', infer_path).group(1))\n",
    "        _, metrics = evaluation.compute_metrics(\n",
    "            'configs/hearthstone/nl2code.jsonnet', '', 'val', infer_path)\n",
    "        all_scores.append((step, metrics['corpus BLEU']))\n",
    "        all_metrics.append((exp_name, step, metrics))\n",
    "        metric_types.update(metrics.keys())\n",
    "    \n",
    "    all_scores.sort(key=operator.itemgetter(0))\n",
    "    sorted_scores = sorted(all_scores, reverse=True, key=operator.itemgetter(1))\n",
    "    rows.append(exp_vars + (len(all_scores),) + (sorted_scores[0] if sorted_scores else (-1, -1)))\n",
    "    accuracy_per_run[exp_name] = {\n",
    "        'x': [s[0] for s in all_scores],\n",
    "        'all': [s[1] for s in all_scores],\n",
    "    }\n",
    "    print(d)\n",
    "    \n",
    "metric_types = tuple(sorted(metric_types))\n",
    "df = pd.DataFrame(rows, columns=('filt', 'cov', 'nt', 'num steps eval', 'step', 'corpus BLEU'))\n",
    "flat_df = pd.DataFrame(\n",
    "    [(exp_name, step) + tuple(metrics.get(t) for t in metric_types) for exp_name, step, metrics in all_metrics],\n",
    "    columns=('exp_name', 'step') + metric_types)"
   ]
  },
  {
   "cell_type": "code",
   "execution_count": 49,
   "metadata": {},
   "outputs": [
    {
     "data": {
      "text/html": [
       "<div>\n",
       "<style scoped>\n",
       "    .dataframe tbody tr th:only-of-type {\n",
       "        vertical-align: middle;\n",
       "    }\n",
       "\n",
       "    .dataframe tbody tr th {\n",
       "        vertical-align: top;\n",
       "    }\n",
       "\n",
       "    .dataframe thead th {\n",
       "        text-align: right;\n",
       "    }\n",
       "</style>\n",
       "<table border=\"1\" class=\"dataframe\">\n",
       "  <thead>\n",
       "    <tr style=\"text-align: right;\">\n",
       "      <th></th>\n",
       "      <th>filt</th>\n",
       "      <th>cov</th>\n",
       "      <th>nt</th>\n",
       "      <th>num steps eval</th>\n",
       "      <th>step</th>\n",
       "      <th>corpus BLEU</th>\n",
       "    </tr>\n",
       "  </thead>\n",
       "  <tbody>\n",
       "    <tr>\n",
       "      <th>0</th>\n",
       "      <td>contains-hole</td>\n",
       "      <td>cov-examples</td>\n",
       "      <td>10</td>\n",
       "      <td>25</td>\n",
       "      <td>2500</td>\n",
       "      <td>0.785207</td>\n",
       "    </tr>\n",
       "    <tr>\n",
       "      <th>1</th>\n",
       "      <td>contains-hole</td>\n",
       "      <td>cov-examples</td>\n",
       "      <td>20</td>\n",
       "      <td>25</td>\n",
       "      <td>1900</td>\n",
       "      <td>0.745324</td>\n",
       "    </tr>\n",
       "    <tr>\n",
       "      <th>2</th>\n",
       "      <td>contains-hole</td>\n",
       "      <td>cov-examples</td>\n",
       "      <td>40</td>\n",
       "      <td>25</td>\n",
       "      <td>2100</td>\n",
       "      <td>0.764290</td>\n",
       "    </tr>\n",
       "    <tr>\n",
       "      <th>3</th>\n",
       "      <td>contains-hole</td>\n",
       "      <td>cov-examples</td>\n",
       "      <td>80</td>\n",
       "      <td>25</td>\n",
       "      <td>2500</td>\n",
       "      <td>0.773765</td>\n",
       "    </tr>\n",
       "    <tr>\n",
       "      <th>4</th>\n",
       "      <td>contains-hole</td>\n",
       "      <td>cov-xent</td>\n",
       "      <td>10</td>\n",
       "      <td>25</td>\n",
       "      <td>2300</td>\n",
       "      <td>0.783270</td>\n",
       "    </tr>\n",
       "    <tr>\n",
       "      <th>5</th>\n",
       "      <td>contains-hole</td>\n",
       "      <td>cov-xent</td>\n",
       "      <td>20</td>\n",
       "      <td>25</td>\n",
       "      <td>2200</td>\n",
       "      <td>0.782329</td>\n",
       "    </tr>\n",
       "    <tr>\n",
       "      <th>6</th>\n",
       "      <td>contains-hole</td>\n",
       "      <td>cov-xent</td>\n",
       "      <td>40</td>\n",
       "      <td>25</td>\n",
       "      <td>2100</td>\n",
       "      <td>0.769610</td>\n",
       "    </tr>\n",
       "    <tr>\n",
       "      <th>7</th>\n",
       "      <td>contains-hole</td>\n",
       "      <td>cov-xent</td>\n",
       "      <td>80</td>\n",
       "      <td>25</td>\n",
       "      <td>2500</td>\n",
       "      <td>0.767480</td>\n",
       "    </tr>\n",
       "    <tr>\n",
       "      <th>8</th>\n",
       "      <td>none</td>\n",
       "      <td>cov-examples</td>\n",
       "      <td>10</td>\n",
       "      <td>25</td>\n",
       "      <td>2200</td>\n",
       "      <td>0.762103</td>\n",
       "    </tr>\n",
       "    <tr>\n",
       "      <th>9</th>\n",
       "      <td>none</td>\n",
       "      <td>cov-examples</td>\n",
       "      <td>20</td>\n",
       "      <td>25</td>\n",
       "      <td>2500</td>\n",
       "      <td>0.782529</td>\n",
       "    </tr>\n",
       "    <tr>\n",
       "      <th>10</th>\n",
       "      <td>none</td>\n",
       "      <td>cov-examples</td>\n",
       "      <td>40</td>\n",
       "      <td>25</td>\n",
       "      <td>2100</td>\n",
       "      <td>0.767164</td>\n",
       "    </tr>\n",
       "    <tr>\n",
       "      <th>11</th>\n",
       "      <td>none</td>\n",
       "      <td>cov-examples</td>\n",
       "      <td>80</td>\n",
       "      <td>25</td>\n",
       "      <td>2400</td>\n",
       "      <td>0.769751</td>\n",
       "    </tr>\n",
       "    <tr>\n",
       "      <th>12</th>\n",
       "      <td>none</td>\n",
       "      <td>cov-xent</td>\n",
       "      <td>10</td>\n",
       "      <td>25</td>\n",
       "      <td>2300</td>\n",
       "      <td>0.785476</td>\n",
       "    </tr>\n",
       "    <tr>\n",
       "      <th>13</th>\n",
       "      <td>none</td>\n",
       "      <td>cov-xent</td>\n",
       "      <td>20</td>\n",
       "      <td>25</td>\n",
       "      <td>2400</td>\n",
       "      <td>0.768866</td>\n",
       "    </tr>\n",
       "    <tr>\n",
       "      <th>14</th>\n",
       "      <td>none</td>\n",
       "      <td>cov-xent</td>\n",
       "      <td>40</td>\n",
       "      <td>25</td>\n",
       "      <td>1600</td>\n",
       "      <td>0.773816</td>\n",
       "    </tr>\n",
       "    <tr>\n",
       "      <th>15</th>\n",
       "      <td>none</td>\n",
       "      <td>cov-xent</td>\n",
       "      <td>80</td>\n",
       "      <td>25</td>\n",
       "      <td>1600</td>\n",
       "      <td>0.771135</td>\n",
       "    </tr>\n",
       "  </tbody>\n",
       "</table>\n",
       "</div>"
      ],
      "text/plain": [
       "             filt           cov  nt  num steps eval  step  corpus BLEU\n",
       "0   contains-hole  cov-examples  10              25  2500     0.785207\n",
       "1   contains-hole  cov-examples  20              25  1900     0.745324\n",
       "2   contains-hole  cov-examples  40              25  2100     0.764290\n",
       "3   contains-hole  cov-examples  80              25  2500     0.773765\n",
       "4   contains-hole      cov-xent  10              25  2300     0.783270\n",
       "5   contains-hole      cov-xent  20              25  2200     0.782329\n",
       "6   contains-hole      cov-xent  40              25  2100     0.769610\n",
       "7   contains-hole      cov-xent  80              25  2500     0.767480\n",
       "8            none  cov-examples  10              25  2200     0.762103\n",
       "9            none  cov-examples  20              25  2500     0.782529\n",
       "10           none  cov-examples  40              25  2100     0.767164\n",
       "11           none  cov-examples  80              25  2400     0.769751\n",
       "12           none      cov-xent  10              25  2300     0.785476\n",
       "13           none      cov-xent  20              25  2400     0.768866\n",
       "14           none      cov-xent  40              25  1600     0.773816\n",
       "15           none      cov-xent  80              25  1600     0.771135"
      ]
     },
     "execution_count": 49,
     "metadata": {},
     "output_type": "execute_result"
    }
   ],
   "source": [
    "df"
   ]
  },
  {
   "cell_type": "code",
   "execution_count": 50,
   "metadata": {},
   "outputs": [
    {
     "name": "stdout",
     "output_type": "stream",
     "text": [
      "logdirs/20190201-hs-allmatches-anysplit-multimean/filt-contains-hole_st-cov-examples_nt-10\n",
      "logdirs/20190201-hs-allmatches-anysplit-multimean/filt-contains-hole_st-cov-examples_nt-20\n",
      "logdirs/20190201-hs-allmatches-anysplit-multimean/filt-contains-hole_st-cov-examples_nt-40\n",
      "logdirs/20190201-hs-allmatches-anysplit-multimean/filt-contains-hole_st-cov-examples_nt-80\n",
      "logdirs/20190201-hs-allmatches-anysplit-multimean/filt-contains-hole_st-cov-xent_nt-10\n",
      "logdirs/20190201-hs-allmatches-anysplit-multimean/filt-contains-hole_st-cov-xent_nt-20\n",
      "logdirs/20190201-hs-allmatches-anysplit-multimean/filt-contains-hole_st-cov-xent_nt-40\n",
      "logdirs/20190201-hs-allmatches-anysplit-multimean/filt-contains-hole_st-cov-xent_nt-80\n",
      "logdirs/20190201-hs-allmatches-anysplit-multimean/filt-none_st-cov-examples_nt-10\n",
      "logdirs/20190201-hs-allmatches-anysplit-multimean/filt-none_st-cov-examples_nt-20\n",
      "logdirs/20190201-hs-allmatches-anysplit-multimean/filt-none_st-cov-examples_nt-40\n",
      "logdirs/20190201-hs-allmatches-anysplit-multimean/filt-none_st-cov-examples_nt-80\n",
      "logdirs/20190201-hs-allmatches-anysplit-multimean/filt-none_st-cov-xent_nt-10\n",
      "logdirs/20190201-hs-allmatches-anysplit-multimean/filt-none_st-cov-xent_nt-20\n",
      "logdirs/20190201-hs-allmatches-anysplit-multimean/filt-none_st-cov-xent_nt-40\n",
      "logdirs/20190201-hs-allmatches-anysplit-multimean/filt-none_st-cov-xent_nt-80\n"
     ]
    }
   ],
   "source": [
    "accuracy_per_run = collections.defaultdict(dict)\n",
    "all_metrics = []\n",
    "metric_types = set()\n",
    "rows = []\n",
    "for d in sorted(glob.glob('logdirs/20190201-hs-allmatches-anysplit-multimean/*')):\n",
    "    exp_name = os.path.basename(d)\n",
    "    exp_vars = re.match('filt-([^_]+)_st-([^_]+)_nt-([^_]+)', exp_name).groups()\n",
    "\n",
    "    infer_paths = glob.glob(os.path.join(d, 'infer-val-step*-bs1.jsonl'))\n",
    "    all_scores = []\n",
    "    for infer_path in infer_paths:\n",
    "        step = int(re.search('step(\\d+)', infer_path).group(1))\n",
    "        _, metrics = evaluation.compute_metrics(\n",
    "            'configs/hearthstone/nl2code.jsonnet', '', 'val', infer_path)\n",
    "        all_scores.append((step, metrics['sentence BLEU']))\n",
    "        all_metrics.append((exp_name, step, metrics))\n",
    "        metric_types.update(metrics.keys())\n",
    "    \n",
    "    all_scores.sort(key=operator.itemgetter(0))\n",
    "    sorted_scores = sorted(all_scores, reverse=True, key=operator.itemgetter(1))\n",
    "    rows.append(exp_vars + (len(all_scores),) + (sorted_scores[0] if sorted_scores else (-1, -1)))\n",
    "    accuracy_per_run[exp_name] = {\n",
    "        'x': [s[0] for s in all_scores],\n",
    "        'all': [s[1] for s in all_scores],\n",
    "    }\n",
    "    print(d)\n",
    "    \n",
    "metric_types = tuple(sorted(metric_types))\n",
    "df = pd.DataFrame(rows, columns=('filt', 'cov', 'nt', 'num steps eval', 'step', 'sentence BLEU'))\n",
    "flat_df = pd.DataFrame(\n",
    "    [(exp_name, step) + tuple(metrics.get(t) for t in metric_types) for exp_name, step, metrics in all_metrics],\n",
    "    columns=('exp_name', 'step') + metric_types)"
   ]
  },
  {
   "cell_type": "code",
   "execution_count": 51,
   "metadata": {},
   "outputs": [
    {
     "data": {
      "text/html": [
       "<div>\n",
       "<style scoped>\n",
       "    .dataframe tbody tr th:only-of-type {\n",
       "        vertical-align: middle;\n",
       "    }\n",
       "\n",
       "    .dataframe tbody tr th {\n",
       "        vertical-align: top;\n",
       "    }\n",
       "\n",
       "    .dataframe thead th {\n",
       "        text-align: right;\n",
       "    }\n",
       "</style>\n",
       "<table border=\"1\" class=\"dataframe\">\n",
       "  <thead>\n",
       "    <tr style=\"text-align: right;\">\n",
       "      <th></th>\n",
       "      <th>filt</th>\n",
       "      <th>cov</th>\n",
       "      <th>nt</th>\n",
       "      <th>num steps eval</th>\n",
       "      <th>step</th>\n",
       "      <th>sentence BLEU</th>\n",
       "    </tr>\n",
       "  </thead>\n",
       "  <tbody>\n",
       "    <tr>\n",
       "      <th>0</th>\n",
       "      <td>contains-hole</td>\n",
       "      <td>cov-examples</td>\n",
       "      <td>10</td>\n",
       "      <td>25</td>\n",
       "      <td>2500</td>\n",
       "      <td>0.780821</td>\n",
       "    </tr>\n",
       "    <tr>\n",
       "      <th>1</th>\n",
       "      <td>contains-hole</td>\n",
       "      <td>cov-examples</td>\n",
       "      <td>20</td>\n",
       "      <td>25</td>\n",
       "      <td>2200</td>\n",
       "      <td>0.744844</td>\n",
       "    </tr>\n",
       "    <tr>\n",
       "      <th>2</th>\n",
       "      <td>contains-hole</td>\n",
       "      <td>cov-examples</td>\n",
       "      <td>40</td>\n",
       "      <td>25</td>\n",
       "      <td>2200</td>\n",
       "      <td>0.765076</td>\n",
       "    </tr>\n",
       "    <tr>\n",
       "      <th>3</th>\n",
       "      <td>contains-hole</td>\n",
       "      <td>cov-examples</td>\n",
       "      <td>80</td>\n",
       "      <td>25</td>\n",
       "      <td>2500</td>\n",
       "      <td>0.779958</td>\n",
       "    </tr>\n",
       "    <tr>\n",
       "      <th>4</th>\n",
       "      <td>contains-hole</td>\n",
       "      <td>cov-xent</td>\n",
       "      <td>10</td>\n",
       "      <td>25</td>\n",
       "      <td>2100</td>\n",
       "      <td>0.780367</td>\n",
       "    </tr>\n",
       "    <tr>\n",
       "      <th>5</th>\n",
       "      <td>contains-hole</td>\n",
       "      <td>cov-xent</td>\n",
       "      <td>20</td>\n",
       "      <td>25</td>\n",
       "      <td>2000</td>\n",
       "      <td>0.787002</td>\n",
       "    </tr>\n",
       "    <tr>\n",
       "      <th>6</th>\n",
       "      <td>contains-hole</td>\n",
       "      <td>cov-xent</td>\n",
       "      <td>40</td>\n",
       "      <td>25</td>\n",
       "      <td>2400</td>\n",
       "      <td>0.772903</td>\n",
       "    </tr>\n",
       "    <tr>\n",
       "      <th>7</th>\n",
       "      <td>contains-hole</td>\n",
       "      <td>cov-xent</td>\n",
       "      <td>80</td>\n",
       "      <td>25</td>\n",
       "      <td>2500</td>\n",
       "      <td>0.770651</td>\n",
       "    </tr>\n",
       "    <tr>\n",
       "      <th>8</th>\n",
       "      <td>none</td>\n",
       "      <td>cov-examples</td>\n",
       "      <td>10</td>\n",
       "      <td>25</td>\n",
       "      <td>2400</td>\n",
       "      <td>0.753953</td>\n",
       "    </tr>\n",
       "    <tr>\n",
       "      <th>9</th>\n",
       "      <td>none</td>\n",
       "      <td>cov-examples</td>\n",
       "      <td>20</td>\n",
       "      <td>25</td>\n",
       "      <td>2200</td>\n",
       "      <td>0.787985</td>\n",
       "    </tr>\n",
       "    <tr>\n",
       "      <th>10</th>\n",
       "      <td>none</td>\n",
       "      <td>cov-examples</td>\n",
       "      <td>40</td>\n",
       "      <td>25</td>\n",
       "      <td>2500</td>\n",
       "      <td>0.766633</td>\n",
       "    </tr>\n",
       "    <tr>\n",
       "      <th>11</th>\n",
       "      <td>none</td>\n",
       "      <td>cov-examples</td>\n",
       "      <td>80</td>\n",
       "      <td>25</td>\n",
       "      <td>2400</td>\n",
       "      <td>0.779592</td>\n",
       "    </tr>\n",
       "    <tr>\n",
       "      <th>12</th>\n",
       "      <td>none</td>\n",
       "      <td>cov-xent</td>\n",
       "      <td>10</td>\n",
       "      <td>25</td>\n",
       "      <td>2300</td>\n",
       "      <td>0.773789</td>\n",
       "    </tr>\n",
       "    <tr>\n",
       "      <th>13</th>\n",
       "      <td>none</td>\n",
       "      <td>cov-xent</td>\n",
       "      <td>20</td>\n",
       "      <td>25</td>\n",
       "      <td>2400</td>\n",
       "      <td>0.767251</td>\n",
       "    </tr>\n",
       "    <tr>\n",
       "      <th>14</th>\n",
       "      <td>none</td>\n",
       "      <td>cov-xent</td>\n",
       "      <td>40</td>\n",
       "      <td>25</td>\n",
       "      <td>2000</td>\n",
       "      <td>0.770119</td>\n",
       "    </tr>\n",
       "    <tr>\n",
       "      <th>15</th>\n",
       "      <td>none</td>\n",
       "      <td>cov-xent</td>\n",
       "      <td>80</td>\n",
       "      <td>25</td>\n",
       "      <td>1800</td>\n",
       "      <td>0.763620</td>\n",
       "    </tr>\n",
       "  </tbody>\n",
       "</table>\n",
       "</div>"
      ],
      "text/plain": [
       "             filt           cov  nt  num steps eval  step  sentence BLEU\n",
       "0   contains-hole  cov-examples  10              25  2500       0.780821\n",
       "1   contains-hole  cov-examples  20              25  2200       0.744844\n",
       "2   contains-hole  cov-examples  40              25  2200       0.765076\n",
       "3   contains-hole  cov-examples  80              25  2500       0.779958\n",
       "4   contains-hole      cov-xent  10              25  2100       0.780367\n",
       "5   contains-hole      cov-xent  20              25  2000       0.787002\n",
       "6   contains-hole      cov-xent  40              25  2400       0.772903\n",
       "7   contains-hole      cov-xent  80              25  2500       0.770651\n",
       "8            none  cov-examples  10              25  2400       0.753953\n",
       "9            none  cov-examples  20              25  2200       0.787985\n",
       "10           none  cov-examples  40              25  2500       0.766633\n",
       "11           none  cov-examples  80              25  2400       0.779592\n",
       "12           none      cov-xent  10              25  2300       0.773789\n",
       "13           none      cov-xent  20              25  2400       0.767251\n",
       "14           none      cov-xent  40              25  2000       0.770119\n",
       "15           none      cov-xent  80              25  1800       0.763620"
      ]
     },
     "execution_count": 51,
     "metadata": {},
     "output_type": "execute_result"
    }
   ],
   "source": [
    "df"
   ]
  },
  {
   "cell_type": "markdown",
   "metadata": {},
   "source": [
    "# Corpus BLEU"
   ]
  },
  {
   "cell_type": "code",
   "execution_count": 17,
   "metadata": {
    "scrolled": true
   },
   "outputs": [
    {
     "data": {
      "text/plain": [
       "exp_name         filt-none_st-cov-xent_nt-10\n",
       "step                                    2300\n",
       "corpus BLEU                         0.785476\n",
       "exact match                         0.151515\n",
       "sentence BLEU                       0.773789\n",
       "Name: 312, dtype: object"
      ]
     },
     "execution_count": 17,
     "metadata": {},
     "output_type": "execute_result"
    }
   ],
   "source": [
    "flat_df.loc[flat_df['corpus BLEU'].idxmax()]"
   ]
  },
  {
   "cell_type": "code",
   "execution_count": 19,
   "metadata": {},
   "outputs": [
    {
     "name": "stdout",
     "output_type": "stream",
     "text": [
      "WARNING <class 'seq2struct.models.enc_dec.EncDecModel.Preproc'>: superfluous {'name': 'EncDec'}\n",
      "WARNING <class 'seq2struct.models.enc_dec.EncDecModel'>: superfluous {'decoder_preproc': {'use_seq_elem_rules': True, 'max_count': 5000, 'min_freq': 3, 'save_path': 'data/hearthstone-idioms-20190201/all-matches-trees-anysplit/filt-none_st-cov-xent_nt-10/nl2code/', 'grammar': {'all_sections_rewritten': True, 'template_file': 'data/hearthstone-idioms-20190201/all-matches-trees-anysplit/filt-none_st-cov-xent_nt-10/templates.json', 'base_grammar': {'name': 'python'}, 'name': 'idiom_ast'}}, 'encoder_preproc': {'min_freq': 3, 'save_path': 'data/hearthstone-idioms-20190201/all-matches-trees-anysplit/filt-none_st-cov-xent_nt-10/nl2code/', 'max_count': 5000}}\n",
      "Loading model from logdirs/20190201-hs-allmatches-anysplit-multimean/filt-none_st-cov-xent_nt-10/model_checkpoint-00002300\n",
      "100%|███████████████████████████████████████████| 66/66 [00:20<00:00,  3.33it/s]\n"
     ]
    }
   ],
   "source": [
    "# Beam size 1\n",
    "!CUDA_VISIBLE_DEVICES= python infer.py --config configs/hearthstone-idioms/nl2code-0201-allmatches-anysplit-multimean.jsonnet --logdir logdirs/20190201-hs-allmatches-anysplit-multimean/filt-none_st-cov-xent_nt-10 --config-args \"{filt: 'none', st: 'cov-xent', nt: 10}\" --output __LOGDIR__/infer-test-step02300-bs1.jsonl --step 2300 --section test --beam-size 1"
   ]
  },
  {
   "cell_type": "code",
   "execution_count": 23,
   "metadata": {},
   "outputs": [
    {
     "data": {
      "text/plain": [
       "OrderedDict([('exact match', 0.10606060606060606),\n",
       "             ('sentence BLEU', 0.7434579505376531),\n",
       "             ('corpus BLEU', 0.7480294254902261)])"
      ]
     },
     "execution_count": 23,
     "metadata": {},
     "output_type": "execute_result"
    }
   ],
   "source": [
    "_, metrics = evaluation.compute_metrics(\n",
    "    'configs/hearthstone/nl2code.jsonnet', '', 'test', \n",
    "    'logdirs/20190201-hs-allmatches-anysplit-multimean/filt-none_st-cov-xent_nt-10/infer-test-step02300-bs1.jsonl')\n",
    "metrics"
   ]
  },
  {
   "cell_type": "code",
   "execution_count": null,
   "metadata": {},
   "outputs": [],
   "source": [
    "# Beam size 15\n",
    "!CUDA_VISIBLE_DEVICES= python infer.py --config configs/hearthstone-idioms/nl2code-0201-allmatches-anysplit-multimean.jsonnet --logdir logdirs/20190201-hs-allmatches-anysplit-multimean/filt-none_st-cov-xent_nt-10 --config-args \"{filt: 'none', st: 'cov-xent', nt: 10}\" --output __LOGDIR__/infer-test-step02300-bs15.jsonl --step 2300 --section test --beam-size 15"
   ]
  },
  {
   "cell_type": "code",
   "execution_count": null,
   "metadata": {},
   "outputs": [],
   "source": [
    "_, metrics = evaluation.compute_metrics(\n",
    "    'configs/hearthstone/nl2code.jsonnet', '', 'test', \n",
    "    'logdirs/20190201-hs-allmatches-anysplit-multimean/filt-none_st-cov-xent_nt-10/infer-test-step02300-bs15.jsonl')\n",
    "metrics"
   ]
  },
  {
   "cell_type": "markdown",
   "metadata": {},
   "source": [
    "# Sentence BLEU"
   ]
  },
  {
   "cell_type": "code",
   "execution_count": 14,
   "metadata": {},
   "outputs": [
    {
     "data": {
      "text/plain": [
       "exp_name         filt-none_st-cov-examples_nt-20\n",
       "step                                        2200\n",
       "corpus BLEU                             0.780836\n",
       "exact match                             0.166667\n",
       "sentence BLEU                           0.787985\n",
       "Name: 248, dtype: object"
      ]
     },
     "execution_count": 14,
     "metadata": {},
     "output_type": "execute_result"
    }
   ],
   "source": [
    "flat_df.loc[flat_df['sentence BLEU'].idxmax()]"
   ]
  },
  {
   "cell_type": "code",
   "execution_count": null,
   "metadata": {},
   "outputs": [],
   "source": [
    "# Beam size 1\n",
    "!CUDA_VISIBLE_DEVICES= python infer.py --config configs/hearthstone-idioms/nl2code-0201-allmatches-anysplit-multimean.jsonnet --logdir logdirs/20190201-hs-allmatches-anysplit-multimean/filt-none_st-cov-examples_nt-20 --config-args \"{filt: 'none', st: 'cov-examples', nt: 20}\" --output __LOGDIR__/infer-test-step02200-bs1.jsonl --step 2200 --section test --beam-size 1"
   ]
  },
  {
   "cell_type": "code",
   "execution_count": 25,
   "metadata": {},
   "outputs": [
    {
     "data": {
      "text/plain": [
       "OrderedDict([('exact match', 0.16666666666666666),\n",
       "             ('sentence BLEU', 0.7716206213695468),\n",
       "             ('corpus BLEU', 0.7507985265452364)])"
      ]
     },
     "execution_count": 25,
     "metadata": {},
     "output_type": "execute_result"
    }
   ],
   "source": [
    "_, metrics = evaluation.compute_metrics(\n",
    "    'configs/hearthstone/nl2code.jsonnet', '', 'test', \n",
    "    'logdirs/20190201-hs-allmatches-anysplit-multimean/filt-none_st-cov-examples_nt-20/infer-test-step02200-bs1.jsonl')\n",
    "metrics"
   ]
  },
  {
   "cell_type": "code",
   "execution_count": 26,
   "metadata": {},
   "outputs": [
    {
     "name": "stdout",
     "output_type": "stream",
     "text": [
      "WARNING <class 'seq2struct.models.enc_dec.EncDecModel.Preproc'>: superfluous {'name': 'EncDec'}\n",
      "WARNING <class 'seq2struct.models.enc_dec.EncDecModel'>: superfluous {'decoder_preproc': {'save_path': 'data/hearthstone-idioms-20190201/all-matches-trees-anysplit/filt-none_st-cov-examples_nt-20/nl2code/', 'max_count': 5000, 'grammar': {'template_file': 'data/hearthstone-idioms-20190201/all-matches-trees-anysplit/filt-none_st-cov-examples_nt-20/templates.json', 'base_grammar': {'name': 'python'}, 'name': 'idiom_ast', 'all_sections_rewritten': True}, 'min_freq': 3, 'use_seq_elem_rules': True}, 'encoder_preproc': {'save_path': 'data/hearthstone-idioms-20190201/all-matches-trees-anysplit/filt-none_st-cov-examples_nt-20/nl2code/', 'max_count': 5000, 'min_freq': 3}}\n",
      "Loading model from logdirs/20190201-hs-allmatches-anysplit-multimean/filt-none_st-cov-examples_nt-20/model_checkpoint-00002200\n",
      "100%|███████████████████████████████████████████| 66/66 [05:56<00:00,  4.90s/it]\n"
     ]
    }
   ],
   "source": [
    "# Beam size 15\n",
    "!CUDA_VISIBLE_DEVICES= python infer.py --config configs/hearthstone-idioms/nl2code-0201-allmatches-anysplit-multimean.jsonnet --logdir logdirs/20190201-hs-allmatches-anysplit-multimean/filt-none_st-cov-examples_nt-20 --config-args \"{filt: 'none', st: 'cov-examples', nt: 20}\" --output __LOGDIR__/infer-test-step02200-bs15.jsonl --step 2200 --section test --beam-size 15"
   ]
  },
  {
   "cell_type": "code",
   "execution_count": 28,
   "metadata": {},
   "outputs": [
    {
     "data": {
      "text/plain": [
       "OrderedDict([('exact match', 0.15151515151515152),\n",
       "             ('sentence BLEU', 0.7700509157673502),\n",
       "             ('corpus BLEU', 0.7411605536438948)])"
      ]
     },
     "execution_count": 28,
     "metadata": {},
     "output_type": "execute_result"
    }
   ],
   "source": [
    "_, metrics = evaluation.compute_metrics(\n",
    "    'configs/hearthstone/nl2code.jsonnet', '', 'test', \n",
    "    'logdirs/20190201-hs-allmatches-anysplit-multimean/filt-none_st-cov-examples_nt-20/infer-test-step02200-bs15.jsonl')\n",
    "metrics"
   ]
  },
  {
   "cell_type": "markdown",
   "metadata": {},
   "source": [
    "# Exact match"
   ]
  },
  {
   "cell_type": "code",
   "execution_count": 15,
   "metadata": {},
   "outputs": [
    {
     "data": {
      "text/plain": [
       "exp_name         filt-contains-hole_st-cov-examples_nt-80\n",
       "step                                                 2200\n",
       "corpus BLEU                                      0.760019\n",
       "exact match                                       0.19697\n",
       "sentence BLEU                                    0.777438\n",
       "Name: 98, dtype: object"
      ]
     },
     "execution_count": 15,
     "metadata": {},
     "output_type": "execute_result"
    }
   ],
   "source": [
    "flat_df.loc[flat_df['exact match'].idxmax()]"
   ]
  },
  {
   "cell_type": "code",
   "execution_count": 29,
   "metadata": {},
   "outputs": [
    {
     "name": "stdout",
     "output_type": "stream",
     "text": [
      "WARNING <class 'seq2struct.models.enc_dec.EncDecModel.Preproc'>: superfluous {'name': 'EncDec'}\n",
      "WARNING <class 'seq2struct.models.enc_dec.EncDecModel'>: superfluous {'decoder_preproc': {'min_freq': 3, 'max_count': 5000, 'grammar': {'name': 'idiom_ast', 'base_grammar': {'name': 'python'}, 'all_sections_rewritten': True, 'template_file': 'data/hearthstone-idioms-20190201/all-matches-trees-anysplit/filt-contains-hole_st-cov-examples_nt-80/templates.json'}, 'use_seq_elem_rules': True, 'save_path': 'data/hearthstone-idioms-20190201/all-matches-trees-anysplit/filt-contains-hole_st-cov-examples_nt-80/nl2code/'}, 'encoder_preproc': {'min_freq': 3, 'max_count': 5000, 'save_path': 'data/hearthstone-idioms-20190201/all-matches-trees-anysplit/filt-contains-hole_st-cov-examples_nt-80/nl2code/'}}\n",
      "Loading model from logdirs/20190201-hs-allmatches-anysplit-multimean/filt-contains-hole_st-cov-examples_nt-80/model_checkpoint-00002200\n",
      "100%|███████████████████████████████████████████| 66/66 [00:20<00:00,  2.93it/s]\n"
     ]
    }
   ],
   "source": [
    "# Beam size 1\n",
    "!CUDA_VISIBLE_DEVICES= python infer.py --config configs/hearthstone-idioms/nl2code-0201-allmatches-anysplit-multimean.jsonnet --logdir logdirs/20190201-hs-allmatches-anysplit-multimean/filt-contains-hole_st-cov-examples_nt-80 --config-args \"{filt: 'contains-hole', st: 'cov-examples', nt: 80}\" --output __LOGDIR__/infer-test-step02200-bs1.jsonl --step 2200 --section test --beam-size 1"
   ]
  },
  {
   "cell_type": "code",
   "execution_count": 30,
   "metadata": {},
   "outputs": [
    {
     "data": {
      "text/plain": [
       "OrderedDict([('exact match', 0.19696969696969696),\n",
       "             ('sentence BLEU', 0.779738300040056),\n",
       "             ('corpus BLEU', 0.7661866828940765)])"
      ]
     },
     "execution_count": 30,
     "metadata": {},
     "output_type": "execute_result"
    }
   ],
   "source": [
    "_, metrics = evaluation.compute_metrics(\n",
    "    'configs/hearthstone/nl2code.jsonnet', '', 'test', \n",
    "    'logdirs/20190201-hs-allmatches-anysplit-multimean/filt-contains-hole_st-cov-examples_nt-80/infer-test-step02200-bs1.jsonl')\n",
    "metrics"
   ]
  },
  {
   "cell_type": "markdown",
   "metadata": {},
   "source": [
    "# Compare against baseline"
   ]
  },
  {
   "cell_type": "code",
   "execution_count": 33,
   "metadata": {},
   "outputs": [
    {
     "name": "stdout",
     "output_type": "stream",
     "text": [
      "logdirs/20181231-nl2code-hearthstone-fef2c5b/att0\n",
      "logdirs/20181231-nl2code-hearthstone-fef2c5b/att1\n"
     ]
    }
   ],
   "source": [
    "accuracy_per_run = collections.defaultdict(dict)\n",
    "all_metrics = []\n",
    "metric_types = set()\n",
    "rows = []\n",
    "for d in sorted(glob.glob('logdirs/20181231-nl2code-hearthstone-fef2c5b//*')):\n",
    "    exp_name = os.path.basename(d)\n",
    "    exp_vars = re.match('att([^_]+)', exp_name).groups()\n",
    "\n",
    "    infer_paths = glob.glob(os.path.join(d, 'infer-val-step*-bs1.jsonl'))\n",
    "    all_scores = []\n",
    "    for infer_path in infer_paths:\n",
    "        step = int(re.search('step(\\d+)', infer_path).group(1))\n",
    "        _, metrics = evaluation.compute_metrics(\n",
    "            'configs/hearthstone/nl2code.jsonnet', '', 'val', infer_path)\n",
    "        all_scores.append((step, metrics['exact match']))\n",
    "        all_metrics.append((exp_name, step, metrics))\n",
    "        metric_types.update(metrics.keys())\n",
    "    \n",
    "    all_scores.sort(key=operator.itemgetter(0))\n",
    "    sorted_scores = sorted(all_scores, reverse=True, key=operator.itemgetter(1))\n",
    "    rows.append(exp_vars + (len(all_scores),) + (sorted_scores[0] if sorted_scores else (-1, -1)))\n",
    "    accuracy_per_run[exp_name] = {\n",
    "        'x': [s[0] for s in all_scores],\n",
    "        'all': [s[1] for s in all_scores],\n",
    "    }\n",
    "    print(d)\n",
    "    \n",
    "metric_types = tuple(sorted(metric_types))\n",
    "df = pd.DataFrame(rows, columns=('att', 'num steps eval', 'step', 'exact match'))\n",
    "flat_df = pd.DataFrame(\n",
    "    [(exp_name, step) + tuple(metrics.get(t) for t in metric_types) for exp_name, step, metrics in all_metrics],\n",
    "    columns=('exp_name', 'step') + metric_types)"
   ]
  },
  {
   "cell_type": "code",
   "execution_count": 38,
   "metadata": {},
   "outputs": [
    {
     "data": {
      "text/html": [
       "<div>\n",
       "<style scoped>\n",
       "    .dataframe tbody tr th:only-of-type {\n",
       "        vertical-align: middle;\n",
       "    }\n",
       "\n",
       "    .dataframe tbody tr th {\n",
       "        vertical-align: top;\n",
       "    }\n",
       "\n",
       "    .dataframe thead th {\n",
       "        text-align: right;\n",
       "    }\n",
       "</style>\n",
       "<table border=\"1\" class=\"dataframe\">\n",
       "  <thead>\n",
       "    <tr style=\"text-align: right;\">\n",
       "      <th></th>\n",
       "      <th>att</th>\n",
       "      <th>num steps eval</th>\n",
       "      <th>step</th>\n",
       "      <th>exact match</th>\n",
       "    </tr>\n",
       "  </thead>\n",
       "  <tbody>\n",
       "    <tr>\n",
       "      <th>0</th>\n",
       "      <td>0</td>\n",
       "      <td>25</td>\n",
       "      <td>1900</td>\n",
       "      <td>0.166667</td>\n",
       "    </tr>\n",
       "    <tr>\n",
       "      <th>1</th>\n",
       "      <td>1</td>\n",
       "      <td>25</td>\n",
       "      <td>2300</td>\n",
       "      <td>0.196970</td>\n",
       "    </tr>\n",
       "  </tbody>\n",
       "</table>\n",
       "</div>"
      ],
      "text/plain": [
       "  att  num steps eval  step  exact match\n",
       "0   0              25  1900     0.166667\n",
       "1   1              25  2300     0.196970"
      ]
     },
     "execution_count": 38,
     "metadata": {},
     "output_type": "execute_result"
    }
   ],
   "source": [
    "df"
   ]
  },
  {
   "cell_type": "markdown",
   "metadata": {},
   "source": [
    "## Corpus BLEU"
   ]
  },
  {
   "cell_type": "code",
   "execution_count": 35,
   "metadata": {},
   "outputs": [
    {
     "data": {
      "text/plain": [
       "exp_name             att1\n",
       "step                 1900\n",
       "corpus BLEU      0.789029\n",
       "exact match      0.151515\n",
       "sentence BLEU    0.780316\n",
       "Name: 44, dtype: object"
      ]
     },
     "execution_count": 35,
     "metadata": {},
     "output_type": "execute_result"
    }
   ],
   "source": [
    "flat_df.loc[flat_df['corpus BLEU'].idxmax()]"
   ]
  },
  {
   "cell_type": "code",
   "execution_count": 36,
   "metadata": {},
   "outputs": [
    {
     "name": "stdout",
     "output_type": "stream",
     "text": [
      "WARNING <class 'seq2struct.models.enc_dec.EncDecModel.Preproc'>: superfluous {'name': 'EncDec'}\n",
      "WARNING <class 'seq2struct.models.enc_dec.EncDecModel'>: superfluous {'decoder_preproc': {'grammar': {'name': 'python'}, 'save_path': 'data/hearthstone/nl2code/', 'max_count': 5000, 'min_freq': 3}, 'encoder_preproc': {'max_count': 5000, 'save_path': 'data/hearthstone/nl2code/', 'min_freq': 3}}\n",
      "Loading model from logdirs/20181231-nl2code-hearthstone-fef2c5b/att1/model_checkpoint-00001900\n",
      "100%|███████████████████████████████████████████| 66/66 [00:21<00:00,  3.23it/s]\n"
     ]
    }
   ],
   "source": [
    "!CUDA_VISIBLE_DEVICES= python infer.py --config configs/hearthstone/nl2code.jsonnet --logdir logdirs/20181231-nl2code-hearthstone-fef2c5b/att1 --output __LOGDIR__/infer-test-step01900-bs1.jsonl --step 1900 --section test --beam-size 1"
   ]
  },
  {
   "cell_type": "code",
   "execution_count": 37,
   "metadata": {},
   "outputs": [
    {
     "data": {
      "text/plain": [
       "OrderedDict([('exact match', 0.12121212121212122),\n",
       "             ('sentence BLEU', 0.7242459632152278),\n",
       "             ('corpus BLEU', 0.7335344583509769)])"
      ]
     },
     "execution_count": 37,
     "metadata": {},
     "output_type": "execute_result"
    }
   ],
   "source": [
    "_, metrics = evaluation.compute_metrics(\n",
    "    'configs/hearthstone/nl2code.jsonnet', '', 'test',\n",
    "    'logdirs/20181231-nl2code-hearthstone-fef2c5b/att1/infer-test-step01900-bs1.jsonl')\n",
    "metrics"
   ]
  },
  {
   "cell_type": "markdown",
   "metadata": {},
   "source": [
    "## Sentence BLEU"
   ]
  },
  {
   "cell_type": "code",
   "execution_count": 39,
   "metadata": {},
   "outputs": [
    {
     "data": {
      "text/plain": [
       "exp_name              att0\n",
       "step                  2400\n",
       "corpus BLEU       0.777414\n",
       "exact match      0.0909091\n",
       "sentence BLEU     0.780721\n",
       "Name: 24, dtype: object"
      ]
     },
     "execution_count": 39,
     "metadata": {},
     "output_type": "execute_result"
    }
   ],
   "source": [
    "flat_df.loc[flat_df['sentence BLEU'].idxmax()]"
   ]
  },
  {
   "cell_type": "code",
   "execution_count": 40,
   "metadata": {},
   "outputs": [
    {
     "name": "stdout",
     "output_type": "stream",
     "text": [
      "WARNING <class 'seq2struct.models.enc_dec.EncDecModel.Preproc'>: superfluous {'name': 'EncDec'}\n",
      "WARNING <class 'seq2struct.models.enc_dec.EncDecModel'>: superfluous {'encoder_preproc': {'min_freq': 3, 'save_path': 'data/hearthstone/nl2code/', 'max_count': 5000}, 'decoder_preproc': {'min_freq': 3, 'grammar': {'name': 'python'}, 'save_path': 'data/hearthstone/nl2code/', 'max_count': 5000}}\n",
      "Loading model from logdirs/20181231-nl2code-hearthstone-fef2c5b/att0/model_checkpoint-00002400\n",
      "100%|███████████████████████████████████████████| 66/66 [00:19<00:00,  3.16it/s]\n"
     ]
    }
   ],
   "source": [
    "!CUDA_VISIBLE_DEVICES= python infer.py --config configs/hearthstone/nl2code.jsonnet --logdir logdirs/20181231-nl2code-hearthstone-fef2c5b/att0 --output __LOGDIR__/infer-test-step02400-bs1.jsonl --step 2400 --section test --beam-size 1"
   ]
  },
  {
   "cell_type": "code",
   "execution_count": 41,
   "metadata": {},
   "outputs": [
    {
     "data": {
      "text/plain": [
       "OrderedDict([('exact match', 0.19696969696969696),\n",
       "             ('sentence BLEU', 0.7791194850374037),\n",
       "             ('corpus BLEU', 0.7638435491009413)])"
      ]
     },
     "execution_count": 41,
     "metadata": {},
     "output_type": "execute_result"
    }
   ],
   "source": [
    "_, metrics = evaluation.compute_metrics(\n",
    "    'configs/hearthstone/nl2code.jsonnet', '', 'test',\\\n",
    "    'logdirs/20181231-nl2code-hearthstone-fef2c5b/att0/infer-test-step02400-bs1.jsonl')\n",
    "metrics"
   ]
  },
  {
   "cell_type": "markdown",
   "metadata": {},
   "source": [
    "## Exact match"
   ]
  },
  {
   "cell_type": "code",
   "execution_count": 42,
   "metadata": {},
   "outputs": [
    {
     "data": {
      "text/plain": [
       "exp_name             att1\n",
       "step                 2300\n",
       "corpus BLEU      0.762964\n",
       "exact match       0.19697\n",
       "sentence BLEU    0.766753\n",
       "Name: 37, dtype: object"
      ]
     },
     "execution_count": 42,
     "metadata": {},
     "output_type": "execute_result"
    }
   ],
   "source": [
    "flat_df.loc[flat_df['exact match'].idxmax()]"
   ]
  },
  {
   "cell_type": "code",
   "execution_count": 43,
   "metadata": {},
   "outputs": [
    {
     "name": "stdout",
     "output_type": "stream",
     "text": [
      "WARNING <class 'seq2struct.models.enc_dec.EncDecModel.Preproc'>: superfluous {'name': 'EncDec'}\n",
      "WARNING <class 'seq2struct.models.enc_dec.EncDecModel'>: superfluous {'encoder_preproc': {'max_count': 5000, 'min_freq': 3, 'save_path': 'data/hearthstone/nl2code/'}, 'decoder_preproc': {'max_count': 5000, 'min_freq': 3, 'save_path': 'data/hearthstone/nl2code/', 'grammar': {'name': 'python'}}}\n",
      "Loading model from logdirs/20181231-nl2code-hearthstone-fef2c5b/att1/model_checkpoint-00002300\n",
      "100%|███████████████████████████████████████████| 66/66 [00:19<00:00,  3.89it/s]\n"
     ]
    }
   ],
   "source": [
    "!CUDA_VISIBLE_DEVICES= python infer.py --config configs/hearthstone/nl2code.jsonnet --logdir logdirs/20181231-nl2code-hearthstone-fef2c5b/att1 --output __LOGDIR__/infer-test-step02300-bs1.jsonl --step 2300 --section test --beam-size 1"
   ]
  },
  {
   "cell_type": "code",
   "execution_count": 44,
   "metadata": {},
   "outputs": [
    {
     "data": {
      "text/plain": [
       "OrderedDict([('exact match', 0.15151515151515152),\n",
       "             ('sentence BLEU', 0.7430320121685502),\n",
       "             ('corpus BLEU', 0.7229233074922048)])"
      ]
     },
     "execution_count": 44,
     "metadata": {},
     "output_type": "execute_result"
    }
   ],
   "source": [
    "_, metrics = evaluation.compute_metrics(\n",
    "    'configs/hearthstone/nl2code.jsonnet', '', 'test',\n",
    "    'logdirs/20181231-nl2code-hearthstone-fef2c5b/att1/infer-test-step02300-bs1.jsonl')\n",
    "metrics"
   ]
  },
  {
   "cell_type": "markdown",
   "metadata": {},
   "source": [
    "# Measure idiom popularity"
   ]
  },
  {
   "cell_type": "code",
   "execution_count": 53,
   "metadata": {},
   "outputs": [
    {
     "name": "stdout",
     "output_type": "stream",
     "text": [
      "WARNING <class 'seq2struct.models.enc_dec.EncDecModel.Preproc'>: superfluous {'name': 'EncDec'}\n",
      "WARNING <class 'seq2struct.models.enc_dec.EncDecModel'>: superfluous {'decoder_preproc': {'grammar': {'name': 'idiom_ast', 'base_grammar': {'name': 'python'}, 'all_sections_rewritten': True, 'template_file': 'data/hearthstone-idioms-20190201/all-matches-trees-anysplit/filt-contains-hole_st-cov-examples_nt-80/templates.json'}, 'max_count': 5000, 'min_freq': 3, 'use_seq_elem_rules': True, 'save_path': 'data/hearthstone-idioms-20190201/all-matches-trees-anysplit/filt-contains-hole_st-cov-examples_nt-80/nl2code/'}, 'encoder_preproc': {'save_path': 'data/hearthstone-idioms-20190201/all-matches-trees-anysplit/filt-contains-hole_st-cov-examples_nt-80/nl2code/', 'max_count': 5000, 'min_freq': 3}}\n",
      "Loading model from logdirs/20190201-hs-allmatches-anysplit-multimean/filt-contains-hole_st-cov-examples_nt-80/model_checkpoint-00002200\n",
      "100%|███████████████████████████████████████████| 66/66 [00:19<00:00,  3.17it/s]\n"
     ]
    }
   ],
   "source": [
    "!CUDA_VISIBLE_DEVICES= python infer.py \\\n",
    "    --config configs/hearthstone-idioms/nl2code-0201-allmatches-anysplit-multimean.jsonnet \\\n",
    "    --logdir logdirs/20190201-hs-allmatches-anysplit-multimean/filt-contains-hole_st-cov-examples_nt-80 \\\n",
    "    --config-args \"{filt: 'contains-hole', st: 'cov-examples', nt: 80}\" \\\n",
    "    --output-history \\\n",
    "    --output __LOGDIR__/infer-test-step02200-bs1-with-history.jsonl --step 2200 --section test --beam-size 1"
   ]
  },
  {
   "cell_type": "code",
   "execution_count": 55,
   "metadata": {},
   "outputs": [],
   "source": [
    "inferred = [json.loads(line) for line in open('logdirs/20190201-hs-allmatches-anysplit-multimean/filt-contains-hole_st-cov-examples_nt-80/infer-test-step02200-bs1-with-history.jsonl')]"
   ]
  },
  {
   "cell_type": "code",
   "execution_count": 63,
   "metadata": {},
   "outputs": [],
   "source": [
    "all_rules = json.load(\n",
    "    open('data/hearthstone-idioms-20190201/all-matches-trees-anysplit/filt-contains-hole_st-cov-examples_nt-80/nl2code/grammar_rules.json')\n",
    ")['all_rules']"
   ]
  },
  {
   "cell_type": "code",
   "execution_count": 72,
   "metadata": {},
   "outputs": [],
   "source": [
    "all_template_counts = []\n",
    "for example in inferred:\n",
    "    template_counts = collections.Counter()\n",
    "    for choice in example['beams'][0]['choice_history']:\n",
    "        if isinstance(choice, int):\n",
    "            rule = all_rules[choice]\n",
    "            if isinstance(rule[1], str) and re.match('Template\\d+', rule[1]):\n",
    "                template_counts[tuple(rule)] += 1\n",
    "    all_template_counts.append(template_counts)\n",
    "            "
   ]
  },
  {
   "cell_type": "markdown",
   "metadata": {},
   "source": [
    "## Most frequently selected idioms"
   ]
  },
  {
   "cell_type": "code",
   "execution_count": 86,
   "metadata": {},
   "outputs": [],
   "source": [
    "all_templates = {\n",
    "    'Template{}'.format(template['id']): template for template in \n",
    "    json.load(open('data/hearthstone-idioms-20190201/all-matches-trees-anysplit/filt-contains-hole_st-cov-examples_nt-80/templates.json'))\n",
    "}"
   ]
  },
  {
   "cell_type": "code",
   "execution_count": 92,
   "metadata": {},
   "outputs": [
    {
     "data": {
      "text/plain": [
       "[(('mod', 'Template4'), 62),\n",
       " (('arguments_plus_templates', 'Template33'), 56),\n",
       " (('stmt_seq_elem', 'Template24'), 56),\n",
       " (('stmt_seq_elem', 'Template75'), 49),\n",
       " (('stmt_seq_elem', 'Template13'), 45)]"
      ]
     },
     "execution_count": 92,
     "metadata": {},
     "output_type": "execute_result"
    }
   ],
   "source": [
    "most_frequent = sum(all_template_counts, collections.Counter()).most_common(5)\n",
    "most_frequent"
   ]
  },
  {
   "cell_type": "code",
   "execution_count": 93,
   "metadata": {
    "scrolled": false
   },
   "outputs": [
    {
     "name": "stdout",
     "output_type": "stream",
     "text": [
      "Template4\n",
      "{'holes': [{'id': 0, 'type': 'AddChild'},\n",
      "           {'id': 1, 'type': 'AddChild'},\n",
      "           {'id': 2, 'type': 'ReplaceSelf'},\n",
      "           {'id': 3, 'type': 'AddChild'},\n",
      "           {'id': 4, 'type': 'AddChild'},\n",
      "           {'id': 5, 'type': 'ReplaceSelf'},\n",
      "           {'id': 6, 'type': 'ReplaceSelf'},\n",
      "           {'id': 7, 'type': 'ReplaceSelf'}],\n",
      " 'id': 4,\n",
      " 'idiom': ['Module',\n",
      "           [],\n",
      "           None,\n",
      "           [['ClassDef',\n",
      "             [],\n",
      "             None,\n",
      "             [['ClassDef-name', [], 0, []],\n",
      "              ['ClassDef-bases',\n",
      "               [],\n",
      "               None,\n",
      "               [['Name', [], 1, []],\n",
      "                ['ClassDef-bases', [], None, [['End', [], None, []]]]]],\n",
      "              ['ClassDef-keywords', [], None, [['End', [], None, []]]],\n",
      "              ['ClassDef-body',\n",
      "               [],\n",
      "               None,\n",
      "               [['FunctionDef',\n",
      "                 [],\n",
      "                 None,\n",
      "                 [['FunctionDef-name', [], None, [['__init__', [], None, []]]],\n",
      "                  ['FunctionDef-args',\n",
      "                   [],\n",
      "                   None,\n",
      "                   [['arguments',\n",
      "                     [],\n",
      "                     None,\n",
      "                     [['arguments-args',\n",
      "                       [],\n",
      "                       None,\n",
      "                       [['arg',\n",
      "                         [],\n",
      "                         None,\n",
      "                         [['arg-arg', [], None, [['self', [0], None, []]]],\n",
      "                          ['arg-annotation',\n",
      "                           [],\n",
      "                           None,\n",
      "                           [['Null', [], None, []]]]]],\n",
      "                        ['arguments-args', [], None, [['End', [], None, []]]]]],\n",
      "                      ['arguments-vararg', [], None, [['Null', [], None, []]]],\n",
      "                      ['arguments-kwonlyargs',\n",
      "                       [],\n",
      "                       None,\n",
      "                       [['End', [], None, []]]],\n",
      "                      ['arguments-kw_defaults',\n",
      "                       [],\n",
      "                       None,\n",
      "                       [['End', [], None, []]]],\n",
      "                      ['arguments-kwarg', [], None, [['Null', [], None, []]]],\n",
      "                      ['arguments-defaults',\n",
      "                       [],\n",
      "                       None,\n",
      "                       [['End', [], None, []]]]]]]],\n",
      "                  ['FunctionDef-body', [], 2, []],\n",
      "                  ['FunctionDef-decorator_list',\n",
      "                   [],\n",
      "                   None,\n",
      "                   [['End', [], None, []]]],\n",
      "                  ['FunctionDef-returns', [], None, [['Null', [], None, []]]]]],\n",
      "                ['ClassDef-body',\n",
      "                 [],\n",
      "                 None,\n",
      "                 [['FunctionDef',\n",
      "                   [],\n",
      "                   None,\n",
      "                   [['FunctionDef-name', [], 3, []],\n",
      "                    ['FunctionDef-args',\n",
      "                     [],\n",
      "                     None,\n",
      "                     [['arguments',\n",
      "                       [],\n",
      "                       None,\n",
      "                       [['arguments-args',\n",
      "                         [],\n",
      "                         None,\n",
      "                         [['arg',\n",
      "                           [],\n",
      "                           None,\n",
      "                           [['arg-arg', [], None, [['self', [0], None, []]]],\n",
      "                            ['arg-annotation',\n",
      "                             [],\n",
      "                             None,\n",
      "                             [['Null', [], None, []]]]]],\n",
      "                          ['arguments-args',\n",
      "                           [],\n",
      "                           None,\n",
      "                           [['arg',\n",
      "                             [],\n",
      "                             None,\n",
      "                             [['arg-arg', [], 4, []],\n",
      "                              ['arg-annotation',\n",
      "                               [],\n",
      "                               None,\n",
      "                               [['Null', [], None, []]]]]],\n",
      "                            ['arguments-args', [], 5, []]]]]],\n",
      "                        ['arguments-vararg',\n",
      "                         [],\n",
      "                         None,\n",
      "                         [['Null', [], None, []]]],\n",
      "                        ['arguments-kwonlyargs',\n",
      "                         [],\n",
      "                         None,\n",
      "                         [['End', [], None, []]]],\n",
      "                        ['arguments-kw_defaults',\n",
      "                         [],\n",
      "                         None,\n",
      "                         [['End', [], None, []]]],\n",
      "                        ['arguments-kwarg', [], None, [['Null', [], None, []]]],\n",
      "                        ['arguments-defaults',\n",
      "                         [],\n",
      "                         None,\n",
      "                         [['End', [], None, []]]]]]]],\n",
      "                    ['FunctionDef-body', [], 6, []],\n",
      "                    ['FunctionDef-decorator_list',\n",
      "                     [],\n",
      "                     None,\n",
      "                     [['End', [], None, []]]],\n",
      "                    ['FunctionDef-returns',\n",
      "                     [],\n",
      "                     None,\n",
      "                     [['Null', [], None, []]]]]],\n",
      "                  ['ClassDef-body', [], 7, []]]]]],\n",
      "              ['ClassDef-decorator_list', [], None, [['End', [], None, []]]]]],\n",
      "            ['Module', [], None, [['End', [], None, []]]]]]}\n",
      "\n",
      "Template33\n",
      "{'holes': [{'id': 0, 'type': 'ReplaceSelf'}],\n",
      " 'id': 33,\n",
      " 'idiom': ['arguments',\n",
      "           [],\n",
      "           None,\n",
      "           [['arguments-args',\n",
      "             [],\n",
      "             None,\n",
      "             [['arg',\n",
      "               [],\n",
      "               None,\n",
      "               [['arg-arg', [], None, [['self', [], None, []]]],\n",
      "                ['arg-annotation', [], None, [['Null', [], None, []]]]]],\n",
      "              ['arguments-args',\n",
      "               [],\n",
      "               None,\n",
      "               [['arg',\n",
      "                 [],\n",
      "                 None,\n",
      "                 [['arg-arg', [], None, [['player', [], None, []]]],\n",
      "                  ['arg-annotation', [], None, [['Null', [], None, []]]]]],\n",
      "                ['arguments-args', [], 0, []]]]]],\n",
      "            ['arguments-vararg', [], None, [['Null', [], None, []]]],\n",
      "            ['arguments-kwonlyargs', [], None, [['End', [], None, []]]],\n",
      "            ['arguments-kw_defaults', [], None, [['End', [], None, []]]],\n",
      "            ['arguments-kwarg', [], None, [['Null', [], None, []]]],\n",
      "            ['arguments-defaults', [], None, [['End', [], None, []]]]]]}\n",
      "\n",
      "Template24\n",
      "{'holes': [{'id': 0, 'type': 'AddChild'},\n",
      "           {'id': 1, 'type': 'AddChild'},\n",
      "           {'id': 2, 'type': 'AddChild'},\n",
      "           {'id': 3, 'type': 'AddChild'},\n",
      "           {'id': 4, 'type': 'ReplaceSelf'},\n",
      "           {'id': 5, 'type': 'ReplaceSelf'}],\n",
      " 'id': 24,\n",
      " 'idiom': ['Expr',\n",
      "           [],\n",
      "           None,\n",
      "           [['Call',\n",
      "             [],\n",
      "             None,\n",
      "             [['Call-func',\n",
      "               [],\n",
      "               None,\n",
      "               [['Attribute',\n",
      "                 [],\n",
      "                 None,\n",
      "                 [['Attribute-value',\n",
      "                   [],\n",
      "                   None,\n",
      "                   [['Call',\n",
      "                     [],\n",
      "                     None,\n",
      "                     [['Call-func',\n",
      "                       [],\n",
      "                       None,\n",
      "                       [['Name', [], None, [['super', [], None, []]]]]],\n",
      "                      ['Call-args', [], None, [['End', [], None, []]]],\n",
      "                      ['Call-keywords', [], None, [['End', [], None, []]]]]]]],\n",
      "                  ['Attribute-attr',\n",
      "                   [],\n",
      "                   None,\n",
      "                   [['__init__', [], None, []]]]]]]],\n",
      "              ['Call-args',\n",
      "               [],\n",
      "               None,\n",
      "               [['Str', [], 0, []],\n",
      "                ['Call-args',\n",
      "                 [],\n",
      "                 None,\n",
      "                 [['Num', [], 1, []],\n",
      "                  ['Call-args',\n",
      "                   [],\n",
      "                   None,\n",
      "                   [['Attribute',\n",
      "                     [],\n",
      "                     None,\n",
      "                     [['Attribute-value',\n",
      "                       [],\n",
      "                       None,\n",
      "                       [['Name',\n",
      "                         [],\n",
      "                         None,\n",
      "                         [['CHARACTER_CLASS', [], None, []]]]]],\n",
      "                      ['Attribute-attr', [], 2, []]]],\n",
      "                    ['Call-args',\n",
      "                     [],\n",
      "                     None,\n",
      "                     [['Attribute',\n",
      "                       [],\n",
      "                       None,\n",
      "                       [['Attribute-value',\n",
      "                         [],\n",
      "                         None,\n",
      "                         [['Name', [], None, [['CARD_RARITY', [], None, []]]]]],\n",
      "                        ['Attribute-attr', [], 3, []]]],\n",
      "                      ['Call-args', [], 4, []]]]]]]]]],\n",
      "              ['Call-keywords', [], 5, []]]]]]}\n",
      "\n",
      "Template75\n",
      "{'holes': [{'id': 0, 'type': 'AddChild'},\n",
      "           {'id': 1, 'type': 'AddChild'},\n",
      "           {'id': 2, 'type': 'ReplaceSelf'}],\n",
      " 'id': 75,\n",
      " 'idiom': ['Expr',\n",
      "           [],\n",
      "           None,\n",
      "           [['Call',\n",
      "             [],\n",
      "             None,\n",
      "             [['Call-func',\n",
      "               [],\n",
      "               None,\n",
      "               [['Attribute',\n",
      "                 [],\n",
      "                 None,\n",
      "                 [['Attribute-value', [], 0, []],\n",
      "                  ['Attribute-attr', [], 1, []]]]]],\n",
      "              ['Call-args', [], 2, []],\n",
      "              ['Call-keywords', [], None, [['End', [], None, []]]]]]]]}\n",
      "\n",
      "Template13\n",
      "{'holes': [{'id': 0, 'type': 'AddChild'},\n",
      "           {'id': 1, 'type': 'ReplaceSelf'},\n",
      "           {'id': 2, 'type': 'AddChild'},\n",
      "           {'id': 3, 'type': 'AddChild'},\n",
      "           {'id': 4, 'type': 'ReplaceSelf'},\n",
      "           {'id': 5, 'type': 'ReplaceSelf'}],\n",
      " 'id': 13,\n",
      " 'idiom': ['FunctionDef',\n",
      "           [],\n",
      "           None,\n",
      "           [['FunctionDef-name', [], 0, []],\n",
      "            ['FunctionDef-args',\n",
      "             [],\n",
      "             None,\n",
      "             [['arguments',\n",
      "               [],\n",
      "               None,\n",
      "               [['arguments-args',\n",
      "                 [],\n",
      "                 None,\n",
      "                 [['arg',\n",
      "                   [],\n",
      "                   None,\n",
      "                   [['arg-arg', [], None, [['self', [], None, []]]],\n",
      "                    ['arg-annotation', [], None, [['Null', [], None, []]]]]],\n",
      "                  ['arguments-args', [], 1, []]]],\n",
      "                ['arguments-vararg', [], None, [['Null', [], None, []]]],\n",
      "                ['arguments-kwonlyargs', [], None, [['End', [], None, []]]],\n",
      "                ['arguments-kw_defaults', [], None, [['End', [], None, []]]],\n",
      "                ['arguments-kwarg', [], None, [['Null', [], None, []]]],\n",
      "                ['arguments-defaults', [], None, [['End', [], None, []]]]]]]],\n",
      "            ['FunctionDef-body',\n",
      "             [],\n",
      "             None,\n",
      "             [['Expr',\n",
      "               [],\n",
      "               None,\n",
      "               [['Call',\n",
      "                 [],\n",
      "                 None,\n",
      "                 [['Call-func',\n",
      "                   [],\n",
      "                   None,\n",
      "                   [['Attribute',\n",
      "                     [],\n",
      "                     None,\n",
      "                     [['Attribute-value', [], 2, []],\n",
      "                      ['Attribute-attr', [], 3, []]]]]],\n",
      "                  ['Call-args', [], 4, []],\n",
      "                  ['Call-keywords', [], 5, []]]]]],\n",
      "              ['FunctionDef-body', [], None, [['End', [], None, []]]]]],\n",
      "            ['FunctionDef-decorator_list', [], None, [['End', [], None, []]]],\n",
      "            ['FunctionDef-returns', [], None, [['Null', [], None, []]]]]]}\n",
      "\n"
     ]
    }
   ],
   "source": [
    "import pprint\n",
    "for (lhs, rhs), count in most_frequent:\n",
    "    print(rhs)\n",
    "    pprint.pprint(all_templates[rhs])\n",
    "    print()"
   ]
  },
  {
   "cell_type": "markdown",
   "metadata": {},
   "source": [
    "## Idioms that appear in the greatest number of instances"
   ]
  },
  {
   "cell_type": "code",
   "execution_count": 97,
   "metadata": {},
   "outputs": [
    {
     "data": {
      "text/plain": [
       "[(('mod', 'Template4'), 62),\n",
       " (('stmt_seq_elem', 'Template24'), 56),\n",
       " (('arguments_plus_templates', 'Template33'), 55),\n",
       " (('stmt_seq_elem', 'Template13'), 45),\n",
       " (('arguments_plus_templates', 'Template46'), 43)]"
      ]
     },
     "execution_count": 97,
     "metadata": {},
     "output_type": "execute_result"
    }
   ],
   "source": [
    "most_common = collections.Counter(itertools.chain.from_iterable(c.keys() for c in all_template_counts)).most_common(5)\n",
    "most_common"
   ]
  },
  {
   "cell_type": "code",
   "execution_count": 101,
   "metadata": {},
   "outputs": [
    {
     "name": "stdout",
     "output_type": "stream",
     "text": [
      "Template46\n",
      "{'holes': [{'id': 0, 'type': 'AddChild'}],\n",
      " 'id': 46,\n",
      " 'idiom': ['arguments',\n",
      "           [],\n",
      "           None,\n",
      "           [['arguments-args',\n",
      "             [],\n",
      "             None,\n",
      "             [['arg',\n",
      "               [],\n",
      "               None,\n",
      "               [['arg-arg', [], 0, []],\n",
      "                ['arg-annotation', [], None, [['Null', [], None, []]]]]],\n",
      "              ['arguments-args', [], None, [['End', [], None, []]]]]],\n",
      "            ['arguments-vararg', [], None, [['Null', [], None, []]]],\n",
      "            ['arguments-kwonlyargs', [], None, [['End', [], None, []]]],\n",
      "            ['arguments-kw_defaults', [], None, [['End', [], None, []]]],\n",
      "            ['arguments-kwarg', [], None, [['Null', [], None, []]]],\n",
      "            ['arguments-defaults', [], None, [['End', [], None, []]]]]]}\n",
      "\n"
     ]
    }
   ],
   "source": [
    "already_printed = {rhs for (_, rhs), _ in most_frequent}\n",
    "for (lhs, rhs), count in most_common:\n",
    "    if rhs in already_printed:\n",
    "        continue\n",
    "    print(rhs)\n",
    "    pprint.pprint(all_templates[rhs])\n",
    "    print()"
   ]
  },
  {
   "cell_type": "code",
   "execution_count": null,
   "metadata": {},
   "outputs": [],
   "source": []
  }
 ],
 "metadata": {
  "kernelspec": {
   "display_name": "Python 3",
   "language": "python",
   "name": "python3"
  },
  "language_info": {
   "codemirror_mode": {
    "name": "ipython",
    "version": 3
   },
   "file_extension": ".py",
   "mimetype": "text/x-python",
   "name": "python",
   "nbconvert_exporter": "python",
   "pygments_lexer": "ipython3",
   "version": "3.5.2"
  }
 },
 "nbformat": 4,
 "nbformat_minor": 2
}
