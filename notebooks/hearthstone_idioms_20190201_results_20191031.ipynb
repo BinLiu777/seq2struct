{
 "cells": [
  {
   "cell_type": "code",
   "execution_count": 1,
   "metadata": {
    "scrolled": true
   },
   "outputs": [],
   "source": [
    "import collections\n",
    "import glob\n",
    "import itertools\n",
    "import json\n",
    "import operator\n",
    "import os\n",
    "import re\n",
    "\n",
    "import natsort\n",
    "import matplotlib.pyplot as plt\n",
    "import pandas as pd\n",
    "\n",
    "%matplotlib inline\n",
    "plt.rcParams['figure.figsize'] = [20, 20]\n",
    "\n",
    "from seq2struct.utils import evaluation"
   ]
  },
  {
   "cell_type": "code",
   "execution_count": 2,
   "metadata": {},
   "outputs": [],
   "source": [
    "os.chdir('..')"
   ]
  },
  {
   "cell_type": "code",
   "execution_count": 3,
   "metadata": {},
   "outputs": [
    {
     "name": "stdout",
     "output_type": "stream",
     "text": [
      "logdirs/20190201-hs-allmatches-anysplit-multimean/filt-contains-hole_st-cov-examples_nt-10\n",
      "logdirs/20190201-hs-allmatches-anysplit-multimean/filt-contains-hole_st-cov-examples_nt-20\n",
      "logdirs/20190201-hs-allmatches-anysplit-multimean/filt-contains-hole_st-cov-examples_nt-40\n",
      "logdirs/20190201-hs-allmatches-anysplit-multimean/filt-contains-hole_st-cov-examples_nt-80\n",
      "logdirs/20190201-hs-allmatches-anysplit-multimean/filt-contains-hole_st-cov-xent_nt-10\n",
      "logdirs/20190201-hs-allmatches-anysplit-multimean/filt-contains-hole_st-cov-xent_nt-20\n",
      "logdirs/20190201-hs-allmatches-anysplit-multimean/filt-contains-hole_st-cov-xent_nt-40\n",
      "logdirs/20190201-hs-allmatches-anysplit-multimean/filt-contains-hole_st-cov-xent_nt-80\n",
      "logdirs/20190201-hs-allmatches-anysplit-multimean/filt-none_st-cov-examples_nt-10\n",
      "logdirs/20190201-hs-allmatches-anysplit-multimean/filt-none_st-cov-examples_nt-20\n",
      "logdirs/20190201-hs-allmatches-anysplit-multimean/filt-none_st-cov-examples_nt-40\n",
      "logdirs/20190201-hs-allmatches-anysplit-multimean/filt-none_st-cov-examples_nt-80\n",
      "logdirs/20190201-hs-allmatches-anysplit-multimean/filt-none_st-cov-xent_nt-10\n",
      "logdirs/20190201-hs-allmatches-anysplit-multimean/filt-none_st-cov-xent_nt-20\n",
      "logdirs/20190201-hs-allmatches-anysplit-multimean/filt-none_st-cov-xent_nt-40\n",
      "logdirs/20190201-hs-allmatches-anysplit-multimean/filt-none_st-cov-xent_nt-80\n"
     ]
    }
   ],
   "source": [
    "accuracy_per_run = collections.defaultdict(dict)\n",
    "all_metrics = []\n",
    "metric_types = set()\n",
    "rows = []\n",
    "for d in sorted(glob.glob('logdirs/20190201-hs-allmatches-anysplit-multimean/*')):\n",
    "    exp_name = os.path.basename(d)\n",
    "    exp_vars = re.match('filt-([^_]+)_st-([^_]+)_nt-([^_]+)', exp_name).groups()\n",
    "\n",
    "    infer_paths = glob.glob(os.path.join(d, 'infer-val-20191031-step*-bs1.jsonl'))\n",
    "    \n",
    "    for infer_path in infer_paths:\n",
    "        inferred = [json.loads(line) for line in open(infer_path)]\n",
    "        \n",
    "        step = int(re.search('step(\\d+)', infer_path).group(1))\n",
    "        _, metrics = evaluation.compute_metrics(\n",
    "            'configs/hearthstone/nl2code.jsonnet', '', 'val', infer_path)\n",
    "        all_metrics.append((exp_name, step, metrics))\n",
    "        metric_types.update(metrics.keys())\n",
    "    print(d)\n",
    "    \n",
    "metric_types = tuple(sorted(metric_types))\n",
    "flat_df = pd.DataFrame(\n",
    "    [(exp_name, step) + tuple(metrics.get(t) for t in metric_types) for exp_name, step, metrics in all_metrics],\n",
    "    columns=('exp_name', 'step') + metric_types)"
   ]
  },
  {
   "cell_type": "code",
   "execution_count": 7,
   "metadata": {},
   "outputs": [
    {
     "data": {
      "text/html": [
       "<div>\n",
       "<style scoped>\n",
       "    .dataframe tbody tr th:only-of-type {\n",
       "        vertical-align: middle;\n",
       "    }\n",
       "\n",
       "    .dataframe tbody tr th {\n",
       "        vertical-align: top;\n",
       "    }\n",
       "\n",
       "    .dataframe thead th {\n",
       "        text-align: right;\n",
       "    }\n",
       "</style>\n",
       "<table border=\"1\" class=\"dataframe\">\n",
       "  <thead>\n",
       "    <tr style=\"text-align: right;\">\n",
       "      <th></th>\n",
       "      <th>exp_name</th>\n",
       "      <th>step</th>\n",
       "      <th>corpus BLEU</th>\n",
       "      <th>exact match</th>\n",
       "      <th>sentence BLEU</th>\n",
       "    </tr>\n",
       "  </thead>\n",
       "  <tbody>\n",
       "    <tr>\n",
       "      <th>17</th>\n",
       "      <td>filt-contains-hole_st-cov-examples_nt-10</td>\n",
       "      <td>1400</td>\n",
       "      <td>0.762570</td>\n",
       "      <td>0.151515</td>\n",
       "      <td>0.776417</td>\n",
       "    </tr>\n",
       "    <tr>\n",
       "      <th>27</th>\n",
       "      <td>filt-contains-hole_st-cov-examples_nt-20</td>\n",
       "      <td>2400</td>\n",
       "      <td>0.706141</td>\n",
       "      <td>0.090909</td>\n",
       "      <td>0.704459</td>\n",
       "    </tr>\n",
       "    <tr>\n",
       "      <th>56</th>\n",
       "      <td>filt-contains-hole_st-cov-examples_nt-40</td>\n",
       "      <td>2500</td>\n",
       "      <td>0.732747</td>\n",
       "      <td>0.166667</td>\n",
       "      <td>0.758392</td>\n",
       "    </tr>\n",
       "    <tr>\n",
       "      <th>80</th>\n",
       "      <td>filt-contains-hole_st-cov-examples_nt-80</td>\n",
       "      <td>2200</td>\n",
       "      <td>0.756422</td>\n",
       "      <td>0.196970</td>\n",
       "      <td>0.776508</td>\n",
       "    </tr>\n",
       "    <tr>\n",
       "      <th>118</th>\n",
       "      <td>filt-contains-hole_st-cov-xent_nt-10</td>\n",
       "      <td>2100</td>\n",
       "      <td>0.768508</td>\n",
       "      <td>0.151515</td>\n",
       "      <td>0.780367</td>\n",
       "    </tr>\n",
       "    <tr>\n",
       "      <th>143</th>\n",
       "      <td>filt-contains-hole_st-cov-xent_nt-20</td>\n",
       "      <td>2100</td>\n",
       "      <td>0.767917</td>\n",
       "      <td>0.166667</td>\n",
       "      <td>0.776129</td>\n",
       "    </tr>\n",
       "    <tr>\n",
       "      <th>168</th>\n",
       "      <td>filt-contains-hole_st-cov-xent_nt-40</td>\n",
       "      <td>2100</td>\n",
       "      <td>0.769610</td>\n",
       "      <td>0.181818</td>\n",
       "      <td>0.768441</td>\n",
       "    </tr>\n",
       "    <tr>\n",
       "      <th>177</th>\n",
       "      <td>filt-contains-hole_st-cov-xent_nt-80</td>\n",
       "      <td>2400</td>\n",
       "      <td>0.762490</td>\n",
       "      <td>0.151515</td>\n",
       "      <td>0.750810</td>\n",
       "    </tr>\n",
       "    <tr>\n",
       "      <th>208</th>\n",
       "      <td>filt-none_st-cov-examples_nt-10</td>\n",
       "      <td>2300</td>\n",
       "      <td>0.732471</td>\n",
       "      <td>0.151515</td>\n",
       "      <td>0.740296</td>\n",
       "    </tr>\n",
       "    <tr>\n",
       "      <th>227</th>\n",
       "      <td>filt-none_st-cov-examples_nt-20</td>\n",
       "      <td>2400</td>\n",
       "      <td>0.771503</td>\n",
       "      <td>0.181818</td>\n",
       "      <td>0.783085</td>\n",
       "    </tr>\n",
       "    <tr>\n",
       "      <th>256</th>\n",
       "      <td>filt-none_st-cov-examples_nt-40</td>\n",
       "      <td>2500</td>\n",
       "      <td>0.751204</td>\n",
       "      <td>0.151515</td>\n",
       "      <td>0.767154</td>\n",
       "    </tr>\n",
       "    <tr>\n",
       "      <th>293</th>\n",
       "      <td>filt-none_st-cov-examples_nt-80</td>\n",
       "      <td>2100</td>\n",
       "      <td>0.761434</td>\n",
       "      <td>0.166667</td>\n",
       "      <td>0.773992</td>\n",
       "    </tr>\n",
       "    <tr>\n",
       "      <th>302</th>\n",
       "      <td>filt-none_st-cov-xent_nt-10</td>\n",
       "      <td>2400</td>\n",
       "      <td>0.771454</td>\n",
       "      <td>0.181818</td>\n",
       "      <td>0.763132</td>\n",
       "    </tr>\n",
       "    <tr>\n",
       "      <th>327</th>\n",
       "      <td>filt-none_st-cov-xent_nt-20</td>\n",
       "      <td>2400</td>\n",
       "      <td>0.768866</td>\n",
       "      <td>0.136364</td>\n",
       "      <td>0.767251</td>\n",
       "    </tr>\n",
       "    <tr>\n",
       "      <th>359</th>\n",
       "      <td>filt-none_st-cov-xent_nt-40</td>\n",
       "      <td>2000</td>\n",
       "      <td>0.741329</td>\n",
       "      <td>0.166667</td>\n",
       "      <td>0.769075</td>\n",
       "    </tr>\n",
       "    <tr>\n",
       "      <th>377</th>\n",
       "      <td>filt-none_st-cov-xent_nt-80</td>\n",
       "      <td>2400</td>\n",
       "      <td>0.758239</td>\n",
       "      <td>0.181818</td>\n",
       "      <td>0.754492</td>\n",
       "    </tr>\n",
       "  </tbody>\n",
       "</table>\n",
       "</div>"
      ],
      "text/plain": [
       "                                     exp_name  step  corpus BLEU  exact match  \\\n",
       "17   filt-contains-hole_st-cov-examples_nt-10  1400     0.762570     0.151515   \n",
       "27   filt-contains-hole_st-cov-examples_nt-20  2400     0.706141     0.090909   \n",
       "56   filt-contains-hole_st-cov-examples_nt-40  2500     0.732747     0.166667   \n",
       "80   filt-contains-hole_st-cov-examples_nt-80  2200     0.756422     0.196970   \n",
       "118      filt-contains-hole_st-cov-xent_nt-10  2100     0.768508     0.151515   \n",
       "143      filt-contains-hole_st-cov-xent_nt-20  2100     0.767917     0.166667   \n",
       "168      filt-contains-hole_st-cov-xent_nt-40  2100     0.769610     0.181818   \n",
       "177      filt-contains-hole_st-cov-xent_nt-80  2400     0.762490     0.151515   \n",
       "208           filt-none_st-cov-examples_nt-10  2300     0.732471     0.151515   \n",
       "227           filt-none_st-cov-examples_nt-20  2400     0.771503     0.181818   \n",
       "256           filt-none_st-cov-examples_nt-40  2500     0.751204     0.151515   \n",
       "293           filt-none_st-cov-examples_nt-80  2100     0.761434     0.166667   \n",
       "302               filt-none_st-cov-xent_nt-10  2400     0.771454     0.181818   \n",
       "327               filt-none_st-cov-xent_nt-20  2400     0.768866     0.136364   \n",
       "359               filt-none_st-cov-xent_nt-40  2000     0.741329     0.166667   \n",
       "377               filt-none_st-cov-xent_nt-80  2400     0.758239     0.181818   \n",
       "\n",
       "     sentence BLEU  \n",
       "17        0.776417  \n",
       "27        0.704459  \n",
       "56        0.758392  \n",
       "80        0.776508  \n",
       "118       0.780367  \n",
       "143       0.776129  \n",
       "168       0.768441  \n",
       "177       0.750810  \n",
       "208       0.740296  \n",
       "227       0.783085  \n",
       "256       0.767154  \n",
       "293       0.773992  \n",
       "302       0.763132  \n",
       "327       0.767251  \n",
       "359       0.769075  \n",
       "377       0.754492  "
      ]
     },
     "execution_count": 7,
     "metadata": {},
     "output_type": "execute_result"
    }
   ],
   "source": [
    "flat_df.loc[flat_df.groupby('exp_name')['exact match'].idxmax()]"
   ]
  },
  {
   "cell_type": "code",
   "execution_count": 8,
   "metadata": {},
   "outputs": [
    {
     "data": {
      "text/html": [
       "<div>\n",
       "<style scoped>\n",
       "    .dataframe tbody tr th:only-of-type {\n",
       "        vertical-align: middle;\n",
       "    }\n",
       "\n",
       "    .dataframe tbody tr th {\n",
       "        vertical-align: top;\n",
       "    }\n",
       "\n",
       "    .dataframe thead th {\n",
       "        text-align: right;\n",
       "    }\n",
       "</style>\n",
       "<table border=\"1\" class=\"dataframe\">\n",
       "  <thead>\n",
       "    <tr style=\"text-align: right;\">\n",
       "      <th></th>\n",
       "      <th>exp_name</th>\n",
       "      <th>step</th>\n",
       "      <th>corpus BLEU</th>\n",
       "      <th>exact match</th>\n",
       "      <th>sentence BLEU</th>\n",
       "    </tr>\n",
       "  </thead>\n",
       "  <tbody>\n",
       "    <tr>\n",
       "      <th>6</th>\n",
       "      <td>filt-contains-hole_st-cov-examples_nt-10</td>\n",
       "      <td>2500</td>\n",
       "      <td>0.785207</td>\n",
       "      <td>0.106061</td>\n",
       "      <td>0.780821</td>\n",
       "    </tr>\n",
       "    <tr>\n",
       "      <th>34</th>\n",
       "      <td>filt-contains-hole_st-cov-examples_nt-20</td>\n",
       "      <td>2000</td>\n",
       "      <td>0.746716</td>\n",
       "      <td>0.075758</td>\n",
       "      <td>0.736189</td>\n",
       "    </tr>\n",
       "    <tr>\n",
       "      <th>59</th>\n",
       "      <td>filt-contains-hole_st-cov-examples_nt-40</td>\n",
       "      <td>2000</td>\n",
       "      <td>0.764626</td>\n",
       "      <td>0.106061</td>\n",
       "      <td>0.769131</td>\n",
       "    </tr>\n",
       "    <tr>\n",
       "      <th>81</th>\n",
       "      <td>filt-contains-hole_st-cov-examples_nt-80</td>\n",
       "      <td>2500</td>\n",
       "      <td>0.774179</td>\n",
       "      <td>0.166667</td>\n",
       "      <td>0.780344</td>\n",
       "    </tr>\n",
       "    <tr>\n",
       "      <th>108</th>\n",
       "      <td>filt-contains-hole_st-cov-xent_nt-10</td>\n",
       "      <td>2300</td>\n",
       "      <td>0.783270</td>\n",
       "      <td>0.121212</td>\n",
       "      <td>0.764812</td>\n",
       "    </tr>\n",
       "    <tr>\n",
       "      <th>130</th>\n",
       "      <td>filt-contains-hole_st-cov-xent_nt-20</td>\n",
       "      <td>2200</td>\n",
       "      <td>0.782329</td>\n",
       "      <td>0.136364</td>\n",
       "      <td>0.778930</td>\n",
       "    </tr>\n",
       "    <tr>\n",
       "      <th>168</th>\n",
       "      <td>filt-contains-hole_st-cov-xent_nt-40</td>\n",
       "      <td>2100</td>\n",
       "      <td>0.769610</td>\n",
       "      <td>0.181818</td>\n",
       "      <td>0.768441</td>\n",
       "    </tr>\n",
       "    <tr>\n",
       "      <th>193</th>\n",
       "      <td>filt-contains-hole_st-cov-xent_nt-80</td>\n",
       "      <td>2100</td>\n",
       "      <td>0.764970</td>\n",
       "      <td>0.136364</td>\n",
       "      <td>0.751688</td>\n",
       "    </tr>\n",
       "    <tr>\n",
       "      <th>205</th>\n",
       "      <td>filt-none_st-cov-examples_nt-10</td>\n",
       "      <td>2200</td>\n",
       "      <td>0.762103</td>\n",
       "      <td>0.090909</td>\n",
       "      <td>0.743000</td>\n",
       "    </tr>\n",
       "    <tr>\n",
       "      <th>231</th>\n",
       "      <td>filt-none_st-cov-examples_nt-20</td>\n",
       "      <td>2500</td>\n",
       "      <td>0.782529</td>\n",
       "      <td>0.151515</td>\n",
       "      <td>0.762898</td>\n",
       "    </tr>\n",
       "    <tr>\n",
       "      <th>268</th>\n",
       "      <td>filt-none_st-cov-examples_nt-40</td>\n",
       "      <td>2100</td>\n",
       "      <td>0.767164</td>\n",
       "      <td>0.121212</td>\n",
       "      <td>0.760053</td>\n",
       "    </tr>\n",
       "    <tr>\n",
       "      <th>277</th>\n",
       "      <td>filt-none_st-cov-examples_nt-80</td>\n",
       "      <td>2400</td>\n",
       "      <td>0.765723</td>\n",
       "      <td>0.151515</td>\n",
       "      <td>0.775569</td>\n",
       "    </tr>\n",
       "    <tr>\n",
       "      <th>308</th>\n",
       "      <td>filt-none_st-cov-xent_nt-10</td>\n",
       "      <td>2300</td>\n",
       "      <td>0.785476</td>\n",
       "      <td>0.151515</td>\n",
       "      <td>0.773789</td>\n",
       "    </tr>\n",
       "    <tr>\n",
       "      <th>327</th>\n",
       "      <td>filt-none_st-cov-xent_nt-20</td>\n",
       "      <td>2400</td>\n",
       "      <td>0.768866</td>\n",
       "      <td>0.136364</td>\n",
       "      <td>0.767251</td>\n",
       "    </tr>\n",
       "    <tr>\n",
       "      <th>370</th>\n",
       "      <td>filt-none_st-cov-xent_nt-40</td>\n",
       "      <td>1600</td>\n",
       "      <td>0.773816</td>\n",
       "      <td>0.151515</td>\n",
       "      <td>0.766810</td>\n",
       "    </tr>\n",
       "    <tr>\n",
       "      <th>395</th>\n",
       "      <td>filt-none_st-cov-xent_nt-80</td>\n",
       "      <td>1600</td>\n",
       "      <td>0.771135</td>\n",
       "      <td>0.090909</td>\n",
       "      <td>0.753925</td>\n",
       "    </tr>\n",
       "  </tbody>\n",
       "</table>\n",
       "</div>"
      ],
      "text/plain": [
       "                                     exp_name  step  corpus BLEU  exact match  \\\n",
       "6    filt-contains-hole_st-cov-examples_nt-10  2500     0.785207     0.106061   \n",
       "34   filt-contains-hole_st-cov-examples_nt-20  2000     0.746716     0.075758   \n",
       "59   filt-contains-hole_st-cov-examples_nt-40  2000     0.764626     0.106061   \n",
       "81   filt-contains-hole_st-cov-examples_nt-80  2500     0.774179     0.166667   \n",
       "108      filt-contains-hole_st-cov-xent_nt-10  2300     0.783270     0.121212   \n",
       "130      filt-contains-hole_st-cov-xent_nt-20  2200     0.782329     0.136364   \n",
       "168      filt-contains-hole_st-cov-xent_nt-40  2100     0.769610     0.181818   \n",
       "193      filt-contains-hole_st-cov-xent_nt-80  2100     0.764970     0.136364   \n",
       "205           filt-none_st-cov-examples_nt-10  2200     0.762103     0.090909   \n",
       "231           filt-none_st-cov-examples_nt-20  2500     0.782529     0.151515   \n",
       "268           filt-none_st-cov-examples_nt-40  2100     0.767164     0.121212   \n",
       "277           filt-none_st-cov-examples_nt-80  2400     0.765723     0.151515   \n",
       "308               filt-none_st-cov-xent_nt-10  2300     0.785476     0.151515   \n",
       "327               filt-none_st-cov-xent_nt-20  2400     0.768866     0.136364   \n",
       "370               filt-none_st-cov-xent_nt-40  1600     0.773816     0.151515   \n",
       "395               filt-none_st-cov-xent_nt-80  1600     0.771135     0.090909   \n",
       "\n",
       "     sentence BLEU  \n",
       "6         0.780821  \n",
       "34        0.736189  \n",
       "59        0.769131  \n",
       "81        0.780344  \n",
       "108       0.764812  \n",
       "130       0.778930  \n",
       "168       0.768441  \n",
       "193       0.751688  \n",
       "205       0.743000  \n",
       "231       0.762898  \n",
       "268       0.760053  \n",
       "277       0.775569  \n",
       "308       0.773789  \n",
       "327       0.767251  \n",
       "370       0.766810  \n",
       "395       0.753925  "
      ]
     },
     "execution_count": 8,
     "metadata": {},
     "output_type": "execute_result"
    }
   ],
   "source": [
    "flat_df.loc[flat_df.groupby('exp_name')['corpus BLEU'].idxmax()]"
   ]
  },
  {
   "cell_type": "markdown",
   "metadata": {},
   "source": [
    "# Corpus BLEU"
   ]
  },
  {
   "cell_type": "code",
   "execution_count": 11,
   "metadata": {
    "scrolled": true
   },
   "outputs": [
    {
     "data": {
      "text/html": [
       "<div>\n",
       "<style scoped>\n",
       "    .dataframe tbody tr th:only-of-type {\n",
       "        vertical-align: middle;\n",
       "    }\n",
       "\n",
       "    .dataframe tbody tr th {\n",
       "        vertical-align: top;\n",
       "    }\n",
       "\n",
       "    .dataframe thead th {\n",
       "        text-align: right;\n",
       "    }\n",
       "</style>\n",
       "<table border=\"1\" class=\"dataframe\">\n",
       "  <thead>\n",
       "    <tr style=\"text-align: right;\">\n",
       "      <th></th>\n",
       "      <th>exp_name</th>\n",
       "      <th>step</th>\n",
       "      <th>corpus BLEU</th>\n",
       "      <th>exact match</th>\n",
       "      <th>sentence BLEU</th>\n",
       "    </tr>\n",
       "  </thead>\n",
       "  <tbody>\n",
       "    <tr>\n",
       "      <th>308</th>\n",
       "      <td>filt-none_st-cov-xent_nt-10</td>\n",
       "      <td>2300</td>\n",
       "      <td>0.785476</td>\n",
       "      <td>0.151515</td>\n",
       "      <td>0.773789</td>\n",
       "    </tr>\n",
       "  </tbody>\n",
       "</table>\n",
       "</div>"
      ],
      "text/plain": [
       "                        exp_name  step  corpus BLEU  exact match  \\\n",
       "308  filt-none_st-cov-xent_nt-10  2300     0.785476     0.151515   \n",
       "\n",
       "     sentence BLEU  \n",
       "308       0.773789  "
      ]
     },
     "execution_count": 11,
     "metadata": {},
     "output_type": "execute_result"
    }
   ],
   "source": [
    "flat_df[flat_df['corpus BLEU'] == flat_df['corpus BLEU'].max()]"
   ]
  },
  {
   "cell_type": "code",
   "execution_count": 12,
   "metadata": {},
   "outputs": [
    {
     "name": "stdout",
     "output_type": "stream",
     "text": [
      "WARNING <class 'seq2struct.models.enc_dec.EncDecModel.Preproc'>: superfluous {'name': 'EncDec'}\n",
      "WARNING <class 'seq2struct.models.enc_dec.EncDecModel'>: superfluous {'encoder_preproc': {'max_count': 5000, 'save_path': 'data/hearthstone-idioms-20190201/all-matches-trees-anysplit/filt-none_st-cov-xent_nt-10/nl2code/', 'min_freq': 3}, 'decoder_preproc': {'max_count': 5000, 'save_path': 'data/hearthstone-idioms-20190201/all-matches-trees-anysplit/filt-none_st-cov-xent_nt-10/nl2code/', 'min_freq': 3, 'use_seq_elem_rules': True, 'grammar': {'name': 'idiom_ast', 'template_file': 'data/hearthstone-idioms-20190201/all-matches-trees-anysplit/filt-none_st-cov-xent_nt-10/templates.json', 'all_sections_rewritten': True, 'base_grammar': {'name': 'python'}}}}\n",
      "Loading model from logdirs/20190201-hs-allmatches-anysplit-multimean/filt-none_st-cov-xent_nt-10/model_checkpoint-00002300\n",
      "100%|███████████████████████████████████████████| 66/66 [00:39<00:00,  1.67it/s]\n"
     ]
    }
   ],
   "source": [
    "# Beam size 1\n",
    "!CUDA_VISIBLE_DEVICES= python infer.py --config configs/hearthstone-idioms/nl2code-0201-allmatches-anysplit-multimean.jsonnet --logdir logdirs/20190201-hs-allmatches-anysplit-multimean/filt-none_st-cov-xent_nt-10 --config-args \"{filt: 'none', st: 'cov-xent', nt: 10}\" --output __LOGDIR__/infer-test-20191031-step02300-bs1.jsonl --step 2300 --section test --beam-size 1"
   ]
  },
  {
   "cell_type": "code",
   "execution_count": 13,
   "metadata": {},
   "outputs": [
    {
     "data": {
      "text/plain": [
       "OrderedDict([('exact match', 0.10606060606060606),\n",
       "             ('sentence BLEU', 0.7434579505376531),\n",
       "             ('corpus BLEU', 0.7480294254902261)])"
      ]
     },
     "execution_count": 13,
     "metadata": {},
     "output_type": "execute_result"
    }
   ],
   "source": [
    "_, metrics = evaluation.compute_metrics(\n",
    "    'configs/hearthstone/nl2code.jsonnet', '', 'test', \n",
    "    'logdirs/20190201-hs-allmatches-anysplit-multimean/filt-none_st-cov-xent_nt-10/infer-test-20191031-step02300-bs1.jsonl')\n",
    "metrics"
   ]
  },
  {
   "cell_type": "markdown",
   "metadata": {},
   "source": [
    "# Sentence BLEU"
   ]
  },
  {
   "cell_type": "code",
   "execution_count": 14,
   "metadata": {},
   "outputs": [
    {
     "data": {
      "text/html": [
       "<div>\n",
       "<style scoped>\n",
       "    .dataframe tbody tr th:only-of-type {\n",
       "        vertical-align: middle;\n",
       "    }\n",
       "\n",
       "    .dataframe tbody tr th {\n",
       "        vertical-align: top;\n",
       "    }\n",
       "\n",
       "    .dataframe thead th {\n",
       "        text-align: right;\n",
       "    }\n",
       "</style>\n",
       "<table border=\"1\" class=\"dataframe\">\n",
       "  <thead>\n",
       "    <tr style=\"text-align: right;\">\n",
       "      <th></th>\n",
       "      <th>exp_name</th>\n",
       "      <th>step</th>\n",
       "      <th>corpus BLEU</th>\n",
       "      <th>exact match</th>\n",
       "      <th>sentence BLEU</th>\n",
       "    </tr>\n",
       "  </thead>\n",
       "  <tbody>\n",
       "    <tr>\n",
       "      <th>230</th>\n",
       "      <td>filt-none_st-cov-examples_nt-20</td>\n",
       "      <td>2200</td>\n",
       "      <td>0.780836</td>\n",
       "      <td>0.166667</td>\n",
       "      <td>0.787985</td>\n",
       "    </tr>\n",
       "  </tbody>\n",
       "</table>\n",
       "</div>"
      ],
      "text/plain": [
       "                            exp_name  step  corpus BLEU  exact match  \\\n",
       "230  filt-none_st-cov-examples_nt-20  2200     0.780836     0.166667   \n",
       "\n",
       "     sentence BLEU  \n",
       "230       0.787985  "
      ]
     },
     "execution_count": 14,
     "metadata": {},
     "output_type": "execute_result"
    }
   ],
   "source": [
    "flat_df[flat_df['sentence BLEU'] == flat_df['sentence BLEU'].max()]"
   ]
  },
  {
   "cell_type": "code",
   "execution_count": 15,
   "metadata": {},
   "outputs": [
    {
     "name": "stdout",
     "output_type": "stream",
     "text": [
      "WARNING <class 'seq2struct.models.enc_dec.EncDecModel.Preproc'>: superfluous {'name': 'EncDec'}\n",
      "WARNING <class 'seq2struct.models.enc_dec.EncDecModel'>: superfluous {'decoder_preproc': {'grammar': {'base_grammar': {'name': 'python'}, 'all_sections_rewritten': True, 'name': 'idiom_ast', 'template_file': 'data/hearthstone-idioms-20190201/all-matches-trees-anysplit/filt-none_st-cov-examples_nt-20/templates.json'}, 'max_count': 5000, 'min_freq': 3, 'save_path': 'data/hearthstone-idioms-20190201/all-matches-trees-anysplit/filt-none_st-cov-examples_nt-20/nl2code/', 'use_seq_elem_rules': True}, 'encoder_preproc': {'min_freq': 3, 'max_count': 5000, 'save_path': 'data/hearthstone-idioms-20190201/all-matches-trees-anysplit/filt-none_st-cov-examples_nt-20/nl2code/'}}\n",
      "Loading model from logdirs/20190201-hs-allmatches-anysplit-multimean/filt-none_st-cov-examples_nt-20/model_checkpoint-00002200\n",
      "100%|███████████████████████████████████████████| 66/66 [00:38<00:00,  1.72it/s]\n"
     ]
    }
   ],
   "source": [
    "# Beam size 1\n",
    "!CUDA_VISIBLE_DEVICES= python infer.py --config configs/hearthstone-idioms/nl2code-0201-allmatches-anysplit-multimean.jsonnet --logdir logdirs/20190201-hs-allmatches-anysplit-multimean/filt-none_st-cov-examples_nt-20 --config-args \"{filt: 'none', st: 'cov-examples', nt: 20}\" --output __LOGDIR__/infer-test-20191031-step02200-bs1.jsonl --step 2200 --section test --beam-size 1"
   ]
  },
  {
   "cell_type": "code",
   "execution_count": 16,
   "metadata": {},
   "outputs": [
    {
     "data": {
      "text/plain": [
       "OrderedDict([('exact match', 0.16666666666666666),\n",
       "             ('sentence BLEU', 0.7704923228057051),\n",
       "             ('corpus BLEU', 0.7499172018537875)])"
      ]
     },
     "execution_count": 16,
     "metadata": {},
     "output_type": "execute_result"
    }
   ],
   "source": [
    "_, metrics = evaluation.compute_metrics(\n",
    "    'configs/hearthstone/nl2code.jsonnet', '', 'test', \n",
    "    'logdirs/20190201-hs-allmatches-anysplit-multimean/filt-none_st-cov-examples_nt-20/infer-test-20191031-step02200-bs1.jsonl')\n",
    "metrics"
   ]
  },
  {
   "cell_type": "markdown",
   "metadata": {},
   "source": [
    "# Exact match"
   ]
  },
  {
   "cell_type": "code",
   "execution_count": 17,
   "metadata": {},
   "outputs": [
    {
     "data": {
      "text/html": [
       "<div>\n",
       "<style scoped>\n",
       "    .dataframe tbody tr th:only-of-type {\n",
       "        vertical-align: middle;\n",
       "    }\n",
       "\n",
       "    .dataframe tbody tr th {\n",
       "        vertical-align: top;\n",
       "    }\n",
       "\n",
       "    .dataframe thead th {\n",
       "        text-align: right;\n",
       "    }\n",
       "</style>\n",
       "<table border=\"1\" class=\"dataframe\">\n",
       "  <thead>\n",
       "    <tr style=\"text-align: right;\">\n",
       "      <th></th>\n",
       "      <th>exp_name</th>\n",
       "      <th>step</th>\n",
       "      <th>corpus BLEU</th>\n",
       "      <th>exact match</th>\n",
       "      <th>sentence BLEU</th>\n",
       "    </tr>\n",
       "  </thead>\n",
       "  <tbody>\n",
       "    <tr>\n",
       "      <th>80</th>\n",
       "      <td>filt-contains-hole_st-cov-examples_nt-80</td>\n",
       "      <td>2200</td>\n",
       "      <td>0.756422</td>\n",
       "      <td>0.19697</td>\n",
       "      <td>0.776508</td>\n",
       "    </tr>\n",
       "  </tbody>\n",
       "</table>\n",
       "</div>"
      ],
      "text/plain": [
       "                                    exp_name  step  corpus BLEU  exact match  \\\n",
       "80  filt-contains-hole_st-cov-examples_nt-80  2200     0.756422      0.19697   \n",
       "\n",
       "    sentence BLEU  \n",
       "80       0.776508  "
      ]
     },
     "execution_count": 17,
     "metadata": {},
     "output_type": "execute_result"
    }
   ],
   "source": [
    "flat_df[flat_df['exact match'] == flat_df['exact match'].max()]"
   ]
  },
  {
   "cell_type": "code",
   "execution_count": 18,
   "metadata": {},
   "outputs": [
    {
     "name": "stdout",
     "output_type": "stream",
     "text": [
      "WARNING <class 'seq2struct.models.enc_dec.EncDecModel.Preproc'>: superfluous {'name': 'EncDec'}\n",
      "WARNING <class 'seq2struct.models.enc_dec.EncDecModel'>: superfluous {'decoder_preproc': {'save_path': 'data/hearthstone-idioms-20190201/all-matches-trees-anysplit/filt-contains-hole_st-cov-examples_nt-80/nl2code/', 'min_freq': 3, 'grammar': {'template_file': 'data/hearthstone-idioms-20190201/all-matches-trees-anysplit/filt-contains-hole_st-cov-examples_nt-80/templates.json', 'all_sections_rewritten': True, 'base_grammar': {'name': 'python'}, 'name': 'idiom_ast'}, 'max_count': 5000, 'use_seq_elem_rules': True}, 'encoder_preproc': {'save_path': 'data/hearthstone-idioms-20190201/all-matches-trees-anysplit/filt-contains-hole_st-cov-examples_nt-80/nl2code/', 'min_freq': 3, 'max_count': 5000}}\n",
      "Loading model from logdirs/20190201-hs-allmatches-anysplit-multimean/filt-contains-hole_st-cov-examples_nt-80/model_checkpoint-00002200\n",
      "100%|███████████████████████████████████████████| 66/66 [00:40<00:00,  1.64it/s]\n"
     ]
    }
   ],
   "source": [
    "# Beam size 1\n",
    "!CUDA_VISIBLE_DEVICES= python infer.py --config configs/hearthstone-idioms/nl2code-0201-allmatches-anysplit-multimean.jsonnet --logdir logdirs/20190201-hs-allmatches-anysplit-multimean/filt-contains-hole_st-cov-examples_nt-80 --config-args \"{filt: 'contains-hole', st: 'cov-examples', nt: 80}\" --output __LOGDIR__/infer-test-20191031-step02200-bs1.jsonl --step 2200 --section test --beam-size 1"
   ]
  },
  {
   "cell_type": "code",
   "execution_count": 19,
   "metadata": {},
   "outputs": [
    {
     "data": {
      "text/plain": [
       "OrderedDict([('exact match', 0.18181818181818182),\n",
       "             ('sentence BLEU', 0.7733655603184775),\n",
       "             ('corpus BLEU', 0.7645024526553997)])"
      ]
     },
     "execution_count": 19,
     "metadata": {},
     "output_type": "execute_result"
    }
   ],
   "source": [
    "_, metrics = evaluation.compute_metrics(\n",
    "    'configs/hearthstone/nl2code.jsonnet', '', 'test', \n",
    "    'logdirs/20190201-hs-allmatches-anysplit-multimean/filt-contains-hole_st-cov-examples_nt-80/infer-test-20191031-step02200-bs1.jsonl')\n",
    "metrics"
   ]
  },
  {
   "cell_type": "markdown",
   "metadata": {},
   "source": [
    "# Compare against baseline"
   ]
  },
  {
   "cell_type": "code",
   "execution_count": 33,
   "metadata": {},
   "outputs": [
    {
     "name": "stdout",
     "output_type": "stream",
     "text": [
      "logdirs/20181231-nl2code-hearthstone-fef2c5b/att0\n",
      "logdirs/20181231-nl2code-hearthstone-fef2c5b/att1\n"
     ]
    }
   ],
   "source": [
    "accuracy_per_run = collections.defaultdict(dict)\n",
    "all_metrics = []\n",
    "metric_types = set()\n",
    "rows = []\n",
    "for d in sorted(glob.glob('logdirs/20181231-nl2code-hearthstone-fef2c5b//*')):\n",
    "    exp_name = os.path.basename(d)\n",
    "    exp_vars = re.match('att([^_]+)', exp_name).groups()\n",
    "\n",
    "    infer_paths = glob.glob(os.path.join(d, 'infer-val-step*-bs1.jsonl'))\n",
    "    all_scores = []\n",
    "    for infer_path in infer_paths:\n",
    "        step = int(re.search('step(\\d+)', infer_path).group(1))\n",
    "        _, metrics = evaluation.compute_metrics(\n",
    "            'configs/hearthstone/nl2code.jsonnet', '', 'val', infer_path)\n",
    "        all_scores.append((step, metrics['exact match']))\n",
    "        all_metrics.append((exp_name, step, metrics))\n",
    "        metric_types.update(metrics.keys())\n",
    "    \n",
    "    all_scores.sort(key=operator.itemgetter(0))\n",
    "    sorted_scores = sorted(all_scores, reverse=True, key=operator.itemgetter(1))\n",
    "    rows.append(exp_vars + (len(all_scores),) + (sorted_scores[0] if sorted_scores else (-1, -1)))\n",
    "    accuracy_per_run[exp_name] = {\n",
    "        'x': [s[0] for s in all_scores],\n",
    "        'all': [s[1] for s in all_scores],\n",
    "    }\n",
    "    print(d)\n",
    "    \n",
    "metric_types = tuple(sorted(metric_types))\n",
    "df = pd.DataFrame(rows, columns=('att', 'num steps eval', 'step', 'exact match'))\n",
    "flat_df = pd.DataFrame(\n",
    "    [(exp_name, step) + tuple(metrics.get(t) for t in metric_types) for exp_name, step, metrics in all_metrics],\n",
    "    columns=('exp_name', 'step') + metric_types)"
   ]
  },
  {
   "cell_type": "code",
   "execution_count": 38,
   "metadata": {},
   "outputs": [
    {
     "data": {
      "text/html": [
       "<div>\n",
       "<style scoped>\n",
       "    .dataframe tbody tr th:only-of-type {\n",
       "        vertical-align: middle;\n",
       "    }\n",
       "\n",
       "    .dataframe tbody tr th {\n",
       "        vertical-align: top;\n",
       "    }\n",
       "\n",
       "    .dataframe thead th {\n",
       "        text-align: right;\n",
       "    }\n",
       "</style>\n",
       "<table border=\"1\" class=\"dataframe\">\n",
       "  <thead>\n",
       "    <tr style=\"text-align: right;\">\n",
       "      <th></th>\n",
       "      <th>att</th>\n",
       "      <th>num steps eval</th>\n",
       "      <th>step</th>\n",
       "      <th>exact match</th>\n",
       "    </tr>\n",
       "  </thead>\n",
       "  <tbody>\n",
       "    <tr>\n",
       "      <th>0</th>\n",
       "      <td>0</td>\n",
       "      <td>25</td>\n",
       "      <td>1900</td>\n",
       "      <td>0.166667</td>\n",
       "    </tr>\n",
       "    <tr>\n",
       "      <th>1</th>\n",
       "      <td>1</td>\n",
       "      <td>25</td>\n",
       "      <td>2300</td>\n",
       "      <td>0.196970</td>\n",
       "    </tr>\n",
       "  </tbody>\n",
       "</table>\n",
       "</div>"
      ],
      "text/plain": [
       "  att  num steps eval  step  exact match\n",
       "0   0              25  1900     0.166667\n",
       "1   1              25  2300     0.196970"
      ]
     },
     "execution_count": 38,
     "metadata": {},
     "output_type": "execute_result"
    }
   ],
   "source": [
    "df"
   ]
  },
  {
   "cell_type": "markdown",
   "metadata": {},
   "source": [
    "## Corpus BLEU"
   ]
  },
  {
   "cell_type": "code",
   "execution_count": 35,
   "metadata": {},
   "outputs": [
    {
     "data": {
      "text/plain": [
       "exp_name             att1\n",
       "step                 1900\n",
       "corpus BLEU      0.789029\n",
       "exact match      0.151515\n",
       "sentence BLEU    0.780316\n",
       "Name: 44, dtype: object"
      ]
     },
     "execution_count": 35,
     "metadata": {},
     "output_type": "execute_result"
    }
   ],
   "source": [
    "flat_df.loc[flat_df['corpus BLEU'].idxmax()]"
   ]
  },
  {
   "cell_type": "code",
   "execution_count": 36,
   "metadata": {},
   "outputs": [
    {
     "name": "stdout",
     "output_type": "stream",
     "text": [
      "WARNING <class 'seq2struct.models.enc_dec.EncDecModel.Preproc'>: superfluous {'name': 'EncDec'}\n",
      "WARNING <class 'seq2struct.models.enc_dec.EncDecModel'>: superfluous {'decoder_preproc': {'grammar': {'name': 'python'}, 'save_path': 'data/hearthstone/nl2code/', 'max_count': 5000, 'min_freq': 3}, 'encoder_preproc': {'max_count': 5000, 'save_path': 'data/hearthstone/nl2code/', 'min_freq': 3}}\n",
      "Loading model from logdirs/20181231-nl2code-hearthstone-fef2c5b/att1/model_checkpoint-00001900\n",
      "100%|███████████████████████████████████████████| 66/66 [00:21<00:00,  3.23it/s]\n"
     ]
    }
   ],
   "source": [
    "!CUDA_VISIBLE_DEVICES= python infer.py --config configs/hearthstone/nl2code.jsonnet --logdir logdirs/20181231-nl2code-hearthstone-fef2c5b/att1 --output __LOGDIR__/infer-test-step01900-bs1.jsonl --step 1900 --section test --beam-size 1"
   ]
  },
  {
   "cell_type": "code",
   "execution_count": 37,
   "metadata": {},
   "outputs": [
    {
     "data": {
      "text/plain": [
       "OrderedDict([('exact match', 0.12121212121212122),\n",
       "             ('sentence BLEU', 0.7242459632152278),\n",
       "             ('corpus BLEU', 0.7335344583509769)])"
      ]
     },
     "execution_count": 37,
     "metadata": {},
     "output_type": "execute_result"
    }
   ],
   "source": [
    "_, metrics = evaluation.compute_metrics(\n",
    "    'configs/hearthstone/nl2code.jsonnet', '', 'test',\n",
    "    'logdirs/20181231-nl2code-hearthstone-fef2c5b/att1/infer-test-step01900-bs1.jsonl')\n",
    "metrics"
   ]
  },
  {
   "cell_type": "markdown",
   "metadata": {},
   "source": [
    "## Sentence BLEU"
   ]
  },
  {
   "cell_type": "code",
   "execution_count": 39,
   "metadata": {},
   "outputs": [
    {
     "data": {
      "text/plain": [
       "exp_name              att0\n",
       "step                  2400\n",
       "corpus BLEU       0.777414\n",
       "exact match      0.0909091\n",
       "sentence BLEU     0.780721\n",
       "Name: 24, dtype: object"
      ]
     },
     "execution_count": 39,
     "metadata": {},
     "output_type": "execute_result"
    }
   ],
   "source": [
    "flat_df.loc[flat_df['sentence BLEU'].idxmax()]"
   ]
  },
  {
   "cell_type": "code",
   "execution_count": 40,
   "metadata": {},
   "outputs": [
    {
     "name": "stdout",
     "output_type": "stream",
     "text": [
      "WARNING <class 'seq2struct.models.enc_dec.EncDecModel.Preproc'>: superfluous {'name': 'EncDec'}\n",
      "WARNING <class 'seq2struct.models.enc_dec.EncDecModel'>: superfluous {'encoder_preproc': {'min_freq': 3, 'save_path': 'data/hearthstone/nl2code/', 'max_count': 5000}, 'decoder_preproc': {'min_freq': 3, 'grammar': {'name': 'python'}, 'save_path': 'data/hearthstone/nl2code/', 'max_count': 5000}}\n",
      "Loading model from logdirs/20181231-nl2code-hearthstone-fef2c5b/att0/model_checkpoint-00002400\n",
      "100%|███████████████████████████████████████████| 66/66 [00:19<00:00,  3.16it/s]\n"
     ]
    }
   ],
   "source": [
    "!CUDA_VISIBLE_DEVICES= python infer.py --config configs/hearthstone/nl2code.jsonnet --logdir logdirs/20181231-nl2code-hearthstone-fef2c5b/att0 --output __LOGDIR__/infer-test-step02400-bs1.jsonl --step 2400 --section test --beam-size 1"
   ]
  },
  {
   "cell_type": "code",
   "execution_count": 41,
   "metadata": {},
   "outputs": [
    {
     "data": {
      "text/plain": [
       "OrderedDict([('exact match', 0.19696969696969696),\n",
       "             ('sentence BLEU', 0.7791194850374037),\n",
       "             ('corpus BLEU', 0.7638435491009413)])"
      ]
     },
     "execution_count": 41,
     "metadata": {},
     "output_type": "execute_result"
    }
   ],
   "source": [
    "_, metrics = evaluation.compute_metrics(\n",
    "    'configs/hearthstone/nl2code.jsonnet', '', 'test',\\\n",
    "    'logdirs/20181231-nl2code-hearthstone-fef2c5b/att0/infer-test-step02400-bs1.jsonl')\n",
    "metrics"
   ]
  },
  {
   "cell_type": "markdown",
   "metadata": {},
   "source": [
    "## Exact match"
   ]
  },
  {
   "cell_type": "code",
   "execution_count": 42,
   "metadata": {},
   "outputs": [
    {
     "data": {
      "text/plain": [
       "exp_name             att1\n",
       "step                 2300\n",
       "corpus BLEU      0.762964\n",
       "exact match       0.19697\n",
       "sentence BLEU    0.766753\n",
       "Name: 37, dtype: object"
      ]
     },
     "execution_count": 42,
     "metadata": {},
     "output_type": "execute_result"
    }
   ],
   "source": [
    "flat_df.loc[flat_df['exact match'].idxmax()]"
   ]
  },
  {
   "cell_type": "code",
   "execution_count": 43,
   "metadata": {},
   "outputs": [
    {
     "name": "stdout",
     "output_type": "stream",
     "text": [
      "WARNING <class 'seq2struct.models.enc_dec.EncDecModel.Preproc'>: superfluous {'name': 'EncDec'}\n",
      "WARNING <class 'seq2struct.models.enc_dec.EncDecModel'>: superfluous {'encoder_preproc': {'max_count': 5000, 'min_freq': 3, 'save_path': 'data/hearthstone/nl2code/'}, 'decoder_preproc': {'max_count': 5000, 'min_freq': 3, 'save_path': 'data/hearthstone/nl2code/', 'grammar': {'name': 'python'}}}\n",
      "Loading model from logdirs/20181231-nl2code-hearthstone-fef2c5b/att1/model_checkpoint-00002300\n",
      "100%|███████████████████████████████████████████| 66/66 [00:19<00:00,  3.89it/s]\n"
     ]
    }
   ],
   "source": [
    "!CUDA_VISIBLE_DEVICES= python infer.py --config configs/hearthstone/nl2code.jsonnet --logdir logdirs/20181231-nl2code-hearthstone-fef2c5b/att1 --output __LOGDIR__/infer-test-step02300-bs1.jsonl --step 2300 --section test --beam-size 1"
   ]
  },
  {
   "cell_type": "code",
   "execution_count": 44,
   "metadata": {},
   "outputs": [
    {
     "data": {
      "text/plain": [
       "OrderedDict([('exact match', 0.15151515151515152),\n",
       "             ('sentence BLEU', 0.7430320121685502),\n",
       "             ('corpus BLEU', 0.7229233074922048)])"
      ]
     },
     "execution_count": 44,
     "metadata": {},
     "output_type": "execute_result"
    }
   ],
   "source": [
    "_, metrics = evaluation.compute_metrics(\n",
    "    'configs/hearthstone/nl2code.jsonnet', '', 'test',\n",
    "    'logdirs/20181231-nl2code-hearthstone-fef2c5b/att1/infer-test-step02300-bs1.jsonl')\n",
    "metrics"
   ]
  },
  {
   "cell_type": "markdown",
   "metadata": {},
   "source": [
    "# Measure idiom popularity"
   ]
  },
  {
   "cell_type": "code",
   "execution_count": 53,
   "metadata": {},
   "outputs": [
    {
     "name": "stdout",
     "output_type": "stream",
     "text": [
      "WARNING <class 'seq2struct.models.enc_dec.EncDecModel.Preproc'>: superfluous {'name': 'EncDec'}\n",
      "WARNING <class 'seq2struct.models.enc_dec.EncDecModel'>: superfluous {'decoder_preproc': {'grammar': {'name': 'idiom_ast', 'base_grammar': {'name': 'python'}, 'all_sections_rewritten': True, 'template_file': 'data/hearthstone-idioms-20190201/all-matches-trees-anysplit/filt-contains-hole_st-cov-examples_nt-80/templates.json'}, 'max_count': 5000, 'min_freq': 3, 'use_seq_elem_rules': True, 'save_path': 'data/hearthstone-idioms-20190201/all-matches-trees-anysplit/filt-contains-hole_st-cov-examples_nt-80/nl2code/'}, 'encoder_preproc': {'save_path': 'data/hearthstone-idioms-20190201/all-matches-trees-anysplit/filt-contains-hole_st-cov-examples_nt-80/nl2code/', 'max_count': 5000, 'min_freq': 3}}\n",
      "Loading model from logdirs/20190201-hs-allmatches-anysplit-multimean/filt-contains-hole_st-cov-examples_nt-80/model_checkpoint-00002200\n",
      "100%|███████████████████████████████████████████| 66/66 [00:19<00:00,  3.17it/s]\n"
     ]
    }
   ],
   "source": [
    "!CUDA_VISIBLE_DEVICES= python infer.py \\\n",
    "    --config configs/hearthstone-idioms/nl2code-0201-allmatches-anysplit-multimean.jsonnet \\\n",
    "    --logdir logdirs/20190201-hs-allmatches-anysplit-multimean/filt-contains-hole_st-cov-examples_nt-80 \\\n",
    "    --config-args \"{filt: 'contains-hole', st: 'cov-examples', nt: 80}\" \\\n",
    "    --output-history \\\n",
    "    --output __LOGDIR__/infer-test-step02200-bs1-with-history.jsonl --step 2200 --section test --beam-size 1"
   ]
  },
  {
   "cell_type": "code",
   "execution_count": 55,
   "metadata": {},
   "outputs": [],
   "source": [
    "inferred = [json.loads(line) for line in open('logdirs/20190201-hs-allmatches-anysplit-multimean/filt-contains-hole_st-cov-examples_nt-80/infer-test-step02200-bs1-with-history.jsonl')]"
   ]
  },
  {
   "cell_type": "code",
   "execution_count": 63,
   "metadata": {},
   "outputs": [],
   "source": [
    "all_rules = json.load(\n",
    "    open('data/hearthstone-idioms-20190201/all-matches-trees-anysplit/filt-contains-hole_st-cov-examples_nt-80/nl2code/grammar_rules.json')\n",
    ")['all_rules']"
   ]
  },
  {
   "cell_type": "code",
   "execution_count": 72,
   "metadata": {},
   "outputs": [],
   "source": [
    "all_template_counts = []\n",
    "for example in inferred:\n",
    "    template_counts = collections.Counter()\n",
    "    for choice in example['beams'][0]['choice_history']:\n",
    "        if isinstance(choice, int):\n",
    "            rule = all_rules[choice]\n",
    "            if isinstance(rule[1], str) and re.match('Template\\d+', rule[1]):\n",
    "                template_counts[tuple(rule)] += 1\n",
    "    all_template_counts.append(template_counts)\n",
    "            "
   ]
  },
  {
   "cell_type": "code",
   "execution_count": 107,
   "metadata": {},
   "outputs": [
    {
     "name": "stdout",
     "output_type": "stream",
     "text": [
      "class Archmage(MinionCard):\n",
      "\n",
      "    def __init__(self):\n",
      "        super().__init__('Archmage', 6, CHARACTER_CLASS.ALL, CARD_RARITY.COMMON\n",
      "            )\n",
      "\n",
      "    def create_minion(self, player):\n",
      "        return Minion(4, 7, spell_damage=1)\n",
      "\n"
     ]
    }
   ],
   "source": [
    "print(inferred[0]['beams'][0]['inferred_code'])"
   ]
  },
  {
   "cell_type": "code",
   "execution_count": 109,
   "metadata": {},
   "outputs": [
    {
     "data": {
      "text/plain": [
       "[['mod', 'Template4'],\n",
       " 'Archmage',\n",
       " '<EOS>',\n",
       " ['expr*', 1],\n",
       " ['expr_seq_elem', 'Name'],\n",
       " ['Name', ['str']],\n",
       " 'Minion',\n",
       " 'Card',\n",
       " '<EOS>',\n",
       " ['stmt*', 2],\n",
       " ['stmt_seq_elem', 'Template13'],\n",
       " '__init__',\n",
       " '<EOS>',\n",
       " ['arguments_plus_templates', 'Template47'],\n",
       " ['arg_plus_templates*', 1],\n",
       " ['arg_plus_templates_seq_elem', 'arg'],\n",
       " ['arg', ['str', False]],\n",
       " 'self',\n",
       " '<EOS>',\n",
       " ['stmt*', 1],\n",
       " ['stmt_seq_elem', 'Template24'],\n",
       " ['Call', [True, True, False]],\n",
       " ['expr*', 4],\n",
       " ['expr_seq_elem', 'Str'],\n",
       " ['Str', ['str']],\n",
       " 'Archmage',\n",
       " '<EOS>',\n",
       " ['expr_seq_elem', 'Num'],\n",
       " ['Num', ['int']],\n",
       " '6',\n",
       " '<EOS>',\n",
       " ['expr_seq_elem', 'Attribute'],\n",
       " ['Attribute', [True, 'str']],\n",
       " ['expr', 'Name'],\n",
       " ['Name', ['str']],\n",
       " 'CHARACTER_CLASS',\n",
       " '<EOS>',\n",
       " 'ALL',\n",
       " '<EOS>',\n",
       " ['expr_seq_elem', 'Attribute'],\n",
       " ['Attribute', [True, 'str']],\n",
       " ['expr', 'Name'],\n",
       " ['Name', ['str']],\n",
       " 'CARD_RARITY',\n",
       " '<EOS>',\n",
       " 'COMMON',\n",
       " '<EOS>',\n",
       " ['stmt_seq_elem', 'FunctionDef'],\n",
       " ['FunctionDef', ['str', True, True, False, False]],\n",
       " 'create_minion',\n",
       " '<EOS>',\n",
       " ['arguments_plus_templates', 'Template33'],\n",
       " ['arg_plus_templates*', 2],\n",
       " ['arg_plus_templates_seq_elem', 'arg'],\n",
       " ['arg', ['str', False]],\n",
       " 'self',\n",
       " '<EOS>',\n",
       " ['arg_plus_templates_seq_elem', 'arg'],\n",
       " ['arg', ['str', False]],\n",
       " 'player',\n",
       " '<EOS>',\n",
       " ['stmt*', 1],\n",
       " ['stmt_seq_elem', 'Return'],\n",
       " ['Return', [True]],\n",
       " ['expr', 'Call'],\n",
       " ['Call', [True, True, True]],\n",
       " ['expr', 'Name'],\n",
       " ['Name', ['str']],\n",
       " 'Minion',\n",
       " '<EOS>',\n",
       " ['expr*', 2],\n",
       " ['expr_seq_elem', 'Num'],\n",
       " ['Num', ['int']],\n",
       " '4',\n",
       " '<EOS>',\n",
       " ['expr_seq_elem', 'Num'],\n",
       " ['Num', ['int']],\n",
       " '7',\n",
       " '<EOS>',\n",
       " ['keyword_plus_templates*', 1],\n",
       " ['keyword_plus_templates_seq_elem', 'keyword'],\n",
       " ['keyword', ['str', True]],\n",
       " 'spell_damage',\n",
       " '<EOS>',\n",
       " ['expr', 'Num'],\n",
       " ['Num', ['int']],\n",
       " '1',\n",
       " '<EOS>']"
      ]
     },
     "execution_count": 109,
     "metadata": {},
     "output_type": "execute_result"
    }
   ],
   "source": [
    "[all_rules[choice] if isinstance(choice, int) else choice for choice in inferred[0]['beams'][0]['choice_history']]"
   ]
  },
  {
   "cell_type": "markdown",
   "metadata": {},
   "source": [
    "## Most frequently selected idioms"
   ]
  },
  {
   "cell_type": "code",
   "execution_count": 86,
   "metadata": {},
   "outputs": [],
   "source": [
    "all_templates = {\n",
    "    'Template{}'.format(template['id']): template for template in \n",
    "    json.load(open('data/hearthstone-idioms-20190201/all-matches-trees-anysplit/filt-contains-hole_st-cov-examples_nt-80/templates.json'))\n",
    "}"
   ]
  },
  {
   "cell_type": "code",
   "execution_count": 112,
   "metadata": {},
   "outputs": [
    {
     "data": {
      "text/plain": [
       "Counter({('arguments_plus_templates', 'Template33'): 56,\n",
       "         ('arguments_plus_templates', 'Template36'): 9,\n",
       "         ('arguments_plus_templates', 'Template46'): 44,\n",
       "         ('arguments_plus_templates', 'Template47'): 31,\n",
       "         ('expr', 'Template22'): 2,\n",
       "         ('expr', 'Template25'): 1,\n",
       "         ('expr', 'Template39'): 1,\n",
       "         ('expr', 'Template41'): 1,\n",
       "         ('expr', 'Template59'): 3,\n",
       "         ('expr', 'Template68'): 8,\n",
       "         ('expr', 'Template74'): 1,\n",
       "         ('expr_seq_elem', 'Template26'): 1,\n",
       "         ('expr_seq_elem', 'Template42'): 1,\n",
       "         ('expr_seq_elem', 'Template45'): 1,\n",
       "         ('expr_seq_elem', 'Template54'): 3,\n",
       "         ('expr_seq_elem', 'Template55'): 2,\n",
       "         ('expr_seq_elem', 'Template68'): 19,\n",
       "         ('expr_seq_elem', 'Template74'): 2,\n",
       "         ('keyword_plus_templates_seq_elem', 'Template10'): 1,\n",
       "         ('keyword_plus_templates_seq_elem', 'Template34'): 6,\n",
       "         ('keyword_plus_templates_seq_elem', 'Template40'): 3,\n",
       "         ('keyword_plus_templates_seq_elem', 'Template63'): 3,\n",
       "         ('keyword_plus_templates_seq_elem', 'Template69'): 9,\n",
       "         ('keyword_plus_templates_seq_elem', 'Template70'): 2,\n",
       "         ('keyword_plus_templates_seq_elem', 'Template71'): 1,\n",
       "         ('keyword_plus_templates_seq_elem', 'Template76'): 14,\n",
       "         ('keyword_plus_templates_seq_elem', 'Template79'): 16,\n",
       "         ('mod', 'Template1'): 2,\n",
       "         ('mod', 'Template2'): 1,\n",
       "         ('mod', 'Template4'): 62,\n",
       "         ('stmt_seq_elem', 'Template13'): 45,\n",
       "         ('stmt_seq_elem', 'Template19'): 9,\n",
       "         ('stmt_seq_elem', 'Template20'): 1,\n",
       "         ('stmt_seq_elem', 'Template24'): 56,\n",
       "         ('stmt_seq_elem', 'Template6'): 1,\n",
       "         ('stmt_seq_elem', 'Template60'): 1,\n",
       "         ('stmt_seq_elem', 'Template61'): 2,\n",
       "         ('stmt_seq_elem', 'Template65'): 1,\n",
       "         ('stmt_seq_elem', 'Template66'): 2,\n",
       "         ('stmt_seq_elem', 'Template67'): 16,\n",
       "         ('stmt_seq_elem', 'Template75'): 49,\n",
       "         ('stmt_seq_elem', 'Template8'): 2})"
      ]
     },
     "execution_count": 112,
     "metadata": {},
     "output_type": "execute_result"
    }
   ],
   "source": [
    "most_frequent = sum(all_template_counts, collections.Counter())\n",
    "most_frequent"
   ]
  },
  {
   "cell_type": "code",
   "execution_count": 93,
   "metadata": {
    "scrolled": false
   },
   "outputs": [
    {
     "name": "stdout",
     "output_type": "stream",
     "text": [
      "Template4\n",
      "{'holes': [{'id': 0, 'type': 'AddChild'},\n",
      "           {'id': 1, 'type': 'AddChild'},\n",
      "           {'id': 2, 'type': 'ReplaceSelf'},\n",
      "           {'id': 3, 'type': 'AddChild'},\n",
      "           {'id': 4, 'type': 'AddChild'},\n",
      "           {'id': 5, 'type': 'ReplaceSelf'},\n",
      "           {'id': 6, 'type': 'ReplaceSelf'},\n",
      "           {'id': 7, 'type': 'ReplaceSelf'}],\n",
      " 'id': 4,\n",
      " 'idiom': ['Module',\n",
      "           [],\n",
      "           None,\n",
      "           [['ClassDef',\n",
      "             [],\n",
      "             None,\n",
      "             [['ClassDef-name', [], 0, []],\n",
      "              ['ClassDef-bases',\n",
      "               [],\n",
      "               None,\n",
      "               [['Name', [], 1, []],\n",
      "                ['ClassDef-bases', [], None, [['End', [], None, []]]]]],\n",
      "              ['ClassDef-keywords', [], None, [['End', [], None, []]]],\n",
      "              ['ClassDef-body',\n",
      "               [],\n",
      "               None,\n",
      "               [['FunctionDef',\n",
      "                 [],\n",
      "                 None,\n",
      "                 [['FunctionDef-name', [], None, [['__init__', [], None, []]]],\n",
      "                  ['FunctionDef-args',\n",
      "                   [],\n",
      "                   None,\n",
      "                   [['arguments',\n",
      "                     [],\n",
      "                     None,\n",
      "                     [['arguments-args',\n",
      "                       [],\n",
      "                       None,\n",
      "                       [['arg',\n",
      "                         [],\n",
      "                         None,\n",
      "                         [['arg-arg', [], None, [['self', [0], None, []]]],\n",
      "                          ['arg-annotation',\n",
      "                           [],\n",
      "                           None,\n",
      "                           [['Null', [], None, []]]]]],\n",
      "                        ['arguments-args', [], None, [['End', [], None, []]]]]],\n",
      "                      ['arguments-vararg', [], None, [['Null', [], None, []]]],\n",
      "                      ['arguments-kwonlyargs',\n",
      "                       [],\n",
      "                       None,\n",
      "                       [['End', [], None, []]]],\n",
      "                      ['arguments-kw_defaults',\n",
      "                       [],\n",
      "                       None,\n",
      "                       [['End', [], None, []]]],\n",
      "                      ['arguments-kwarg', [], None, [['Null', [], None, []]]],\n",
      "                      ['arguments-defaults',\n",
      "                       [],\n",
      "                       None,\n",
      "                       [['End', [], None, []]]]]]]],\n",
      "                  ['FunctionDef-body', [], 2, []],\n",
      "                  ['FunctionDef-decorator_list',\n",
      "                   [],\n",
      "                   None,\n",
      "                   [['End', [], None, []]]],\n",
      "                  ['FunctionDef-returns', [], None, [['Null', [], None, []]]]]],\n",
      "                ['ClassDef-body',\n",
      "                 [],\n",
      "                 None,\n",
      "                 [['FunctionDef',\n",
      "                   [],\n",
      "                   None,\n",
      "                   [['FunctionDef-name', [], 3, []],\n",
      "                    ['FunctionDef-args',\n",
      "                     [],\n",
      "                     None,\n",
      "                     [['arguments',\n",
      "                       [],\n",
      "                       None,\n",
      "                       [['arguments-args',\n",
      "                         [],\n",
      "                         None,\n",
      "                         [['arg',\n",
      "                           [],\n",
      "                           None,\n",
      "                           [['arg-arg', [], None, [['self', [0], None, []]]],\n",
      "                            ['arg-annotation',\n",
      "                             [],\n",
      "                             None,\n",
      "                             [['Null', [], None, []]]]]],\n",
      "                          ['arguments-args',\n",
      "                           [],\n",
      "                           None,\n",
      "                           [['arg',\n",
      "                             [],\n",
      "                             None,\n",
      "                             [['arg-arg', [], 4, []],\n",
      "                              ['arg-annotation',\n",
      "                               [],\n",
      "                               None,\n",
      "                               [['Null', [], None, []]]]]],\n",
      "                            ['arguments-args', [], 5, []]]]]],\n",
      "                        ['arguments-vararg',\n",
      "                         [],\n",
      "                         None,\n",
      "                         [['Null', [], None, []]]],\n",
      "                        ['arguments-kwonlyargs',\n",
      "                         [],\n",
      "                         None,\n",
      "                         [['End', [], None, []]]],\n",
      "                        ['arguments-kw_defaults',\n",
      "                         [],\n",
      "                         None,\n",
      "                         [['End', [], None, []]]],\n",
      "                        ['arguments-kwarg', [], None, [['Null', [], None, []]]],\n",
      "                        ['arguments-defaults',\n",
      "                         [],\n",
      "                         None,\n",
      "                         [['End', [], None, []]]]]]]],\n",
      "                    ['FunctionDef-body', [], 6, []],\n",
      "                    ['FunctionDef-decorator_list',\n",
      "                     [],\n",
      "                     None,\n",
      "                     [['End', [], None, []]]],\n",
      "                    ['FunctionDef-returns',\n",
      "                     [],\n",
      "                     None,\n",
      "                     [['Null', [], None, []]]]]],\n",
      "                  ['ClassDef-body', [], 7, []]]]]],\n",
      "              ['ClassDef-decorator_list', [], None, [['End', [], None, []]]]]],\n",
      "            ['Module', [], None, [['End', [], None, []]]]]]}\n",
      "\n",
      "Template33\n",
      "{'holes': [{'id': 0, 'type': 'ReplaceSelf'}],\n",
      " 'id': 33,\n",
      " 'idiom': ['arguments',\n",
      "           [],\n",
      "           None,\n",
      "           [['arguments-args',\n",
      "             [],\n",
      "             None,\n",
      "             [['arg',\n",
      "               [],\n",
      "               None,\n",
      "               [['arg-arg', [], None, [['self', [], None, []]]],\n",
      "                ['arg-annotation', [], None, [['Null', [], None, []]]]]],\n",
      "              ['arguments-args',\n",
      "               [],\n",
      "               None,\n",
      "               [['arg',\n",
      "                 [],\n",
      "                 None,\n",
      "                 [['arg-arg', [], None, [['player', [], None, []]]],\n",
      "                  ['arg-annotation', [], None, [['Null', [], None, []]]]]],\n",
      "                ['arguments-args', [], 0, []]]]]],\n",
      "            ['arguments-vararg', [], None, [['Null', [], None, []]]],\n",
      "            ['arguments-kwonlyargs', [], None, [['End', [], None, []]]],\n",
      "            ['arguments-kw_defaults', [], None, [['End', [], None, []]]],\n",
      "            ['arguments-kwarg', [], None, [['Null', [], None, []]]],\n",
      "            ['arguments-defaults', [], None, [['End', [], None, []]]]]]}\n",
      "\n",
      "Template24\n",
      "{'holes': [{'id': 0, 'type': 'AddChild'},\n",
      "           {'id': 1, 'type': 'AddChild'},\n",
      "           {'id': 2, 'type': 'AddChild'},\n",
      "           {'id': 3, 'type': 'AddChild'},\n",
      "           {'id': 4, 'type': 'ReplaceSelf'},\n",
      "           {'id': 5, 'type': 'ReplaceSelf'}],\n",
      " 'id': 24,\n",
      " 'idiom': ['Expr',\n",
      "           [],\n",
      "           None,\n",
      "           [['Call',\n",
      "             [],\n",
      "             None,\n",
      "             [['Call-func',\n",
      "               [],\n",
      "               None,\n",
      "               [['Attribute',\n",
      "                 [],\n",
      "                 None,\n",
      "                 [['Attribute-value',\n",
      "                   [],\n",
      "                   None,\n",
      "                   [['Call',\n",
      "                     [],\n",
      "                     None,\n",
      "                     [['Call-func',\n",
      "                       [],\n",
      "                       None,\n",
      "                       [['Name', [], None, [['super', [], None, []]]]]],\n",
      "                      ['Call-args', [], None, [['End', [], None, []]]],\n",
      "                      ['Call-keywords', [], None, [['End', [], None, []]]]]]]],\n",
      "                  ['Attribute-attr',\n",
      "                   [],\n",
      "                   None,\n",
      "                   [['__init__', [], None, []]]]]]]],\n",
      "              ['Call-args',\n",
      "               [],\n",
      "               None,\n",
      "               [['Str', [], 0, []],\n",
      "                ['Call-args',\n",
      "                 [],\n",
      "                 None,\n",
      "                 [['Num', [], 1, []],\n",
      "                  ['Call-args',\n",
      "                   [],\n",
      "                   None,\n",
      "                   [['Attribute',\n",
      "                     [],\n",
      "                     None,\n",
      "                     [['Attribute-value',\n",
      "                       [],\n",
      "                       None,\n",
      "                       [['Name',\n",
      "                         [],\n",
      "                         None,\n",
      "                         [['CHARACTER_CLASS', [], None, []]]]]],\n",
      "                      ['Attribute-attr', [], 2, []]]],\n",
      "                    ['Call-args',\n",
      "                     [],\n",
      "                     None,\n",
      "                     [['Attribute',\n",
      "                       [],\n",
      "                       None,\n",
      "                       [['Attribute-value',\n",
      "                         [],\n",
      "                         None,\n",
      "                         [['Name', [], None, [['CARD_RARITY', [], None, []]]]]],\n",
      "                        ['Attribute-attr', [], 3, []]]],\n",
      "                      ['Call-args', [], 4, []]]]]]]]]],\n",
      "              ['Call-keywords', [], 5, []]]]]]}\n",
      "\n",
      "Template75\n",
      "{'holes': [{'id': 0, 'type': 'AddChild'},\n",
      "           {'id': 1, 'type': 'AddChild'},\n",
      "           {'id': 2, 'type': 'ReplaceSelf'}],\n",
      " 'id': 75,\n",
      " 'idiom': ['Expr',\n",
      "           [],\n",
      "           None,\n",
      "           [['Call',\n",
      "             [],\n",
      "             None,\n",
      "             [['Call-func',\n",
      "               [],\n",
      "               None,\n",
      "               [['Attribute',\n",
      "                 [],\n",
      "                 None,\n",
      "                 [['Attribute-value', [], 0, []],\n",
      "                  ['Attribute-attr', [], 1, []]]]]],\n",
      "              ['Call-args', [], 2, []],\n",
      "              ['Call-keywords', [], None, [['End', [], None, []]]]]]]]}\n",
      "\n",
      "Template13\n",
      "{'holes': [{'id': 0, 'type': 'AddChild'},\n",
      "           {'id': 1, 'type': 'ReplaceSelf'},\n",
      "           {'id': 2, 'type': 'AddChild'},\n",
      "           {'id': 3, 'type': 'AddChild'},\n",
      "           {'id': 4, 'type': 'ReplaceSelf'},\n",
      "           {'id': 5, 'type': 'ReplaceSelf'}],\n",
      " 'id': 13,\n",
      " 'idiom': ['FunctionDef',\n",
      "           [],\n",
      "           None,\n",
      "           [['FunctionDef-name', [], 0, []],\n",
      "            ['FunctionDef-args',\n",
      "             [],\n",
      "             None,\n",
      "             [['arguments',\n",
      "               [],\n",
      "               None,\n",
      "               [['arguments-args',\n",
      "                 [],\n",
      "                 None,\n",
      "                 [['arg',\n",
      "                   [],\n",
      "                   None,\n",
      "                   [['arg-arg', [], None, [['self', [], None, []]]],\n",
      "                    ['arg-annotation', [], None, [['Null', [], None, []]]]]],\n",
      "                  ['arguments-args', [], 1, []]]],\n",
      "                ['arguments-vararg', [], None, [['Null', [], None, []]]],\n",
      "                ['arguments-kwonlyargs', [], None, [['End', [], None, []]]],\n",
      "                ['arguments-kw_defaults', [], None, [['End', [], None, []]]],\n",
      "                ['arguments-kwarg', [], None, [['Null', [], None, []]]],\n",
      "                ['arguments-defaults', [], None, [['End', [], None, []]]]]]]],\n",
      "            ['FunctionDef-body',\n",
      "             [],\n",
      "             None,\n",
      "             [['Expr',\n",
      "               [],\n",
      "               None,\n",
      "               [['Call',\n",
      "                 [],\n",
      "                 None,\n",
      "                 [['Call-func',\n",
      "                   [],\n",
      "                   None,\n",
      "                   [['Attribute',\n",
      "                     [],\n",
      "                     None,\n",
      "                     [['Attribute-value', [], 2, []],\n",
      "                      ['Attribute-attr', [], 3, []]]]]],\n",
      "                  ['Call-args', [], 4, []],\n",
      "                  ['Call-keywords', [], 5, []]]]]],\n",
      "              ['FunctionDef-body', [], None, [['End', [], None, []]]]]],\n",
      "            ['FunctionDef-decorator_list', [], None, [['End', [], None, []]]],\n",
      "            ['FunctionDef-returns', [], None, [['Null', [], None, []]]]]]}\n",
      "\n"
     ]
    }
   ],
   "source": [
    "import pprint\n",
    "for (lhs, rhs), count in most_frequent:\n",
    "    print(rhs)\n",
    "    pprint.pprint(all_templates[rhs])\n",
    "    print()"
   ]
  },
  {
   "cell_type": "markdown",
   "metadata": {},
   "source": [
    "## Idioms that appear in the greatest number of instances"
   ]
  },
  {
   "cell_type": "code",
   "execution_count": 97,
   "metadata": {},
   "outputs": [
    {
     "data": {
      "text/plain": [
       "[(('mod', 'Template4'), 62),\n",
       " (('stmt_seq_elem', 'Template24'), 56),\n",
       " (('arguments_plus_templates', 'Template33'), 55),\n",
       " (('stmt_seq_elem', 'Template13'), 45),\n",
       " (('arguments_plus_templates', 'Template46'), 43)]"
      ]
     },
     "execution_count": 97,
     "metadata": {},
     "output_type": "execute_result"
    }
   ],
   "source": [
    "most_common = collections.Counter(itertools.chain.from_iterable(c.keys() for c in all_template_counts)).most_common(5)\n",
    "most_common"
   ]
  },
  {
   "cell_type": "code",
   "execution_count": 101,
   "metadata": {},
   "outputs": [
    {
     "name": "stdout",
     "output_type": "stream",
     "text": [
      "Template46\n",
      "{'holes': [{'id': 0, 'type': 'AddChild'}],\n",
      " 'id': 46,\n",
      " 'idiom': ['arguments',\n",
      "           [],\n",
      "           None,\n",
      "           [['arguments-args',\n",
      "             [],\n",
      "             None,\n",
      "             [['arg',\n",
      "               [],\n",
      "               None,\n",
      "               [['arg-arg', [], 0, []],\n",
      "                ['arg-annotation', [], None, [['Null', [], None, []]]]]],\n",
      "              ['arguments-args', [], None, [['End', [], None, []]]]]],\n",
      "            ['arguments-vararg', [], None, [['Null', [], None, []]]],\n",
      "            ['arguments-kwonlyargs', [], None, [['End', [], None, []]]],\n",
      "            ['arguments-kw_defaults', [], None, [['End', [], None, []]]],\n",
      "            ['arguments-kwarg', [], None, [['Null', [], None, []]]],\n",
      "            ['arguments-defaults', [], None, [['End', [], None, []]]]]]}\n",
      "\n"
     ]
    }
   ],
   "source": [
    "already_printed = {rhs for (_, rhs), _ in most_frequent}\n",
    "for (lhs, rhs), count in most_common:\n",
    "    if rhs in already_printed:\n",
    "        continue\n",
    "    print(rhs)\n",
    "    pprint.pprint(all_templates[rhs])\n",
    "    print()"
   ]
  },
  {
   "cell_type": "code",
   "execution_count": 102,
   "metadata": {},
   "outputs": [
    {
     "data": {
      "text/plain": [
       "66"
      ]
     },
     "execution_count": 102,
     "metadata": {},
     "output_type": "execute_result"
    }
   ],
   "source": [
    "len(inferred)"
   ]
  },
  {
   "cell_type": "code",
   "execution_count": null,
   "metadata": {},
   "outputs": [],
   "source": []
  }
 ],
 "metadata": {
  "kernelspec": {
   "display_name": "Python 3",
   "language": "python",
   "name": "python3"
  },
  "language_info": {
   "codemirror_mode": {
    "name": "ipython",
    "version": 3
   },
   "file_extension": ".py",
   "mimetype": "text/x-python",
   "name": "python",
   "nbconvert_exporter": "python",
   "pygments_lexer": "ipython3",
   "version": "3.5.2"
  }
 },
 "nbformat": 4,
 "nbformat_minor": 2
}
