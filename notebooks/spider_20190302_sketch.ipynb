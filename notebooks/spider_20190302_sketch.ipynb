{
 "cells": [
  {
   "cell_type": "code",
   "execution_count": 2,
   "metadata": {},
   "outputs": [],
   "source": [
    "from seq2struct.datasets import spider\n",
    "import json"
   ]
  },
  {
   "cell_type": "code",
   "execution_count": 3,
   "metadata": {},
   "outputs": [],
   "source": [
    "best_stats = json.load(\n",
    "    open('../logdirs/20190223/output_from=false,qenc=eb,ctenc=ebs,upd_steps=4,max_steps=80000,batch_size=20/eval-val-step28100-bs1.jsonl'))"
   ]
  },
  {
   "cell_type": "code",
   "execution_count": 6,
   "metadata": {
    "scrolled": false
   },
   "outputs": [
    {
     "data": {
      "text/plain": [
       "{'count': 1034,\n",
       " 'exact': 0.2678916827852998,\n",
       " 'exec': 0,\n",
       " 'partial': {'IUEN': {'acc': 0.1368421052631579,\n",
       "   'acc_count': 95,\n",
       "   'f1': 0.15028901734104047,\n",
       "   'rec': 0.16666666666666666,\n",
       "   'rec_count': 78},\n",
       "  'and/or': {'acc': 0.9581673306772909,\n",
       "   'acc_count': 1004,\n",
       "   'f1': 0.962962962962963,\n",
       "   'rec': 0.9678068410462777,\n",
       "   'rec_count': 994},\n",
       "  'group': {'acc': 0.5300751879699248,\n",
       "   'acc_count': 266,\n",
       "   'f1': 0.5271028037383177,\n",
       "   'rec': 0.5241635687732342,\n",
       "   'rec_count': 269},\n",
       "  'group(no Having)': {'acc': 0.5488721804511278,\n",
       "   'acc_count': 266,\n",
       "   'f1': 0.5457943925233645,\n",
       "   'rec': 0.5427509293680297,\n",
       "   'rec_count': 269},\n",
       "  'keywords': {'acc': 0.7764842840512224,\n",
       "   'acc_count': 859,\n",
       "   'f1': 0.7733333333333333,\n",
       "   'rec': 0.7702078521939953,\n",
       "   'rec_count': 866},\n",
       "  'order': {'acc': 0.6090909090909091,\n",
       "   'acc_count': 220,\n",
       "   'f1': 0.5864332603938731,\n",
       "   'rec': 0.5654008438818565,\n",
       "   'rec_count': 237},\n",
       "  'select': {'acc': 0.6373307543520309,\n",
       "   'acc_count': 1034,\n",
       "   'f1': 0.6373307543520309,\n",
       "   'rec': 0.6373307543520309,\n",
       "   'rec_count': 1034},\n",
       "  'select(no AGG)': {'acc': 0.6460348162475822,\n",
       "   'acc_count': 1034,\n",
       "   'f1': 0.6460348162475822,\n",
       "   'rec': 0.6460348162475822,\n",
       "   'rec_count': 1034},\n",
       "  'where': {'acc': 0.34328358208955223,\n",
       "   'acc_count': 469,\n",
       "   'f1': 0.34074074074074073,\n",
       "   'rec': 0.3382352941176471,\n",
       "   'rec_count': 476},\n",
       "  'where(no OP)': {'acc': 0.3859275053304904,\n",
       "   'acc_count': 469,\n",
       "   'f1': 0.383068783068783,\n",
       "   'rec': 0.3802521008403361,\n",
       "   'rec_count': 476}}}"
      ]
     },
     "execution_count": 6,
     "metadata": {},
     "output_type": "execute_result"
    }
   ],
   "source": [
    "best_stats['total_scores']['all']"
   ]
  },
  {
   "cell_type": "code",
   "execution_count": null,
   "metadata": {},
   "outputs": [],
   "source": []
  }
 ],
 "metadata": {
  "kernelspec": {
   "display_name": "Python 3",
   "language": "python",
   "name": "python3"
  },
  "language_info": {
   "codemirror_mode": {
    "name": "ipython",
    "version": 3
   },
   "file_extension": ".py",
   "mimetype": "text/x-python",
   "name": "python",
   "nbconvert_exporter": "python",
   "pygments_lexer": "ipython3",
   "version": "3.5.2"
  }
 },
 "nbformat": 4,
 "nbformat_minor": 2
}
