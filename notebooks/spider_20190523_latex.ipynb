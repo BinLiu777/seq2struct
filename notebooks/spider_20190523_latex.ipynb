{
 "cells": [
  {
   "cell_type": "code",
   "execution_count": 45,
   "metadata": {},
   "outputs": [],
   "source": [
    "import json\n",
    "import os\n",
    "import re\n",
    "import glob\n",
    "\n",
    "import pandas as pd"
   ]
  },
  {
   "cell_type": "code",
   "execution_count": 46,
   "metadata": {},
   "outputs": [],
   "source": [
    "#Baseline (nl2code-0428-stability bs=50,lr=1.0e-03,end_lr=0e0,att=2)\n",
    "#–no word embeddings (glove=false,upd_type=full,num_layers=4,att=0)\n",
    "#–fewer self-attention layers (glove=true,upd_type=full,num_layers=2,att=0)\n",
    "#–no relation-aware self-attention (glove=true,upd_type=full,num_layers=0,att=0)\n",
    "#-remove some types (glove=true,upd_type=no_subtypes,num_layers=4)\n",
    "#-remove all types (glove=true,upd_type=merge_types,num_layers=4)\n",
    "\n",
    "beam_size = 1"
   ]
  },
  {
   "cell_type": "code",
   "execution_count": 50,
   "metadata": {
    "scrolled": false
   },
   "outputs": [
    {
     "name": "stdout",
     "output_type": "stream",
     "text": [
      "../logdirs/20190428-stability/bs=50,lr=1.0e-03,end_lr=0e0\n",
      "../logdirs/20190521-ablations/glove=true,upd_type=full,num_layers=0\n",
      "../logdirs/20190521-ablations/glove=true,upd_type=full,num_layers=2\n",
      "../logdirs/20190521-ablations/glove=true,upd_type=no_subtypes,num_layers=4\n",
      "../logdirs/20190521-ablations/glove=true,upd_type=merge_types,num_layers=4\n",
      "../logdirs/20190521-ablations/glove=false,upd_type=full,num_layers=4\n"
     ]
    }
   ],
   "source": [
    "prefixes = (\n",
    "    '../logdirs/20190428-stability/bs=50,lr=1.0e-03,end_lr=0e0',\n",
    "    '../logdirs/20190521-ablations/glove=true,upd_type=full,num_layers=0',\n",
    "    '../logdirs/20190521-ablations/glove=true,upd_type=full,num_layers=2',\n",
    "    '../logdirs/20190521-ablations/glove=true,upd_type=no_subtypes,num_layers=4',\n",
    "    '../logdirs/20190521-ablations/glove=true,upd_type=merge_types,num_layers=4',\n",
    "    '../logdirs/20190521-ablations/glove=false,upd_type=full,num_layers=4',\n",
    ")\n",
    "exp_names = [os.path.basename(prefix) for prefix in prefixes]\n",
    "results = {}\n",
    "\n",
    "for prefix in prefixes:\n",
    "    exp_name = os.path.basename(prefix)\n",
    "    results[exp_name] = results_for_exp = {}\n",
    "    for att_path in sorted(glob.glob(prefix + ',att=*')):\n",
    "        att_number = re.search('att=(\\d+)$', att_path).group(0)\n",
    "        eval_paths = glob.glob(os.path.join(att_path, 'eval-val-step*-bs{beam_size}.jsonl'.format(beam_size=beam_size)))\n",
    "        for eval_path in eval_paths:\n",
    "            step = int(re.search('step(\\d+)', eval_path).group(1))\n",
    "            scores = json.load(open(eval_path))\n",
    "            results_for_exp[att_number, step] = scores\n",
    "    print(prefix)"
   ]
  },
  {
   "cell_type": "code",
   "execution_count": 48,
   "metadata": {},
   "outputs": [],
   "source": [
    "friendly_exp_names = (\n",
    "    'Our method',\n",
    "    'No self-attention layers',\n",
    "    '2 self-attention layers',\n",
    "    'Fewer relation types',\n",
    "    'No relation types',\n",
    "    'No pretrained word embeddings'\n",
    ")"
   ]
  },
  {
   "cell_type": "code",
   "execution_count": 44,
   "metadata": {},
   "outputs": [
    {
     "name": "stdout",
     "output_type": "stream",
     "text": [
      "Our method & 57.20\\% & 44.55\\% & 39.66\\% & 21.18\\% & 42.94\\% \\\\\n",
      "No self-attention layers & 42.40\\% & 24.77\\% & 22.41\\% & 5.88\\% & 25.53\\% \\\\\n",
      "2 self-attention layers & 53.60\\% & 42.50\\% & 40.80\\% & 17.65\\% & 40.81\\% \\\\\n",
      "Fewer relation types & 44.80\\% & 30.45\\% & 25.86\\% & 7.65\\% & 29.40\\% \\\\\n",
      "No relation types & 42.40\\% & 28.86\\% & 28.74\\% & 7.65\\% & 28.63\\% \\\\\n",
      "No pretrained word embeddings & 40.80\\% & 29.09\\% & 27.01\\% & 5.88\\% & 27.76\\% \\\\\n"
     ]
    }
   ],
   "source": [
    "for exp, friendly_name in zip(exp_names, friendly_exp_names):\n",
    "    rows = []\n",
    "    rows.extend((exp, k, v) for k, v in results[exp].items())\n",
    "\n",
    "    best = max(rows, key=lambda x: x[2]['total_scores']['all']['exact'])\n",
    "    assert len(best[2]['per_item']) == 1034\n",
    "    scores = [best[2]['total_scores'][sec]['exact'] for sec in ('easy', 'medium', 'hard', 'extra', 'all')]\n",
    "    print(friendly_name, '&', ' & '.join('{:.2f}\\%'.format(s * 100) for s in scores), r'\\\\')"
   ]
  },
  {
   "cell_type": "code",
   "execution_count": 51,
   "metadata": {},
   "outputs": [
    {
     "name": "stdout",
     "output_type": "stream",
     "text": [
      "Our method & 57.20\\% & 44.55\\% & 39.66\\% & 21.18\\% & 42.94\\% \\\\\n",
      "No self-attention layers & 42.00\\% & 25.68\\% & 22.99\\% & 5.88\\% & 25.92\\% \\\\\n",
      "2 self-attention layers & 56.00\\% & 45.00\\% & 40.23\\% & 19.41\\% & 42.65\\% \\\\\n",
      "Fewer relation types & 47.60\\% & 30.45\\% & 25.86\\% & 10.00\\% & 30.46\\% \\\\\n",
      "No relation types & 46.80\\% & 29.55\\% & 29.89\\% & 8.82\\% & 30.37\\% \\\\\n",
      "No pretrained word embeddings & 40.80\\% & 29.09\\% & 27.01\\% & 5.88\\% & 27.76\\% \\\\\n"
     ]
    }
   ],
   "source": [
    "# On 2019-05-25\n",
    "for exp, friendly_name in zip(exp_names, friendly_exp_names):\n",
    "    rows = []\n",
    "    rows.extend((exp, k, v) for k, v in results[exp].items())\n",
    "\n",
    "    best = max(rows, key=lambda x: x[2]['total_scores']['all']['exact'])\n",
    "    assert len(best[2]['per_item']) == 1034\n",
    "    scores = [best[2]['total_scores'][sec]['exact'] for sec in ('easy', 'medium', 'hard', 'extra', 'all')]\n",
    "    print(friendly_name, '&', ' & '.join('{:.2f}\\%'.format(s * 100) for s in scores), r'\\\\')"
   ]
  },
  {
   "cell_type": "code",
   "execution_count": null,
   "metadata": {},
   "outputs": [],
   "source": []
  }
 ],
 "metadata": {
  "kernelspec": {
   "display_name": "Python 3",
   "language": "python",
   "name": "python3"
  },
  "language_info": {
   "codemirror_mode": {
    "name": "ipython",
    "version": 3
   },
   "file_extension": ".py",
   "mimetype": "text/x-python",
   "name": "python",
   "nbconvert_exporter": "python",
   "pygments_lexer": "ipython3",
   "version": "3.5.2"
  }
 },
 "nbformat": 4,
 "nbformat_minor": 2
}
